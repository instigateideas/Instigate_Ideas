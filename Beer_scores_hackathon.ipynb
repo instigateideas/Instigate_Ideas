{
 "cells": [
  {
   "cell_type": "markdown",
   "metadata": {},
   "source": [
    "## Data Preparation - Beer Dataset"
   ]
  },
  {
   "cell_type": "code",
   "execution_count": 1,
   "metadata": {},
   "outputs": [],
   "source": [
    "import pandas as pd\n",
    "import numpy as np\n",
    "import os, re\n",
    "import matplotlib.pyplot as plt\n",
    "import nltk\n",
    "%matplotlib inline"
   ]
  },
  {
   "cell_type": "code",
   "execution_count": 2,
   "metadata": {},
   "outputs": [],
   "source": [
    "os.chdir(r'D:\\Hackathon\\How-To-Choose-The-Perfect-Beer-Data-Set')"
   ]
  },
  {
   "cell_type": "code",
   "execution_count": 3,
   "metadata": {},
   "outputs": [
    {
     "data": {
      "text/plain": [
       "((185643, 10), (20628, 10))"
      ]
     },
     "execution_count": 3,
     "metadata": {},
     "output_type": "execute_result"
    }
   ],
   "source": [
    "train_data=pd.read_csv('Beer Train Data Set.csv')\n",
    "test_data=pd.read_csv('Beer Test Data Set.csv')\n",
    "train_data.shape, test_data.shape"
   ]
  },
  {
   "cell_type": "code",
   "execution_count": 4,
   "metadata": {},
   "outputs": [
    {
     "data": {
      "text/html": [
       "<div>\n",
       "<style scoped>\n",
       "    .dataframe tbody tr th:only-of-type {\n",
       "        vertical-align: middle;\n",
       "    }\n",
       "\n",
       "    .dataframe tbody tr th {\n",
       "        vertical-align: top;\n",
       "    }\n",
       "\n",
       "    .dataframe thead th {\n",
       "        text-align: right;\n",
       "    }\n",
       "</style>\n",
       "<table border=\"1\" class=\"dataframe\">\n",
       "  <thead>\n",
       "    <tr style=\"text-align: right;\">\n",
       "      <th></th>\n",
       "      <th>ABV</th>\n",
       "      <th>Brewing Company</th>\n",
       "      <th>Food Paring</th>\n",
       "      <th>Glassware Used</th>\n",
       "      <th>Beer Name</th>\n",
       "      <th>Ratings</th>\n",
       "      <th>Style Name</th>\n",
       "      <th>Cellar Temperature</th>\n",
       "      <th>Serving Temperature</th>\n",
       "      <th>Score</th>\n",
       "    </tr>\n",
       "  </thead>\n",
       "  <tbody>\n",
       "    <tr>\n",
       "      <th>0</th>\n",
       "      <td>6.5</td>\n",
       "      <td>8929</td>\n",
       "      <td>(Curried,Thai)Cheese(pepperyMontereyPepperJack...</td>\n",
       "      <td>PintGlass(orBecker,Nonic,Tumbler),Mug(orSeidel...</td>\n",
       "      <td>15121</td>\n",
       "      <td>22</td>\n",
       "      <td>AmericanIPA</td>\n",
       "      <td>40-45</td>\n",
       "      <td>45-50</td>\n",
       "      <td>3.28</td>\n",
       "    </tr>\n",
       "    <tr>\n",
       "      <th>1</th>\n",
       "      <td>5.5</td>\n",
       "      <td>13187</td>\n",
       "      <td>(PanAsian)Cheese(earthyCamembert,Fontina,nutty...</td>\n",
       "      <td>PintGlass(orBecker,Nonic,Tumbler),Mug(orSeidel...</td>\n",
       "      <td>59817</td>\n",
       "      <td>1</td>\n",
       "      <td>AmericanPaleAle(APA)</td>\n",
       "      <td>35-40</td>\n",
       "      <td>40-45</td>\n",
       "      <td>3.52</td>\n",
       "    </tr>\n",
       "    <tr>\n",
       "      <th>2</th>\n",
       "      <td>8.1</td>\n",
       "      <td>6834</td>\n",
       "      <td>Meat(Pork,Poultry)</td>\n",
       "      <td>PintGlass(orBecker,Nonic,Tumbler),Mug(orSeidel...</td>\n",
       "      <td>32669</td>\n",
       "      <td>3</td>\n",
       "      <td>IrishRedAle</td>\n",
       "      <td>35-40</td>\n",
       "      <td>40-45</td>\n",
       "      <td>4.01</td>\n",
       "    </tr>\n",
       "    <tr>\n",
       "      <th>3</th>\n",
       "      <td>NaN</td>\n",
       "      <td>11688</td>\n",
       "      <td>(Indian,LatinAmerican,PanAsian)General(Aperitif)</td>\n",
       "      <td>PintGlass(orBecker,Nonic,Tumbler),PilsenerGlas...</td>\n",
       "      <td>130798</td>\n",
       "      <td>0</td>\n",
       "      <td>AmericanMaltLiquor</td>\n",
       "      <td>35-40</td>\n",
       "      <td>35-40</td>\n",
       "      <td>0.00</td>\n",
       "    </tr>\n",
       "    <tr>\n",
       "      <th>4</th>\n",
       "      <td>6.0</td>\n",
       "      <td>10417</td>\n",
       "      <td>Meat(Poultry,Fish,Shellfish)</td>\n",
       "      <td>PilsenerGlass(orPokal)</td>\n",
       "      <td>124087</td>\n",
       "      <td>1</td>\n",
       "      <td>EuroPaleLager</td>\n",
       "      <td>35-40</td>\n",
       "      <td>40-45</td>\n",
       "      <td>2.73</td>\n",
       "    </tr>\n",
       "  </tbody>\n",
       "</table>\n",
       "</div>"
      ],
      "text/plain": [
       "   ABV  Brewing Company                                        Food Paring  \\\n",
       "0  6.5             8929  (Curried,Thai)Cheese(pepperyMontereyPepperJack...   \n",
       "1  5.5            13187  (PanAsian)Cheese(earthyCamembert,Fontina,nutty...   \n",
       "2  8.1             6834                                 Meat(Pork,Poultry)   \n",
       "3  NaN            11688   (Indian,LatinAmerican,PanAsian)General(Aperitif)   \n",
       "4  6.0            10417                       Meat(Poultry,Fish,Shellfish)   \n",
       "\n",
       "                                      Glassware Used  Beer Name Ratings  \\\n",
       "0  PintGlass(orBecker,Nonic,Tumbler),Mug(orSeidel...      15121      22   \n",
       "1  PintGlass(orBecker,Nonic,Tumbler),Mug(orSeidel...      59817       1   \n",
       "2  PintGlass(orBecker,Nonic,Tumbler),Mug(orSeidel...      32669       3   \n",
       "3  PintGlass(orBecker,Nonic,Tumbler),PilsenerGlas...     130798       0   \n",
       "4                             PilsenerGlass(orPokal)     124087       1   \n",
       "\n",
       "             Style Name Cellar Temperature Serving Temperature  Score  \n",
       "0           AmericanIPA              40-45               45-50   3.28  \n",
       "1  AmericanPaleAle(APA)              35-40               40-45   3.52  \n",
       "2           IrishRedAle              35-40               40-45   4.01  \n",
       "3    AmericanMaltLiquor              35-40               35-40   0.00  \n",
       "4         EuroPaleLager              35-40               40-45   2.73  "
      ]
     },
     "execution_count": 4,
     "metadata": {},
     "output_type": "execute_result"
    }
   ],
   "source": [
    "train_data.head()"
   ]
  },
  {
   "cell_type": "code",
   "execution_count": 5,
   "metadata": {},
   "outputs": [
    {
     "data": {
      "text/html": [
       "<div>\n",
       "<style scoped>\n",
       "    .dataframe tbody tr th:only-of-type {\n",
       "        vertical-align: middle;\n",
       "    }\n",
       "\n",
       "    .dataframe tbody tr th {\n",
       "        vertical-align: top;\n",
       "    }\n",
       "\n",
       "    .dataframe thead th {\n",
       "        text-align: right;\n",
       "    }\n",
       "</style>\n",
       "<table border=\"1\" class=\"dataframe\">\n",
       "  <thead>\n",
       "    <tr style=\"text-align: right;\">\n",
       "      <th></th>\n",
       "      <th>ABV</th>\n",
       "      <th>Brewing Company</th>\n",
       "      <th>Food Paring</th>\n",
       "      <th>Glassware Used</th>\n",
       "      <th>Beer Name</th>\n",
       "      <th>Ratings</th>\n",
       "      <th>Style Name</th>\n",
       "      <th>Cellar Temperature</th>\n",
       "      <th>Serving Temperature</th>\n",
       "      <th>Score</th>\n",
       "    </tr>\n",
       "  </thead>\n",
       "  <tbody>\n",
       "    <tr>\n",
       "      <th>0</th>\n",
       "      <td>6.2</td>\n",
       "      <td>8803</td>\n",
       "      <td>(Curried,Thai)Cheese(pepperyMontereyPepperJack...</td>\n",
       "      <td>PintGlass(orBecker,Nonic,Tumbler),Mug(orSeidel...</td>\n",
       "      <td>34558</td>\n",
       "      <td>3</td>\n",
       "      <td>AmericanIPA</td>\n",
       "      <td>40-45</td>\n",
       "      <td>45-50</td>\n",
       "      <td>NaN</td>\n",
       "    </tr>\n",
       "    <tr>\n",
       "      <th>1</th>\n",
       "      <td>5.3</td>\n",
       "      <td>8558</td>\n",
       "      <td>(Barbecue)Cheese(butteryBrie,Gouda,Havarti,Swi...</td>\n",
       "      <td>PintGlass(orBecker,Nonic,Tumbler),Mug(orSeidel...</td>\n",
       "      <td>86826</td>\n",
       "      <td>20</td>\n",
       "      <td>AmericanPorter</td>\n",
       "      <td>40-45</td>\n",
       "      <td>45-50</td>\n",
       "      <td>NaN</td>\n",
       "    </tr>\n",
       "    <tr>\n",
       "      <th>2</th>\n",
       "      <td>7.0</td>\n",
       "      <td>7519</td>\n",
       "      <td>Cheese(earthyCamembert,Fontina)General(Aperitif)</td>\n",
       "      <td>Snifter,Tulip,OversizedWineGlass</td>\n",
       "      <td>17051</td>\n",
       "      <td>0</td>\n",
       "      <td>BelgianDarkAle</td>\n",
       "      <td>45-50</td>\n",
       "      <td>45-50</td>\n",
       "      <td>NaN</td>\n",
       "    </tr>\n",
       "    <tr>\n",
       "      <th>3</th>\n",
       "      <td>5.2</td>\n",
       "      <td>9852</td>\n",
       "      <td>(LatinAmerican,German)Meat(Pork,Poultry)</td>\n",
       "      <td>Flute,PilsenerGlass(orPokal),Mug(orSeidel,Stein)</td>\n",
       "      <td>49156</td>\n",
       "      <td>2</td>\n",
       "      <td>ViennaLager</td>\n",
       "      <td>35-40</td>\n",
       "      <td>40-45</td>\n",
       "      <td>NaN</td>\n",
       "    </tr>\n",
       "    <tr>\n",
       "      <th>4</th>\n",
       "      <td>8.1</td>\n",
       "      <td>8991</td>\n",
       "      <td>(Barbecue)Cheese(butteryBrie,Gouda,Havarti,Swi...</td>\n",
       "      <td>PintGlass(orBecker,Nonic,Tumbler),Mug(orSeidel...</td>\n",
       "      <td>162723</td>\n",
       "      <td>5</td>\n",
       "      <td>AmericanPorter</td>\n",
       "      <td>40-45</td>\n",
       "      <td>45-50</td>\n",
       "      <td>NaN</td>\n",
       "    </tr>\n",
       "  </tbody>\n",
       "</table>\n",
       "</div>"
      ],
      "text/plain": [
       "   ABV  Brewing Company                                        Food Paring  \\\n",
       "0  6.2             8803  (Curried,Thai)Cheese(pepperyMontereyPepperJack...   \n",
       "1  5.3             8558  (Barbecue)Cheese(butteryBrie,Gouda,Havarti,Swi...   \n",
       "2  7.0             7519   Cheese(earthyCamembert,Fontina)General(Aperitif)   \n",
       "3  5.2             9852           (LatinAmerican,German)Meat(Pork,Poultry)   \n",
       "4  8.1             8991  (Barbecue)Cheese(butteryBrie,Gouda,Havarti,Swi...   \n",
       "\n",
       "                                      Glassware Used  Beer Name Ratings  \\\n",
       "0  PintGlass(orBecker,Nonic,Tumbler),Mug(orSeidel...      34558       3   \n",
       "1  PintGlass(orBecker,Nonic,Tumbler),Mug(orSeidel...      86826      20   \n",
       "2                   Snifter,Tulip,OversizedWineGlass      17051       0   \n",
       "3   Flute,PilsenerGlass(orPokal),Mug(orSeidel,Stein)      49156       2   \n",
       "4  PintGlass(orBecker,Nonic,Tumbler),Mug(orSeidel...     162723       5   \n",
       "\n",
       "       Style Name Cellar Temperature Serving Temperature  Score  \n",
       "0     AmericanIPA              40-45               45-50    NaN  \n",
       "1  AmericanPorter              40-45               45-50    NaN  \n",
       "2  BelgianDarkAle              45-50               45-50    NaN  \n",
       "3     ViennaLager              35-40               40-45    NaN  \n",
       "4  AmericanPorter              40-45               45-50    NaN  "
      ]
     },
     "execution_count": 5,
     "metadata": {},
     "output_type": "execute_result"
    }
   ],
   "source": [
    "test_data.head()"
   ]
  },
  {
   "cell_type": "code",
   "execution_count": 6,
   "metadata": {},
   "outputs": [
    {
     "name": "stdout",
     "output_type": "stream",
     "text": [
      "<class 'pandas.core.frame.DataFrame'>\n",
      "RangeIndex: 185643 entries, 0 to 185642\n",
      "Data columns (total 10 columns):\n",
      "ABV                    170513 non-null float64\n",
      "Brewing Company        185643 non-null int64\n",
      "Food Paring            185643 non-null object\n",
      "Glassware Used         185643 non-null object\n",
      "Beer Name              185643 non-null int64\n",
      "Ratings                185643 non-null object\n",
      "Style Name             185643 non-null object\n",
      "Cellar Temperature     178862 non-null object\n",
      "Serving Temperature    185450 non-null object\n",
      "Score                  185643 non-null float64\n",
      "dtypes: float64(2), int64(2), object(6)\n",
      "memory usage: 14.2+ MB\n"
     ]
    }
   ],
   "source": [
    "train_data.info()"
   ]
  },
  {
   "cell_type": "code",
   "execution_count": 7,
   "metadata": {},
   "outputs": [
    {
     "name": "stdout",
     "output_type": "stream",
     "text": [
      "<class 'pandas.core.frame.DataFrame'>\n",
      "RangeIndex: 20628 entries, 0 to 20627\n",
      "Data columns (total 10 columns):\n",
      "ABV                    18964 non-null float64\n",
      "Brewing Company        20628 non-null int64\n",
      "Food Paring            20628 non-null object\n",
      "Glassware Used         20628 non-null object\n",
      "Beer Name              20628 non-null int64\n",
      "Ratings                20628 non-null object\n",
      "Style Name             20628 non-null object\n",
      "Cellar Temperature     19873 non-null object\n",
      "Serving Temperature    20607 non-null object\n",
      "Score                  0 non-null float64\n",
      "dtypes: float64(2), int64(2), object(6)\n",
      "memory usage: 1.6+ MB\n"
     ]
    }
   ],
   "source": [
    "test_data.info()"
   ]
  },
  {
   "cell_type": "markdown",
   "metadata": {},
   "source": [
    "##### NA's in the train and test set check the count in the columns. These are significant variables need to decide on variable treatment"
   ]
  },
  {
   "cell_type": "code",
   "execution_count": 8,
   "metadata": {},
   "outputs": [
    {
     "data": {
      "text/plain": [
       "(15130, 6781, 193)"
      ]
     },
     "execution_count": 8,
     "metadata": {},
     "output_type": "execute_result"
    }
   ],
   "source": [
    "# NA's in train data in cellular temperature and serving temperature\n",
    "train_data['ABV'].isna().sum(),train_data['Cellar Temperature'].isna().sum(), train_data['Serving Temperature'].isna().sum()"
   ]
  },
  {
   "cell_type": "code",
   "execution_count": 9,
   "metadata": {},
   "outputs": [
    {
     "data": {
      "text/plain": [
       "(1664, 755, 21)"
      ]
     },
     "execution_count": 9,
     "metadata": {},
     "output_type": "execute_result"
    }
   ],
   "source": [
    "# NA's in test data in cellular temperature and serving temperature\n",
    "test_data['ABV'].isna().sum(), test_data['Cellar Temperature'].isna().sum(), test_data['Serving Temperature'].isna().sum()"
   ]
  },
  {
   "cell_type": "code",
   "execution_count": 10,
   "metadata": {},
   "outputs": [
    {
     "data": {
      "text/plain": [
       "(94, 94)"
      ]
     },
     "execution_count": 10,
     "metadata": {},
     "output_type": "execute_result"
    }
   ],
   "source": [
    "# Number of unique styles count\n",
    "train_data['Style Name'].nunique(), test_data['Style Name'].nunique()"
   ]
  },
  {
   "cell_type": "code",
   "execution_count": 11,
   "metadata": {},
   "outputs": [
    {
     "data": {
      "text/plain": [
       "<matplotlib.axes._subplots.AxesSubplot at 0x9a4c6afe48>"
      ]
     },
     "execution_count": 11,
     "metadata": {},
     "output_type": "execute_result"
    },
    {
     "data": {
      "image/png": "[encoded data removed]",
      "text/plain": [
       "<matplotlib.figure.Figure at 0x9a445373c8>"
      ]
     },
     "metadata": {},
     "output_type": "display_data"
    }
   ],
   "source": [
    "train_data.groupby(['Cellar Temperature']).agg({'Cellar Temperature': 'count'}).plot(kind='bar')"
   ]
  },
  {
   "cell_type": "code",
   "execution_count": 12,
   "metadata": {},
   "outputs": [
    {
     "data": {
      "text/plain": [
       "<matplotlib.axes._subplots.AxesSubplot at 0x9a4c6af160>"
      ]
     },
     "execution_count": 12,
     "metadata": {},
     "output_type": "execute_result"
    },
    {
     "data": {
      "image/png": "[encoded data removed]",
      "text/plain": [
       "<matplotlib.figure.Figure at 0x9a4cabca90>"
      ]
     },
     "metadata": {},
     "output_type": "display_data"
    }
   ],
   "source": [
    "train_data.groupby(['Serving Temperature']).agg({'Serving Temperature': 'count'}).plot(kind='bar')"
   ]
  },
  {
   "cell_type": "code",
   "execution_count": 13,
   "metadata": {},
   "outputs": [
    {
     "name": "stdout",
     "output_type": "stream",
     "text": [
      "Minimum:  0.01\n",
      "1st Quartile:  5.0\n",
      "Median:  6.0\n",
      "Mean 6.354960736131254\n",
      "3rd Quartile 7.2\n",
      "Maximum:  80.0\n"
     ]
    },
    {
     "data": {
      "text/plain": [
       "<matplotlib.axes._subplots.AxesSubplot at 0x9a4cc04c88>"
      ]
     },
     "execution_count": 13,
     "metadata": {},
     "output_type": "execute_result"
    },
    {
     "data": {
      "image/png": "[encoded data removed]",
      "text/plain": [
       "<matplotlib.figure.Figure at 0x9a4cbebb70>"
      ]
     },
     "metadata": {},
     "output_type": "display_data"
    }
   ],
   "source": [
    "# ABV - alchol beer volume- find the average (Train set)\n",
    "print('Minimum: ', train_data['ABV'].min())\n",
    "print('1st Quartile: ',train_data['ABV'].quantile(q=0.25))\n",
    "print('Median: ', train_data['ABV'].median())\n",
    "print('Mean',train_data['ABV'].mean())\n",
    "print('3rd Quartile',train_data['ABV'].quantile(q=0.75))\n",
    "print('Maximum: ',train_data['ABV'].max())\n",
    "train_data['ABV'].hist()"
   ]
  },
  {
   "cell_type": "code",
   "execution_count": 14,
   "metadata": {},
   "outputs": [
    {
     "name": "stdout",
     "output_type": "stream",
     "text": [
      "Minimum:  0.05\n",
      "1st Quartile:  5.0\n",
      "Median:  6.0\n",
      "Mean 6.3472468888420055\n",
      "3rd Quartile 7.2\n",
      "Maximum:  80.0\n"
     ]
    },
    {
     "data": {
      "text/plain": [
       "<matplotlib.axes._subplots.AxesSubplot at 0x9a4cc126d8>"
      ]
     },
     "execution_count": 14,
     "metadata": {},
     "output_type": "execute_result"
    },
    {
     "data": {
      "image/png": "[encoded data removed]",
      "text/plain": [
       "<matplotlib.figure.Figure at 0x9a4cc977b8>"
      ]
     },
     "metadata": {},
     "output_type": "display_data"
    }
   ],
   "source": [
    "# ABV - alchol beer volume- find the average (Test Set)\n",
    "print('Minimum: ', test_data['ABV'].min())\n",
    "print('1st Quartile: ',test_data['ABV'].quantile(q=0.25))\n",
    "print('Median: ', test_data['ABV'].median())\n",
    "print('Mean',test_data['ABV'].mean())\n",
    "print('3rd Quartile',test_data['ABV'].quantile(q=0.75))\n",
    "print('Maximum: ',test_data['ABV'].max())\n",
    "test_data['ABV'].hist()"
   ]
  },
  {
   "cell_type": "code",
   "execution_count": 15,
   "metadata": {},
   "outputs": [],
   "source": [
    "# Impute missing values with mean of ABV in train and test sets\n",
    "train_data['ABV'].fillna(train_data['ABV'].mean(), inplace=True)\n",
    "test_data['ABV'].fillna(test_data['ABV'].mean(), inplace=True)"
   ]
  },
  {
   "cell_type": "code",
   "execution_count": 16,
   "metadata": {},
   "outputs": [],
   "source": [
    "# Impute missing categorical variable with unknown category\n",
    "train_data['Serving Temperature'].fillna('0-0', inplace=True)\n",
    "test_data['Serving Temperature'].fillna('0-0', inplace=True)"
   ]
  },
  {
   "cell_type": "code",
   "execution_count": 17,
   "metadata": {},
   "outputs": [],
   "source": [
    "# Impute missing categorical variable with unknown category\n",
    "train_data['Cellar Temperature'].fillna('0-0', inplace=True)\n",
    "test_data['Cellar Temperature'].fillna('0-0', inplace=True)"
   ]
  },
  {
   "cell_type": "code",
   "execution_count": 18,
   "metadata": {},
   "outputs": [
    {
     "name": "stdout",
     "output_type": "stream",
     "text": [
      "<class 'pandas.core.frame.DataFrame'>\n",
      "RangeIndex: 185643 entries, 0 to 185642\n",
      "Data columns (total 10 columns):\n",
      "ABV                    185643 non-null float64\n",
      "Brewing Company        185643 non-null int64\n",
      "Food Paring            185643 non-null object\n",
      "Glassware Used         185643 non-null object\n",
      "Beer Name              185643 non-null int64\n",
      "Ratings                185643 non-null object\n",
      "Style Name             185643 non-null object\n",
      "Cellar Temperature     185643 non-null object\n",
      "Serving Temperature    185643 non-null object\n",
      "Score                  185643 non-null float64\n",
      "dtypes: float64(2), int64(2), object(6)\n",
      "memory usage: 14.2+ MB\n"
     ]
    }
   ],
   "source": [
    "train_data.info()"
   ]
  },
  {
   "cell_type": "code",
   "execution_count": 19,
   "metadata": {},
   "outputs": [
    {
     "name": "stdout",
     "output_type": "stream",
     "text": [
      "<class 'pandas.core.frame.DataFrame'>\n",
      "RangeIndex: 20628 entries, 0 to 20627\n",
      "Data columns (total 10 columns):\n",
      "ABV                    20628 non-null float64\n",
      "Brewing Company        20628 non-null int64\n",
      "Food Paring            20628 non-null object\n",
      "Glassware Used         20628 non-null object\n",
      "Beer Name              20628 non-null int64\n",
      "Ratings                20628 non-null object\n",
      "Style Name             20628 non-null object\n",
      "Cellar Temperature     20628 non-null object\n",
      "Serving Temperature    20628 non-null object\n",
      "Score                  0 non-null float64\n",
      "dtypes: float64(2), int64(2), object(6)\n",
      "memory usage: 1.6+ MB\n"
     ]
    }
   ],
   "source": [
    "test_data.info()"
   ]
  },
  {
   "cell_type": "markdown",
   "metadata": {},
   "source": [
    "### Categorical Variable Treatments for Food Paring, Style Name and Glassware Used Columns in Train and Test"
   ]
  },
  {
   "cell_type": "code",
   "execution_count": 20,
   "metadata": {},
   "outputs": [
    {
     "name": "stdout",
     "output_type": "stream",
     "text": [
      "Number_of_meat_start_categories:  2\n",
      "Number_of_cheese_start_categories:  22\n",
      "Number_of_cusine_start_categories:  35\n",
      "Number_of_not_yet_categories:  1\n",
      "Number_of_meat_customers:  3724\n",
      "Number_of_cheese_customers:  33445\n",
      "Number_of_cusine_known_customers:  143057\n",
      "Number_of_other_customers:  5417\n",
      "check count:  185643\n",
      "it should match with full train dataset records..\n"
     ]
    }
   ],
   "source": [
    "# Train Dataset\n",
    "loc_of_meat_first=[]\n",
    "types_meat_first=[]\n",
    "loc_of_cheese_first=[]\n",
    "types_cheese_first=[]\n",
    "cusine_types=[]\n",
    "known_cusine_loc=[]\n",
    "different_cat_loc=[]\n",
    "different_types=[]\n",
    "cnt=0\n",
    "for j in train_data['Food Paring']:\n",
    "    x=j.split('(')[0]\n",
    "    if (x=='Meat'):\n",
    "        types_meat_first.append(j) # 2 categories\n",
    "        loc_of_meat_first.append(cnt)\n",
    "    elif (x=='Cheese'):\n",
    "        types_cheese_first.append(j) # 22 categories\n",
    "        loc_of_cheese_first.append(cnt)   \n",
    "    elif (x==''):\n",
    "        cus=j.split('(')[1]\n",
    "        cusine_types.append(cus.split(')')[0]) # 35 categories\n",
    "        known_cusine_loc.append(cnt)       \n",
    "    else:\n",
    "        different_types.append(j.split('(')[0]) # 1 category\n",
    "        different_cat_loc.append(cnt)\n",
    "    cnt+=1\n",
    "print('Number_of_meat_start_categories: ', len(set(types_meat_first)))\n",
    "print('Number_of_cheese_start_categories: ', len(set(types_cheese_first)))\n",
    "print('Number_of_cusine_start_categories: ', len(set(cusine_types)))\n",
    "print('Number_of_not_yet_categories: ', len(set(different_types)))\n",
    "print('Number_of_meat_customers: ', len(loc_of_meat_first))\n",
    "print('Number_of_cheese_customers: ', len(loc_of_cheese_first))\n",
    "print('Number_of_cusine_known_customers: ', len(known_cusine_loc))\n",
    "print('Number_of_other_customers: ', len(different_cat_loc))\n",
    "print('check count: ', len(loc_of_meat_first)+len(loc_of_cheese_first)+len(known_cusine_loc)+len(different_cat_loc))\n",
    "print('it should match with full train dataset records..')"
   ]
  },
  {
   "cell_type": "code",
   "execution_count": 21,
   "metadata": {},
   "outputs": [],
   "source": [
    "# Train dataset- categorization of food parings\n",
    "new_df=pd.DataFrame(np.nan, index=range(len(train_data)), columns=['cusine', 'cheese', 'meat', 'general'])\n",
    "new_df=new_df.fillna(0, inplace=False)\n",
    "for xd in range(len(train_data['Food Paring'])):\n",
    "    split_words=re.findall(r'[^(.*?)]+', train_data['Food Paring'][xd])\n",
    "    for word in split_words:\n",
    "        if word=='Cheese':\n",
    "            new_df['cheese'].iloc[xd]=1\n",
    "        elif word=='General':\n",
    "            new_df['general'].iloc[xd]=1\n",
    "        elif word=='Meat':\n",
    "            new_df['meat'].iloc[xd]=1\n",
    "\n",
    "for jd in known_cusine_loc:\n",
    "    new_df['cusine'].iloc[jd]=1"
   ]
  },
  {
   "cell_type": "code",
   "execution_count": 22,
   "metadata": {},
   "outputs": [],
   "source": [
    "new_df['item_score']=new_df['cusine']+new_df['cheese']+new_df['meat']+new_df['general']"
   ]
  },
  {
   "cell_type": "code",
   "execution_count": 23,
   "metadata": {},
   "outputs": [
    {
     "data": {
      "text/html": [
       "<div>\n",
       "<style scoped>\n",
       "    .dataframe tbody tr th:only-of-type {\n",
       "        vertical-align: middle;\n",
       "    }\n",
       "\n",
       "    .dataframe tbody tr th {\n",
       "        vertical-align: top;\n",
       "    }\n",
       "\n",
       "    .dataframe thead th {\n",
       "        text-align: right;\n",
       "    }\n",
       "</style>\n",
       "<table border=\"1\" class=\"dataframe\">\n",
       "  <thead>\n",
       "    <tr style=\"text-align: right;\">\n",
       "      <th></th>\n",
       "      <th>cusine</th>\n",
       "      <th>cheese</th>\n",
       "      <th>meat</th>\n",
       "      <th>general</th>\n",
       "      <th>item_score</th>\n",
       "    </tr>\n",
       "  </thead>\n",
       "  <tbody>\n",
       "    <tr>\n",
       "      <th>0</th>\n",
       "      <td>1.0</td>\n",
       "      <td>1.0</td>\n",
       "      <td>1.0</td>\n",
       "      <td>0.0</td>\n",
       "      <td>3.0</td>\n",
       "    </tr>\n",
       "    <tr>\n",
       "      <th>1</th>\n",
       "      <td>1.0</td>\n",
       "      <td>1.0</td>\n",
       "      <td>1.0</td>\n",
       "      <td>1.0</td>\n",
       "      <td>4.0</td>\n",
       "    </tr>\n",
       "    <tr>\n",
       "      <th>2</th>\n",
       "      <td>0.0</td>\n",
       "      <td>0.0</td>\n",
       "      <td>1.0</td>\n",
       "      <td>0.0</td>\n",
       "      <td>1.0</td>\n",
       "    </tr>\n",
       "    <tr>\n",
       "      <th>3</th>\n",
       "      <td>1.0</td>\n",
       "      <td>0.0</td>\n",
       "      <td>0.0</td>\n",
       "      <td>1.0</td>\n",
       "      <td>2.0</td>\n",
       "    </tr>\n",
       "    <tr>\n",
       "      <th>4</th>\n",
       "      <td>0.0</td>\n",
       "      <td>0.0</td>\n",
       "      <td>1.0</td>\n",
       "      <td>0.0</td>\n",
       "      <td>1.0</td>\n",
       "    </tr>\n",
       "  </tbody>\n",
       "</table>\n",
       "</div>"
      ],
      "text/plain": [
       "   cusine  cheese  meat  general  item_score\n",
       "0     1.0     1.0   1.0      0.0         3.0\n",
       "1     1.0     1.0   1.0      1.0         4.0\n",
       "2     0.0     0.0   1.0      0.0         1.0\n",
       "3     1.0     0.0   0.0      1.0         2.0\n",
       "4     0.0     0.0   1.0      0.0         1.0"
      ]
     },
     "execution_count": 23,
     "metadata": {},
     "output_type": "execute_result"
    }
   ],
   "source": [
    "new_df.head()"
   ]
  },
  {
   "cell_type": "code",
   "execution_count": 24,
   "metadata": {},
   "outputs": [
    {
     "name": "stdout",
     "output_type": "stream",
     "text": [
      "Number_of_meat_start_categories:  2\n",
      "Number_of_cheese_start_categories:  22\n",
      "Number_of_cusine_start_categories:  34\n",
      "Number_of_not_yet_categories:  1\n",
      "Number_of_meat_customers:  414\n",
      "Number_of_cheese_customers:  3714\n",
      "Number_of_cusine_known_customers:  15898\n",
      "Number_of_other_customers:  602\n",
      "check count:  20628\n",
      "it should match with full test dataset records..\n"
     ]
    }
   ],
   "source": [
    "# Test Dataset\n",
    "loc_of_meat_first_1=[]\n",
    "types_meat_first_1=[]\n",
    "loc_of_cheese_first_1=[]\n",
    "types_cheese_first_1=[]\n",
    "cusine_types_1=[]\n",
    "known_cusine_loc_1=[]\n",
    "different_cat_loc_1=[]\n",
    "different_types_1=[]\n",
    "cnt=0\n",
    "for j in test_data['Food Paring']:\n",
    "    x=j.split('(')[0]\n",
    "    if (x=='Meat'):\n",
    "        types_meat_first_1.append(j) \n",
    "        loc_of_meat_first_1.append(cnt)\n",
    "    elif (x=='Cheese'):\n",
    "        types_cheese_first_1.append(j) \n",
    "        loc_of_cheese_first_1.append(cnt)   \n",
    "    elif (x==''):\n",
    "        cus_1=j.split('(')[1]\n",
    "        cusine_types_1.append(cus_1.split(')')[0]) \n",
    "        known_cusine_loc_1.append(cnt)       \n",
    "    else:\n",
    "        different_types_1.append(j.split('(')[0])\n",
    "        different_cat_loc_1.append(cnt)\n",
    "    cnt+=1\n",
    "print('Number_of_meat_start_categories: ', len(set(types_meat_first_1)))\n",
    "print('Number_of_cheese_start_categories: ', len(set(types_cheese_first_1)))\n",
    "print('Number_of_cusine_start_categories: ', len(set(cusine_types_1)))\n",
    "print('Number_of_not_yet_categories: ', len(set(different_types_1)))\n",
    "print('Number_of_meat_customers: ', len(loc_of_meat_first_1))\n",
    "print('Number_of_cheese_customers: ', len(loc_of_cheese_first_1))\n",
    "print('Number_of_cusine_known_customers: ', len(known_cusine_loc_1))\n",
    "print('Number_of_other_customers: ', len(different_cat_loc_1))\n",
    "print('check count: ', len(loc_of_meat_first_1)+len(loc_of_cheese_first_1)+len(known_cusine_loc_1)+len(different_cat_loc_1))\n",
    "print('it should match with full test dataset records..')"
   ]
  },
  {
   "cell_type": "code",
   "execution_count": 25,
   "metadata": {},
   "outputs": [],
   "source": [
    "# Test dataset- categorization of food parings\n",
    "nw_df=pd.DataFrame(np.nan, index=range(len(test_data)), columns=['cusine', 'cheese', 'meat', 'general'])\n",
    "nw_df=nw_df.fillna(0, inplace=False)\n",
    "for xd in range(len(test_data['Food Paring'])):\n",
    "    split_words=re.findall(r'[^(.*?)]+', test_data['Food Paring'][xd])\n",
    "    for word in split_words:\n",
    "        if word=='Cheese':\n",
    "            nw_df['cheese'].iloc[xd]=1\n",
    "        elif word=='General':\n",
    "            nw_df['general'].iloc[xd]=1\n",
    "        elif word=='Meat':\n",
    "            nw_df['meat'].iloc[xd]=1\n",
    "\n",
    "for jd in known_cusine_loc_1:\n",
    "    nw_df['cusine'].iloc[jd]=1"
   ]
  },
  {
   "cell_type": "code",
   "execution_count": 26,
   "metadata": {},
   "outputs": [],
   "source": [
    "nw_df['item_score']=nw_df['cusine']+nw_df['cheese']+nw_df['meat']+nw_df['general']"
   ]
  },
  {
   "cell_type": "code",
   "execution_count": 27,
   "metadata": {},
   "outputs": [
    {
     "data": {
      "text/html": [
       "<div>\n",
       "<style scoped>\n",
       "    .dataframe tbody tr th:only-of-type {\n",
       "        vertical-align: middle;\n",
       "    }\n",
       "\n",
       "    .dataframe tbody tr th {\n",
       "        vertical-align: top;\n",
       "    }\n",
       "\n",
       "    .dataframe thead th {\n",
       "        text-align: right;\n",
       "    }\n",
       "</style>\n",
       "<table border=\"1\" class=\"dataframe\">\n",
       "  <thead>\n",
       "    <tr style=\"text-align: right;\">\n",
       "      <th></th>\n",
       "      <th>cusine</th>\n",
       "      <th>cheese</th>\n",
       "      <th>meat</th>\n",
       "      <th>general</th>\n",
       "      <th>item_score</th>\n",
       "    </tr>\n",
       "  </thead>\n",
       "  <tbody>\n",
       "    <tr>\n",
       "      <th>0</th>\n",
       "      <td>1.0</td>\n",
       "      <td>1.0</td>\n",
       "      <td>1.0</td>\n",
       "      <td>0.0</td>\n",
       "      <td>3.0</td>\n",
       "    </tr>\n",
       "    <tr>\n",
       "      <th>1</th>\n",
       "      <td>1.0</td>\n",
       "      <td>1.0</td>\n",
       "      <td>1.0</td>\n",
       "      <td>1.0</td>\n",
       "      <td>4.0</td>\n",
       "    </tr>\n",
       "    <tr>\n",
       "      <th>2</th>\n",
       "      <td>0.0</td>\n",
       "      <td>1.0</td>\n",
       "      <td>0.0</td>\n",
       "      <td>1.0</td>\n",
       "      <td>2.0</td>\n",
       "    </tr>\n",
       "    <tr>\n",
       "      <th>3</th>\n",
       "      <td>1.0</td>\n",
       "      <td>0.0</td>\n",
       "      <td>1.0</td>\n",
       "      <td>0.0</td>\n",
       "      <td>2.0</td>\n",
       "    </tr>\n",
       "    <tr>\n",
       "      <th>4</th>\n",
       "      <td>1.0</td>\n",
       "      <td>1.0</td>\n",
       "      <td>1.0</td>\n",
       "      <td>1.0</td>\n",
       "      <td>4.0</td>\n",
       "    </tr>\n",
       "  </tbody>\n",
       "</table>\n",
       "</div>"
      ],
      "text/plain": [
       "   cusine  cheese  meat  general  item_score\n",
       "0     1.0     1.0   1.0      0.0         3.0\n",
       "1     1.0     1.0   1.0      1.0         4.0\n",
       "2     0.0     1.0   0.0      1.0         2.0\n",
       "3     1.0     0.0   1.0      0.0         2.0\n",
       "4     1.0     1.0   1.0      1.0         4.0"
      ]
     },
     "execution_count": 27,
     "metadata": {},
     "output_type": "execute_result"
    }
   ],
   "source": [
    "nw_df.head()"
   ]
  },
  {
   "cell_type": "code",
   "execution_count": 28,
   "metadata": {},
   "outputs": [],
   "source": [
    "# Getting the list of Glassware used\n",
    "glass_first=[]\n",
    "for xc in train_data['Glassware Used']:\n",
    "    glass_first.append(xc.split('(')[0])"
   ]
  },
  {
   "cell_type": "code",
   "execution_count": 29,
   "metadata": {},
   "outputs": [
    {
     "data": {
      "text/plain": [
       "{'Flute',\n",
       " 'Flute,PilsenerGlass',\n",
       " 'Flute,Snifter,OversizedWineGlass',\n",
       " 'Flute,Snifter,Tulip',\n",
       " 'Flute,Snifter,Tulip,Stange',\n",
       " 'Flute,Stange',\n",
       " 'Flute,Tulip,OversizedWineGlass',\n",
       " 'Flute,WeizenGlass',\n",
       " 'Goblet',\n",
       " 'Mug',\n",
       " 'None,yet',\n",
       " 'PilsenerGlass',\n",
       " 'PintGlass',\n",
       " 'Snifter,Goblet',\n",
       " 'Snifter,OversizedWineGlass',\n",
       " 'Snifter,Tulip,Goblet',\n",
       " 'Snifter,Tulip,OversizedWineGlass',\n",
       " 'Stange',\n",
       " 'Tulip,Goblet',\n",
       " 'Tulip,OversizedWineGlass',\n",
       " 'WeizenGlass'}"
      ]
     },
     "execution_count": 29,
     "metadata": {},
     "output_type": "execute_result"
    }
   ],
   "source": [
    "# Get the unique glassware\n",
    "set(glass_first)"
   ]
  },
  {
   "cell_type": "code",
   "execution_count": 30,
   "metadata": {},
   "outputs": [],
   "source": [
    "ad=['Flute','PilsenerGlass','Snifter','OversizedWineGlass','Tulip','Stange','WeizenGlass','Goblet','Mug', 'PintGlass']"
   ]
  },
  {
   "cell_type": "code",
   "execution_count": 31,
   "metadata": {},
   "outputs": [
    {
     "name": "stdout",
     "output_type": "stream",
     "text": [
      "Size of Train set:  (185643, 10)\n"
     ]
    }
   ],
   "source": [
    "# Train dataset- categorization of Glassware used\n",
    "glass_df=pd.DataFrame(np.nan, index=range(len(train_data)), columns=['flute','pilsenerglass','snifter','oversizedwineglass',\\\n",
    "                                                                     'tulip','stange','weizenglass','goblet','mug', 'pintglass'])\n",
    "glass_df=glass_df.fillna(0, inplace=False)\n",
    "for xd in range(len(train_data['Glassware Used'])):\n",
    "    split_words=re.findall(r'[^(.*?,)]+', train_data['Glassware Used'][xd])\n",
    "    for word in split_words:\n",
    "        if word=='Flute':\n",
    "            glass_df['flute'].iloc[xd]=1\n",
    "        elif word=='PilsenerGlass':\n",
    "            glass_df['pilsenerglass'].iloc[xd]=1\n",
    "        elif word=='Snifter':\n",
    "            glass_df['snifter'].iloc[xd]=1\n",
    "        elif word=='OversizedWineGlass':\n",
    "            glass_df['oversizedwineglass'].iloc[xd]=1\n",
    "        elif word=='Tulip':\n",
    "            glass_df['tulip'].iloc[xd]=1\n",
    "        elif word=='Stange':\n",
    "            glass_df['stange'].iloc[xd]=1\n",
    "        elif word=='WeizenGlass':\n",
    "            glass_df['weizenglass'].iloc[xd]=1\n",
    "        elif word=='Goblet':\n",
    "            glass_df['goblet'].iloc[xd]=1\n",
    "        elif word=='Mug':\n",
    "            glass_df['mug'].iloc[xd]=1\n",
    "        elif word=='PintGlass':\n",
    "            glass_df['pintglass'].iloc[xd]=1\n",
    "print('Size of Train set: ', glass_df.shape)"
   ]
  },
  {
   "cell_type": "code",
   "execution_count": 32,
   "metadata": {},
   "outputs": [],
   "source": [
    "glass_df['glass_score']=glass_df['flute']+glass_df['pilsenerglass']+glass_df['snifter']+glass_df['oversizedwineglass']+\\\n",
    "        glass_df['tulip']+glass_df['stange']+glass_df['weizenglass']+glass_df['goblet']+glass_df['mug']+glass_df['pintglass']"
   ]
  },
  {
   "cell_type": "code",
   "execution_count": 33,
   "metadata": {},
   "outputs": [
    {
     "data": {
      "text/html": [
       "<div>\n",
       "<style scoped>\n",
       "    .dataframe tbody tr th:only-of-type {\n",
       "        vertical-align: middle;\n",
       "    }\n",
       "\n",
       "    .dataframe tbody tr th {\n",
       "        vertical-align: top;\n",
       "    }\n",
       "\n",
       "    .dataframe thead th {\n",
       "        text-align: right;\n",
       "    }\n",
       "</style>\n",
       "<table border=\"1\" class=\"dataframe\">\n",
       "  <thead>\n",
       "    <tr style=\"text-align: right;\">\n",
       "      <th></th>\n",
       "      <th>flute</th>\n",
       "      <th>pilsenerglass</th>\n",
       "      <th>snifter</th>\n",
       "      <th>oversizedwineglass</th>\n",
       "      <th>tulip</th>\n",
       "      <th>stange</th>\n",
       "      <th>weizenglass</th>\n",
       "      <th>goblet</th>\n",
       "      <th>mug</th>\n",
       "      <th>pintglass</th>\n",
       "      <th>glass_score</th>\n",
       "    </tr>\n",
       "  </thead>\n",
       "  <tbody>\n",
       "    <tr>\n",
       "      <th>0</th>\n",
       "      <td>0.0</td>\n",
       "      <td>0.0</td>\n",
       "      <td>0.0</td>\n",
       "      <td>0.0</td>\n",
       "      <td>0.0</td>\n",
       "      <td>0.0</td>\n",
       "      <td>0.0</td>\n",
       "      <td>0.0</td>\n",
       "      <td>1.0</td>\n",
       "      <td>1.0</td>\n",
       "      <td>2.0</td>\n",
       "    </tr>\n",
       "    <tr>\n",
       "      <th>1</th>\n",
       "      <td>0.0</td>\n",
       "      <td>0.0</td>\n",
       "      <td>0.0</td>\n",
       "      <td>0.0</td>\n",
       "      <td>0.0</td>\n",
       "      <td>0.0</td>\n",
       "      <td>0.0</td>\n",
       "      <td>0.0</td>\n",
       "      <td>1.0</td>\n",
       "      <td>1.0</td>\n",
       "      <td>2.0</td>\n",
       "    </tr>\n",
       "    <tr>\n",
       "      <th>2</th>\n",
       "      <td>0.0</td>\n",
       "      <td>0.0</td>\n",
       "      <td>0.0</td>\n",
       "      <td>0.0</td>\n",
       "      <td>0.0</td>\n",
       "      <td>0.0</td>\n",
       "      <td>0.0</td>\n",
       "      <td>0.0</td>\n",
       "      <td>1.0</td>\n",
       "      <td>1.0</td>\n",
       "      <td>2.0</td>\n",
       "    </tr>\n",
       "    <tr>\n",
       "      <th>3</th>\n",
       "      <td>0.0</td>\n",
       "      <td>1.0</td>\n",
       "      <td>0.0</td>\n",
       "      <td>0.0</td>\n",
       "      <td>0.0</td>\n",
       "      <td>0.0</td>\n",
       "      <td>0.0</td>\n",
       "      <td>0.0</td>\n",
       "      <td>1.0</td>\n",
       "      <td>1.0</td>\n",
       "      <td>3.0</td>\n",
       "    </tr>\n",
       "    <tr>\n",
       "      <th>4</th>\n",
       "      <td>0.0</td>\n",
       "      <td>1.0</td>\n",
       "      <td>0.0</td>\n",
       "      <td>0.0</td>\n",
       "      <td>0.0</td>\n",
       "      <td>0.0</td>\n",
       "      <td>0.0</td>\n",
       "      <td>0.0</td>\n",
       "      <td>0.0</td>\n",
       "      <td>0.0</td>\n",
       "      <td>1.0</td>\n",
       "    </tr>\n",
       "  </tbody>\n",
       "</table>\n",
       "</div>"
      ],
      "text/plain": [
       "   flute  pilsenerglass  snifter  oversizedwineglass  tulip  stange  \\\n",
       "0    0.0            0.0      0.0                 0.0    0.0     0.0   \n",
       "1    0.0            0.0      0.0                 0.0    0.0     0.0   \n",
       "2    0.0            0.0      0.0                 0.0    0.0     0.0   \n",
       "3    0.0            1.0      0.0                 0.0    0.0     0.0   \n",
       "4    0.0            1.0      0.0                 0.0    0.0     0.0   \n",
       "\n",
       "   weizenglass  goblet  mug  pintglass  glass_score  \n",
       "0          0.0     0.0  1.0        1.0          2.0  \n",
       "1          0.0     0.0  1.0        1.0          2.0  \n",
       "2          0.0     0.0  1.0        1.0          2.0  \n",
       "3          0.0     0.0  1.0        1.0          3.0  \n",
       "4          0.0     0.0  0.0        0.0          1.0  "
      ]
     },
     "execution_count": 33,
     "metadata": {},
     "output_type": "execute_result"
    }
   ],
   "source": [
    "glass_df.head()"
   ]
  },
  {
   "cell_type": "code",
   "execution_count": 34,
   "metadata": {},
   "outputs": [
    {
     "name": "stdout",
     "output_type": "stream",
     "text": [
      "Size of Test set:  (20628, 10)\n"
     ]
    }
   ],
   "source": [
    "# Test dataset- categorization of Glassware used\n",
    "glass_df_1=pd.DataFrame(np.nan, index=range(len(test_data)), columns=['flute','pilsenerglass','snifter','oversizedwineglass',\\\n",
    "                                                                     'tulip','stange','weizenglass','goblet','mug', 'pintglass'])\n",
    "glass_df_1=glass_df_1.fillna(0, inplace=False)\n",
    "for xd in range(len(test_data['Glassware Used'])):\n",
    "    split_words=re.findall(r'[^(.*?,)]+', test_data['Glassware Used'][xd])\n",
    "    for word in split_words:\n",
    "        if word=='Flute':\n",
    "            glass_df_1['flute'].iloc[xd]=1\n",
    "        elif word=='PilsenerGlass':\n",
    "            glass_df_1['pilsenerglass'].iloc[xd]=1\n",
    "        elif word=='Snifter':\n",
    "            glass_df_1['snifter'].iloc[xd]=1\n",
    "        elif word=='OversizedWineGlass':\n",
    "            glass_df_1['oversizedwineglass'].iloc[xd]=1\n",
    "        elif word=='Tulip':\n",
    "            glass_df_1['tulip'].iloc[xd]=1\n",
    "        elif word=='Stange':\n",
    "            glass_df_1['stange'].iloc[xd]=1\n",
    "        elif word=='WeizenGlass':\n",
    "            glass_df_1['weizenglass'].iloc[xd]=1\n",
    "        elif word=='Goblet':\n",
    "            glass_df_1['goblet'].iloc[xd]=1\n",
    "        elif word=='Mug':\n",
    "            glass_df_1['mug'].iloc[xd]=1\n",
    "        elif word=='PintGlass':\n",
    "            glass_df_1['pintglass'].iloc[xd]=1\n",
    "print('Size of Test set: ', glass_df_1.shape)"
   ]
  },
  {
   "cell_type": "code",
   "execution_count": 35,
   "metadata": {},
   "outputs": [],
   "source": [
    "glass_df_1['glass_score']=glass_df_1['flute']+glass_df_1['pilsenerglass']+glass_df_1['snifter']+glass_df_1['oversizedwineglass']+\\\n",
    "    glass_df_1['tulip']+glass_df_1['stange']+glass_df_1['weizenglass']+glass_df_1['goblet']+glass_df_1['mug']+glass_df_1['pintglass']"
   ]
  },
  {
   "cell_type": "code",
   "execution_count": 36,
   "metadata": {},
   "outputs": [
    {
     "data": {
      "text/html": [
       "<div>\n",
       "<style scoped>\n",
       "    .dataframe tbody tr th:only-of-type {\n",
       "        vertical-align: middle;\n",
       "    }\n",
       "\n",
       "    .dataframe tbody tr th {\n",
       "        vertical-align: top;\n",
       "    }\n",
       "\n",
       "    .dataframe thead th {\n",
       "        text-align: right;\n",
       "    }\n",
       "</style>\n",
       "<table border=\"1\" class=\"dataframe\">\n",
       "  <thead>\n",
       "    <tr style=\"text-align: right;\">\n",
       "      <th></th>\n",
       "      <th>flute</th>\n",
       "      <th>pilsenerglass</th>\n",
       "      <th>snifter</th>\n",
       "      <th>oversizedwineglass</th>\n",
       "      <th>tulip</th>\n",
       "      <th>stange</th>\n",
       "      <th>weizenglass</th>\n",
       "      <th>goblet</th>\n",
       "      <th>mug</th>\n",
       "      <th>pintglass</th>\n",
       "      <th>glass_score</th>\n",
       "    </tr>\n",
       "  </thead>\n",
       "  <tbody>\n",
       "    <tr>\n",
       "      <th>0</th>\n",
       "      <td>0.0</td>\n",
       "      <td>0.0</td>\n",
       "      <td>0.0</td>\n",
       "      <td>0.0</td>\n",
       "      <td>0.0</td>\n",
       "      <td>0.0</td>\n",
       "      <td>0.0</td>\n",
       "      <td>0.0</td>\n",
       "      <td>1.0</td>\n",
       "      <td>1.0</td>\n",
       "      <td>2.0</td>\n",
       "    </tr>\n",
       "    <tr>\n",
       "      <th>1</th>\n",
       "      <td>0.0</td>\n",
       "      <td>0.0</td>\n",
       "      <td>0.0</td>\n",
       "      <td>0.0</td>\n",
       "      <td>0.0</td>\n",
       "      <td>0.0</td>\n",
       "      <td>0.0</td>\n",
       "      <td>0.0</td>\n",
       "      <td>1.0</td>\n",
       "      <td>1.0</td>\n",
       "      <td>2.0</td>\n",
       "    </tr>\n",
       "    <tr>\n",
       "      <th>2</th>\n",
       "      <td>0.0</td>\n",
       "      <td>0.0</td>\n",
       "      <td>1.0</td>\n",
       "      <td>1.0</td>\n",
       "      <td>1.0</td>\n",
       "      <td>0.0</td>\n",
       "      <td>0.0</td>\n",
       "      <td>0.0</td>\n",
       "      <td>0.0</td>\n",
       "      <td>0.0</td>\n",
       "      <td>3.0</td>\n",
       "    </tr>\n",
       "    <tr>\n",
       "      <th>3</th>\n",
       "      <td>1.0</td>\n",
       "      <td>1.0</td>\n",
       "      <td>0.0</td>\n",
       "      <td>0.0</td>\n",
       "      <td>0.0</td>\n",
       "      <td>0.0</td>\n",
       "      <td>0.0</td>\n",
       "      <td>0.0</td>\n",
       "      <td>1.0</td>\n",
       "      <td>0.0</td>\n",
       "      <td>3.0</td>\n",
       "    </tr>\n",
       "    <tr>\n",
       "      <th>4</th>\n",
       "      <td>0.0</td>\n",
       "      <td>0.0</td>\n",
       "      <td>0.0</td>\n",
       "      <td>0.0</td>\n",
       "      <td>0.0</td>\n",
       "      <td>0.0</td>\n",
       "      <td>0.0</td>\n",
       "      <td>0.0</td>\n",
       "      <td>1.0</td>\n",
       "      <td>1.0</td>\n",
       "      <td>2.0</td>\n",
       "    </tr>\n",
       "  </tbody>\n",
       "</table>\n",
       "</div>"
      ],
      "text/plain": [
       "   flute  pilsenerglass  snifter  oversizedwineglass  tulip  stange  \\\n",
       "0    0.0            0.0      0.0                 0.0    0.0     0.0   \n",
       "1    0.0            0.0      0.0                 0.0    0.0     0.0   \n",
       "2    0.0            0.0      1.0                 1.0    1.0     0.0   \n",
       "3    1.0            1.0      0.0                 0.0    0.0     0.0   \n",
       "4    0.0            0.0      0.0                 0.0    0.0     0.0   \n",
       "\n",
       "   weizenglass  goblet  mug  pintglass  glass_score  \n",
       "0          0.0     0.0  1.0        1.0          2.0  \n",
       "1          0.0     0.0  1.0        1.0          2.0  \n",
       "2          0.0     0.0  0.0        0.0          3.0  \n",
       "3          0.0     0.0  1.0        0.0          3.0  \n",
       "4          0.0     0.0  1.0        1.0          2.0  "
      ]
     },
     "execution_count": 36,
     "metadata": {},
     "output_type": "execute_result"
    }
   ],
   "source": [
    "glass_df_1.head()"
   ]
  },
  {
   "cell_type": "code",
   "execution_count": 37,
   "metadata": {},
   "outputs": [
    {
     "data": {
      "text/plain": [
       "94"
      ]
     },
     "execution_count": 37,
     "metadata": {},
     "output_type": "execute_result"
    }
   ],
   "source": [
    "# Checking the unique values in style names\n",
    "train_data['Style Name'].nunique()"
   ]
  },
  {
   "cell_type": "code",
   "execution_count": 38,
   "metadata": {},
   "outputs": [
    {
     "data": {
      "text/html": [
       "<div>\n",
       "<style scoped>\n",
       "    .dataframe tbody tr th:only-of-type {\n",
       "        vertical-align: middle;\n",
       "    }\n",
       "\n",
       "    .dataframe tbody tr th {\n",
       "        vertical-align: top;\n",
       "    }\n",
       "\n",
       "    .dataframe thead th {\n",
       "        text-align: right;\n",
       "    }\n",
       "</style>\n",
       "<table border=\"1\" class=\"dataframe\">\n",
       "  <thead>\n",
       "    <tr style=\"text-align: right;\">\n",
       "      <th></th>\n",
       "      <th>Style Name</th>\n",
       "      <th>Count</th>\n",
       "      <th>cum_sum</th>\n",
       "      <th>cum_perc</th>\n",
       "    </tr>\n",
       "  </thead>\n",
       "  <tbody>\n",
       "    <tr>\n",
       "      <th>0</th>\n",
       "      <td>AmericanIPA</td>\n",
       "      <td>25577</td>\n",
       "      <td>25577</td>\n",
       "      <td>13.777519</td>\n",
       "    </tr>\n",
       "    <tr>\n",
       "      <th>1</th>\n",
       "      <td>AmericanPaleAle(APA)</td>\n",
       "      <td>12648</td>\n",
       "      <td>38225</td>\n",
       "      <td>20.590596</td>\n",
       "    </tr>\n",
       "    <tr>\n",
       "      <th>2</th>\n",
       "      <td>AmericanPorter</td>\n",
       "      <td>11992</td>\n",
       "      <td>50217</td>\n",
       "      <td>27.050306</td>\n",
       "    </tr>\n",
       "    <tr>\n",
       "      <th>3</th>\n",
       "      <td>AmericanDoubleImperialIPA</td>\n",
       "      <td>10147</td>\n",
       "      <td>60364</td>\n",
       "      <td>32.516174</td>\n",
       "    </tr>\n",
       "    <tr>\n",
       "      <th>4</th>\n",
       "      <td>SaisonFarmhouseAle</td>\n",
       "      <td>8982</td>\n",
       "      <td>69346</td>\n",
       "      <td>37.354492</td>\n",
       "    </tr>\n",
       "    <tr>\n",
       "      <th>5</th>\n",
       "      <td>AmericanAmberRedAle</td>\n",
       "      <td>5924</td>\n",
       "      <td>75270</td>\n",
       "      <td>40.545563</td>\n",
       "    </tr>\n",
       "    <tr>\n",
       "      <th>6</th>\n",
       "      <td>AmericanWildAle</td>\n",
       "      <td>5523</td>\n",
       "      <td>80793</td>\n",
       "      <td>43.520628</td>\n",
       "    </tr>\n",
       "    <tr>\n",
       "      <th>7</th>\n",
       "      <td>AmericanDoubleImperialStout</td>\n",
       "      <td>5125</td>\n",
       "      <td>85918</td>\n",
       "      <td>46.281303</td>\n",
       "    </tr>\n",
       "    <tr>\n",
       "      <th>8</th>\n",
       "      <td>AmericanStout</td>\n",
       "      <td>4911</td>\n",
       "      <td>90829</td>\n",
       "      <td>48.926703</td>\n",
       "    </tr>\n",
       "    <tr>\n",
       "      <th>9</th>\n",
       "      <td>AmericanBlondeAle</td>\n",
       "      <td>4234</td>\n",
       "      <td>95063</td>\n",
       "      <td>51.207425</td>\n",
       "    </tr>\n",
       "  </tbody>\n",
       "</table>\n",
       "</div>"
      ],
      "text/plain": [
       "                    Style Name  Count  cum_sum   cum_perc\n",
       "0                  AmericanIPA  25577    25577  13.777519\n",
       "1         AmericanPaleAle(APA)  12648    38225  20.590596\n",
       "2               AmericanPorter  11992    50217  27.050306\n",
       "3    AmericanDoubleImperialIPA  10147    60364  32.516174\n",
       "4           SaisonFarmhouseAle   8982    69346  37.354492\n",
       "5          AmericanAmberRedAle   5924    75270  40.545563\n",
       "6              AmericanWildAle   5523    80793  43.520628\n",
       "7  AmericanDoubleImperialStout   5125    85918  46.281303\n",
       "8                AmericanStout   4911    90829  48.926703\n",
       "9            AmericanBlondeAle   4234    95063  51.207425"
      ]
     },
     "execution_count": 38,
     "metadata": {},
     "output_type": "execute_result"
    }
   ],
   "source": [
    "# getting count of each categories\n",
    "count_df=train_data.groupby('Style Name').agg({'Style Name':'count'}).sort_values(by='Style Name', ascending=False)\n",
    "count_df.columns=['Count']\n",
    "style_df=count_df.reset_index()\n",
    "# Creating calculated feild to find the 50% cateory of data fall\n",
    "style_df['cum_sum'] = style_df.Count.cumsum()\n",
    "style_df['cum_perc'] = 100*style_df.cum_sum/style_df.Count.sum()\n",
    "style_df.head(10)"
   ]
  },
  {
   "cell_type": "code",
   "execution_count": 46,
   "metadata": {},
   "outputs": [],
   "source": [
    "# Add the length of the style as one column (94 categories in total)\n",
    "train_data['style_len']=[len(i) for i in train_data['Style Name']]\n",
    "test_data['style_len']=[len(i) for i in test_data['Style Name']]"
   ]
  },
  {
   "cell_type": "code",
   "execution_count": 47,
   "metadata": {},
   "outputs": [],
   "source": [
    "# Train data cleaning for cellar temperature and Serving Temperature\n",
    "train_data['min_cellar_temp']=[int(train_data['Cellar Temperature'][i].split('-')[0]) for i in range(len(train_data))]\n",
    "train_data['max_cellar_temp']=[int(train_data['Cellar Temperature'][i].split('-')[1]) for i in range(len(train_data))]\n",
    "train_data['min_serving_temp']=[int(train_data['Serving Temperature'][i].split('-')[0]) for i in range(len(train_data))]\n",
    "train_data['max_serving_temp']=[int(train_data['Serving Temperature'][i].split('-')[1]) for i in range(len(train_data))]"
   ]
  },
  {
   "cell_type": "code",
   "execution_count": 48,
   "metadata": {},
   "outputs": [
    {
     "data": {
      "text/html": [
       "<div>\n",
       "<style scoped>\n",
       "    .dataframe tbody tr th:only-of-type {\n",
       "        vertical-align: middle;\n",
       "    }\n",
       "\n",
       "    .dataframe tbody tr th {\n",
       "        vertical-align: top;\n",
       "    }\n",
       "\n",
       "    .dataframe thead th {\n",
       "        text-align: right;\n",
       "    }\n",
       "</style>\n",
       "<table border=\"1\" class=\"dataframe\">\n",
       "  <thead>\n",
       "    <tr style=\"text-align: right;\">\n",
       "      <th></th>\n",
       "      <th>ABV</th>\n",
       "      <th>Brewing Company</th>\n",
       "      <th>Food Paring</th>\n",
       "      <th>Glassware Used</th>\n",
       "      <th>Beer Name</th>\n",
       "      <th>Ratings</th>\n",
       "      <th>Style Name</th>\n",
       "      <th>Cellar Temperature</th>\n",
       "      <th>Serving Temperature</th>\n",
       "      <th>Score</th>\n",
       "      <th>style_len</th>\n",
       "      <th>min_cellar_temp</th>\n",
       "      <th>max_cellar_temp</th>\n",
       "      <th>min_serving_temp</th>\n",
       "      <th>max_serving_temp</th>\n",
       "    </tr>\n",
       "  </thead>\n",
       "  <tbody>\n",
       "    <tr>\n",
       "      <th>0</th>\n",
       "      <td>6.500000</td>\n",
       "      <td>8929</td>\n",
       "      <td>(Curried,Thai)Cheese(pepperyMontereyPepperJack...</td>\n",
       "      <td>PintGlass(orBecker,Nonic,Tumbler),Mug(orSeidel...</td>\n",
       "      <td>15121</td>\n",
       "      <td>22</td>\n",
       "      <td>AmericanIPA</td>\n",
       "      <td>40-45</td>\n",
       "      <td>45-50</td>\n",
       "      <td>3.28</td>\n",
       "      <td>11</td>\n",
       "      <td>40</td>\n",
       "      <td>45</td>\n",
       "      <td>45</td>\n",
       "      <td>50</td>\n",
       "    </tr>\n",
       "    <tr>\n",
       "      <th>1</th>\n",
       "      <td>5.500000</td>\n",
       "      <td>13187</td>\n",
       "      <td>(PanAsian)Cheese(earthyCamembert,Fontina,nutty...</td>\n",
       "      <td>PintGlass(orBecker,Nonic,Tumbler),Mug(orSeidel...</td>\n",
       "      <td>59817</td>\n",
       "      <td>1</td>\n",
       "      <td>AmericanPaleAle(APA)</td>\n",
       "      <td>35-40</td>\n",
       "      <td>40-45</td>\n",
       "      <td>3.52</td>\n",
       "      <td>20</td>\n",
       "      <td>35</td>\n",
       "      <td>40</td>\n",
       "      <td>40</td>\n",
       "      <td>45</td>\n",
       "    </tr>\n",
       "    <tr>\n",
       "      <th>2</th>\n",
       "      <td>8.100000</td>\n",
       "      <td>6834</td>\n",
       "      <td>Meat(Pork,Poultry)</td>\n",
       "      <td>PintGlass(orBecker,Nonic,Tumbler),Mug(orSeidel...</td>\n",
       "      <td>32669</td>\n",
       "      <td>3</td>\n",
       "      <td>IrishRedAle</td>\n",
       "      <td>35-40</td>\n",
       "      <td>40-45</td>\n",
       "      <td>4.01</td>\n",
       "      <td>11</td>\n",
       "      <td>35</td>\n",
       "      <td>40</td>\n",
       "      <td>40</td>\n",
       "      <td>45</td>\n",
       "    </tr>\n",
       "    <tr>\n",
       "      <th>3</th>\n",
       "      <td>6.354961</td>\n",
       "      <td>11688</td>\n",
       "      <td>(Indian,LatinAmerican,PanAsian)General(Aperitif)</td>\n",
       "      <td>PintGlass(orBecker,Nonic,Tumbler),PilsenerGlas...</td>\n",
       "      <td>130798</td>\n",
       "      <td>0</td>\n",
       "      <td>AmericanMaltLiquor</td>\n",
       "      <td>35-40</td>\n",
       "      <td>35-40</td>\n",
       "      <td>0.00</td>\n",
       "      <td>18</td>\n",
       "      <td>35</td>\n",
       "      <td>40</td>\n",
       "      <td>35</td>\n",
       "      <td>40</td>\n",
       "    </tr>\n",
       "    <tr>\n",
       "      <th>4</th>\n",
       "      <td>6.000000</td>\n",
       "      <td>10417</td>\n",
       "      <td>Meat(Poultry,Fish,Shellfish)</td>\n",
       "      <td>PilsenerGlass(orPokal)</td>\n",
       "      <td>124087</td>\n",
       "      <td>1</td>\n",
       "      <td>EuroPaleLager</td>\n",
       "      <td>35-40</td>\n",
       "      <td>40-45</td>\n",
       "      <td>2.73</td>\n",
       "      <td>13</td>\n",
       "      <td>35</td>\n",
       "      <td>40</td>\n",
       "      <td>40</td>\n",
       "      <td>45</td>\n",
       "    </tr>\n",
       "  </tbody>\n",
       "</table>\n",
       "</div>"
      ],
      "text/plain": [
       "        ABV  Brewing Company  \\\n",
       "0  6.500000             8929   \n",
       "1  5.500000            13187   \n",
       "2  8.100000             6834   \n",
       "3  6.354961            11688   \n",
       "4  6.000000            10417   \n",
       "\n",
       "                                         Food Paring  \\\n",
       "0  (Curried,Thai)Cheese(pepperyMontereyPepperJack...   \n",
       "1  (PanAsian)Cheese(earthyCamembert,Fontina,nutty...   \n",
       "2                                 Meat(Pork,Poultry)   \n",
       "3   (Indian,LatinAmerican,PanAsian)General(Aperitif)   \n",
       "4                       Meat(Poultry,Fish,Shellfish)   \n",
       "\n",
       "                                      Glassware Used  Beer Name Ratings  \\\n",
       "0  PintGlass(orBecker,Nonic,Tumbler),Mug(orSeidel...      15121      22   \n",
       "1  PintGlass(orBecker,Nonic,Tumbler),Mug(orSeidel...      59817       1   \n",
       "2  PintGlass(orBecker,Nonic,Tumbler),Mug(orSeidel...      32669       3   \n",
       "3  PintGlass(orBecker,Nonic,Tumbler),PilsenerGlas...     130798       0   \n",
       "4                             PilsenerGlass(orPokal)     124087       1   \n",
       "\n",
       "             Style Name Cellar Temperature Serving Temperature  Score  \\\n",
       "0           AmericanIPA              40-45               45-50   3.28   \n",
       "1  AmericanPaleAle(APA)              35-40               40-45   3.52   \n",
       "2           IrishRedAle              35-40               40-45   4.01   \n",
       "3    AmericanMaltLiquor              35-40               35-40   0.00   \n",
       "4         EuroPaleLager              35-40               40-45   2.73   \n",
       "\n",
       "   style_len  min_cellar_temp  max_cellar_temp  min_serving_temp  \\\n",
       "0         11               40               45                45   \n",
       "1         20               35               40                40   \n",
       "2         11               35               40                40   \n",
       "3         18               35               40                35   \n",
       "4         13               35               40                40   \n",
       "\n",
       "   max_serving_temp  \n",
       "0                50  \n",
       "1                45  \n",
       "2                45  \n",
       "3                40  \n",
       "4                45  "
      ]
     },
     "execution_count": 48,
     "metadata": {},
     "output_type": "execute_result"
    }
   ],
   "source": [
    "train_data.head()"
   ]
  },
  {
   "cell_type": "code",
   "execution_count": 49,
   "metadata": {},
   "outputs": [],
   "source": [
    "# Train data cleaning for cellar temperature and Serving Temperature\n",
    "test_data['min_cellar_temp']=[int(test_data['Cellar Temperature'][i].split('-')[0]) for i in range(len(test_data))]\n",
    "test_data['max_cellar_temp']=[int(test_data['Cellar Temperature'][i].split('-')[1]) for i in range(len(test_data))]\n",
    "test_data['min_serving_temp']=[int(test_data['Serving Temperature'][i].split('-')[0]) for i in range(len(test_data))]\n",
    "test_data['max_serving_temp']=[int(test_data['Serving Temperature'][i].split('-')[1]) for i in range(len(test_data))]"
   ]
  },
  {
   "cell_type": "code",
   "execution_count": 50,
   "metadata": {},
   "outputs": [
    {
     "data": {
      "text/plain": [
       "((185643, 17), (20628, 17))"
      ]
     },
     "execution_count": 50,
     "metadata": {},
     "output_type": "execute_result"
    }
   ],
   "source": [
    "final_train_1=train_data.join([new_df['item_score'], glass_df['glass_score']])\n",
    "final_test_1=test_data.join([nw_df['item_score'], glass_df_1['glass_score']])\n",
    "final_train_1.shape, final_test_1.shape"
   ]
  },
  {
   "cell_type": "code",
   "execution_count": 53,
   "metadata": {},
   "outputs": [],
   "source": [
    "final_train= final_train_1\n",
    "final_test= final_test_1"
   ]
  },
  {
   "cell_type": "code",
   "execution_count": 54,
   "metadata": {},
   "outputs": [],
   "source": [
    "# Remove comma's from the ratings column to train the model\n",
    "final_train['Ratings']=final_train_1['Ratings'].str.replace(',','').astype(int)\n",
    "final_test['Ratings']=final_test_1['Ratings'].str.replace(',','').astype(int)"
   ]
  },
  {
   "cell_type": "code",
   "execution_count": 55,
   "metadata": {},
   "outputs": [
    {
     "data": {
      "text/html": [
       "<div>\n",
       "<style scoped>\n",
       "    .dataframe tbody tr th:only-of-type {\n",
       "        vertical-align: middle;\n",
       "    }\n",
       "\n",
       "    .dataframe tbody tr th {\n",
       "        vertical-align: top;\n",
       "    }\n",
       "\n",
       "    .dataframe thead th {\n",
       "        text-align: right;\n",
       "    }\n",
       "</style>\n",
       "<table border=\"1\" class=\"dataframe\">\n",
       "  <thead>\n",
       "    <tr style=\"text-align: right;\">\n",
       "      <th></th>\n",
       "      <th>ABV</th>\n",
       "      <th>Brewing Company</th>\n",
       "      <th>Food Paring</th>\n",
       "      <th>Glassware Used</th>\n",
       "      <th>Beer Name</th>\n",
       "      <th>Ratings</th>\n",
       "      <th>Style Name</th>\n",
       "      <th>Cellar Temperature</th>\n",
       "      <th>Serving Temperature</th>\n",
       "      <th>Score</th>\n",
       "      <th>style_len</th>\n",
       "      <th>min_cellar_temp</th>\n",
       "      <th>max_cellar_temp</th>\n",
       "      <th>min_serving_temp</th>\n",
       "      <th>max_serving_temp</th>\n",
       "      <th>item_score</th>\n",
       "      <th>glass_score</th>\n",
       "    </tr>\n",
       "  </thead>\n",
       "  <tbody>\n",
       "    <tr>\n",
       "      <th>0</th>\n",
       "      <td>6.500000</td>\n",
       "      <td>8929</td>\n",
       "      <td>(Curried,Thai)Cheese(pepperyMontereyPepperJack...</td>\n",
       "      <td>PintGlass(orBecker,Nonic,Tumbler),Mug(orSeidel...</td>\n",
       "      <td>15121</td>\n",
       "      <td>22</td>\n",
       "      <td>AmericanIPA</td>\n",
       "      <td>40-45</td>\n",
       "      <td>45-50</td>\n",
       "      <td>3.28</td>\n",
       "      <td>11</td>\n",
       "      <td>40</td>\n",
       "      <td>45</td>\n",
       "      <td>45</td>\n",
       "      <td>50</td>\n",
       "      <td>3.0</td>\n",
       "      <td>2.0</td>\n",
       "    </tr>\n",
       "    <tr>\n",
       "      <th>1</th>\n",
       "      <td>5.500000</td>\n",
       "      <td>13187</td>\n",
       "      <td>(PanAsian)Cheese(earthyCamembert,Fontina,nutty...</td>\n",
       "      <td>PintGlass(orBecker,Nonic,Tumbler),Mug(orSeidel...</td>\n",
       "      <td>59817</td>\n",
       "      <td>1</td>\n",
       "      <td>AmericanPaleAle(APA)</td>\n",
       "      <td>35-40</td>\n",
       "      <td>40-45</td>\n",
       "      <td>3.52</td>\n",
       "      <td>20</td>\n",
       "      <td>35</td>\n",
       "      <td>40</td>\n",
       "      <td>40</td>\n",
       "      <td>45</td>\n",
       "      <td>4.0</td>\n",
       "      <td>2.0</td>\n",
       "    </tr>\n",
       "    <tr>\n",
       "      <th>2</th>\n",
       "      <td>8.100000</td>\n",
       "      <td>6834</td>\n",
       "      <td>Meat(Pork,Poultry)</td>\n",
       "      <td>PintGlass(orBecker,Nonic,Tumbler),Mug(orSeidel...</td>\n",
       "      <td>32669</td>\n",
       "      <td>3</td>\n",
       "      <td>IrishRedAle</td>\n",
       "      <td>35-40</td>\n",
       "      <td>40-45</td>\n",
       "      <td>4.01</td>\n",
       "      <td>11</td>\n",
       "      <td>35</td>\n",
       "      <td>40</td>\n",
       "      <td>40</td>\n",
       "      <td>45</td>\n",
       "      <td>1.0</td>\n",
       "      <td>2.0</td>\n",
       "    </tr>\n",
       "    <tr>\n",
       "      <th>3</th>\n",
       "      <td>6.354961</td>\n",
       "      <td>11688</td>\n",
       "      <td>(Indian,LatinAmerican,PanAsian)General(Aperitif)</td>\n",
       "      <td>PintGlass(orBecker,Nonic,Tumbler),PilsenerGlas...</td>\n",
       "      <td>130798</td>\n",
       "      <td>0</td>\n",
       "      <td>AmericanMaltLiquor</td>\n",
       "      <td>35-40</td>\n",
       "      <td>35-40</td>\n",
       "      <td>0.00</td>\n",
       "      <td>18</td>\n",
       "      <td>35</td>\n",
       "      <td>40</td>\n",
       "      <td>35</td>\n",
       "      <td>40</td>\n",
       "      <td>2.0</td>\n",
       "      <td>3.0</td>\n",
       "    </tr>\n",
       "    <tr>\n",
       "      <th>4</th>\n",
       "      <td>6.000000</td>\n",
       "      <td>10417</td>\n",
       "      <td>Meat(Poultry,Fish,Shellfish)</td>\n",
       "      <td>PilsenerGlass(orPokal)</td>\n",
       "      <td>124087</td>\n",
       "      <td>1</td>\n",
       "      <td>EuroPaleLager</td>\n",
       "      <td>35-40</td>\n",
       "      <td>40-45</td>\n",
       "      <td>2.73</td>\n",
       "      <td>13</td>\n",
       "      <td>35</td>\n",
       "      <td>40</td>\n",
       "      <td>40</td>\n",
       "      <td>45</td>\n",
       "      <td>1.0</td>\n",
       "      <td>1.0</td>\n",
       "    </tr>\n",
       "  </tbody>\n",
       "</table>\n",
       "</div>"
      ],
      "text/plain": [
       "        ABV  Brewing Company  \\\n",
       "0  6.500000             8929   \n",
       "1  5.500000            13187   \n",
       "2  8.100000             6834   \n",
       "3  6.354961            11688   \n",
       "4  6.000000            10417   \n",
       "\n",
       "                                         Food Paring  \\\n",
       "0  (Curried,Thai)Cheese(pepperyMontereyPepperJack...   \n",
       "1  (PanAsian)Cheese(earthyCamembert,Fontina,nutty...   \n",
       "2                                 Meat(Pork,Poultry)   \n",
       "3   (Indian,LatinAmerican,PanAsian)General(Aperitif)   \n",
       "4                       Meat(Poultry,Fish,Shellfish)   \n",
       "\n",
       "                                      Glassware Used  Beer Name  Ratings  \\\n",
       "0  PintGlass(orBecker,Nonic,Tumbler),Mug(orSeidel...      15121       22   \n",
       "1  PintGlass(orBecker,Nonic,Tumbler),Mug(orSeidel...      59817        1   \n",
       "2  PintGlass(orBecker,Nonic,Tumbler),Mug(orSeidel...      32669        3   \n",
       "3  PintGlass(orBecker,Nonic,Tumbler),PilsenerGlas...     130798        0   \n",
       "4                             PilsenerGlass(orPokal)     124087        1   \n",
       "\n",
       "             Style Name Cellar Temperature Serving Temperature  Score  \\\n",
       "0           AmericanIPA              40-45               45-50   3.28   \n",
       "1  AmericanPaleAle(APA)              35-40               40-45   3.52   \n",
       "2           IrishRedAle              35-40               40-45   4.01   \n",
       "3    AmericanMaltLiquor              35-40               35-40   0.00   \n",
       "4         EuroPaleLager              35-40               40-45   2.73   \n",
       "\n",
       "   style_len  min_cellar_temp  max_cellar_temp  min_serving_temp  \\\n",
       "0         11               40               45                45   \n",
       "1         20               35               40                40   \n",
       "2         11               35               40                40   \n",
       "3         18               35               40                35   \n",
       "4         13               35               40                40   \n",
       "\n",
       "   max_serving_temp  item_score  glass_score  \n",
       "0                50         3.0          2.0  \n",
       "1                45         4.0          2.0  \n",
       "2                45         1.0          2.0  \n",
       "3                40         2.0          3.0  \n",
       "4                45         1.0          1.0  "
      ]
     },
     "execution_count": 55,
     "metadata": {},
     "output_type": "execute_result"
    }
   ],
   "source": [
    "final_train.head()"
   ]
  },
  {
   "cell_type": "code",
   "execution_count": 56,
   "metadata": {},
   "outputs": [
    {
     "data": {
      "text/html": [
       "<div>\n",
       "<style scoped>\n",
       "    .dataframe tbody tr th:only-of-type {\n",
       "        vertical-align: middle;\n",
       "    }\n",
       "\n",
       "    .dataframe tbody tr th {\n",
       "        vertical-align: top;\n",
       "    }\n",
       "\n",
       "    .dataframe thead th {\n",
       "        text-align: right;\n",
       "    }\n",
       "</style>\n",
       "<table border=\"1\" class=\"dataframe\">\n",
       "  <thead>\n",
       "    <tr style=\"text-align: right;\">\n",
       "      <th></th>\n",
       "      <th>ABV</th>\n",
       "      <th>Brewing Company</th>\n",
       "      <th>Food Paring</th>\n",
       "      <th>Glassware Used</th>\n",
       "      <th>Beer Name</th>\n",
       "      <th>Ratings</th>\n",
       "      <th>Style Name</th>\n",
       "      <th>Cellar Temperature</th>\n",
       "      <th>Serving Temperature</th>\n",
       "      <th>Score</th>\n",
       "      <th>style_len</th>\n",
       "      <th>min_cellar_temp</th>\n",
       "      <th>max_cellar_temp</th>\n",
       "      <th>min_serving_temp</th>\n",
       "      <th>max_serving_temp</th>\n",
       "      <th>item_score</th>\n",
       "      <th>glass_score</th>\n",
       "    </tr>\n",
       "  </thead>\n",
       "  <tbody>\n",
       "    <tr>\n",
       "      <th>0</th>\n",
       "      <td>6.2</td>\n",
       "      <td>8803</td>\n",
       "      <td>(Curried,Thai)Cheese(pepperyMontereyPepperJack...</td>\n",
       "      <td>PintGlass(orBecker,Nonic,Tumbler),Mug(orSeidel...</td>\n",
       "      <td>34558</td>\n",
       "      <td>3</td>\n",
       "      <td>AmericanIPA</td>\n",
       "      <td>40-45</td>\n",
       "      <td>45-50</td>\n",
       "      <td>NaN</td>\n",
       "      <td>11</td>\n",
       "      <td>40</td>\n",
       "      <td>45</td>\n",
       "      <td>45</td>\n",
       "      <td>50</td>\n",
       "      <td>3.0</td>\n",
       "      <td>2.0</td>\n",
       "    </tr>\n",
       "    <tr>\n",
       "      <th>1</th>\n",
       "      <td>5.3</td>\n",
       "      <td>8558</td>\n",
       "      <td>(Barbecue)Cheese(butteryBrie,Gouda,Havarti,Swi...</td>\n",
       "      <td>PintGlass(orBecker,Nonic,Tumbler),Mug(orSeidel...</td>\n",
       "      <td>86826</td>\n",
       "      <td>20</td>\n",
       "      <td>AmericanPorter</td>\n",
       "      <td>40-45</td>\n",
       "      <td>45-50</td>\n",
       "      <td>NaN</td>\n",
       "      <td>14</td>\n",
       "      <td>40</td>\n",
       "      <td>45</td>\n",
       "      <td>45</td>\n",
       "      <td>50</td>\n",
       "      <td>4.0</td>\n",
       "      <td>2.0</td>\n",
       "    </tr>\n",
       "    <tr>\n",
       "      <th>2</th>\n",
       "      <td>7.0</td>\n",
       "      <td>7519</td>\n",
       "      <td>Cheese(earthyCamembert,Fontina)General(Aperitif)</td>\n",
       "      <td>Snifter,Tulip,OversizedWineGlass</td>\n",
       "      <td>17051</td>\n",
       "      <td>0</td>\n",
       "      <td>BelgianDarkAle</td>\n",
       "      <td>45-50</td>\n",
       "      <td>45-50</td>\n",
       "      <td>NaN</td>\n",
       "      <td>14</td>\n",
       "      <td>45</td>\n",
       "      <td>50</td>\n",
       "      <td>45</td>\n",
       "      <td>50</td>\n",
       "      <td>2.0</td>\n",
       "      <td>3.0</td>\n",
       "    </tr>\n",
       "    <tr>\n",
       "      <th>3</th>\n",
       "      <td>5.2</td>\n",
       "      <td>9852</td>\n",
       "      <td>(LatinAmerican,German)Meat(Pork,Poultry)</td>\n",
       "      <td>Flute,PilsenerGlass(orPokal),Mug(orSeidel,Stein)</td>\n",
       "      <td>49156</td>\n",
       "      <td>2</td>\n",
       "      <td>ViennaLager</td>\n",
       "      <td>35-40</td>\n",
       "      <td>40-45</td>\n",
       "      <td>NaN</td>\n",
       "      <td>11</td>\n",
       "      <td>35</td>\n",
       "      <td>40</td>\n",
       "      <td>40</td>\n",
       "      <td>45</td>\n",
       "      <td>2.0</td>\n",
       "      <td>3.0</td>\n",
       "    </tr>\n",
       "    <tr>\n",
       "      <th>4</th>\n",
       "      <td>8.1</td>\n",
       "      <td>8991</td>\n",
       "      <td>(Barbecue)Cheese(butteryBrie,Gouda,Havarti,Swi...</td>\n",
       "      <td>PintGlass(orBecker,Nonic,Tumbler),Mug(orSeidel...</td>\n",
       "      <td>162723</td>\n",
       "      <td>5</td>\n",
       "      <td>AmericanPorter</td>\n",
       "      <td>40-45</td>\n",
       "      <td>45-50</td>\n",
       "      <td>NaN</td>\n",
       "      <td>14</td>\n",
       "      <td>40</td>\n",
       "      <td>45</td>\n",
       "      <td>45</td>\n",
       "      <td>50</td>\n",
       "      <td>4.0</td>\n",
       "      <td>2.0</td>\n",
       "    </tr>\n",
       "  </tbody>\n",
       "</table>\n",
       "</div>"
      ],
      "text/plain": [
       "   ABV  Brewing Company                                        Food Paring  \\\n",
       "0  6.2             8803  (Curried,Thai)Cheese(pepperyMontereyPepperJack...   \n",
       "1  5.3             8558  (Barbecue)Cheese(butteryBrie,Gouda,Havarti,Swi...   \n",
       "2  7.0             7519   Cheese(earthyCamembert,Fontina)General(Aperitif)   \n",
       "3  5.2             9852           (LatinAmerican,German)Meat(Pork,Poultry)   \n",
       "4  8.1             8991  (Barbecue)Cheese(butteryBrie,Gouda,Havarti,Swi...   \n",
       "\n",
       "                                      Glassware Used  Beer Name  Ratings  \\\n",
       "0  PintGlass(orBecker,Nonic,Tumbler),Mug(orSeidel...      34558        3   \n",
       "1  PintGlass(orBecker,Nonic,Tumbler),Mug(orSeidel...      86826       20   \n",
       "2                   Snifter,Tulip,OversizedWineGlass      17051        0   \n",
       "3   Flute,PilsenerGlass(orPokal),Mug(orSeidel,Stein)      49156        2   \n",
       "4  PintGlass(orBecker,Nonic,Tumbler),Mug(orSeidel...     162723        5   \n",
       "\n",
       "       Style Name Cellar Temperature Serving Temperature  Score  style_len  \\\n",
       "0     AmericanIPA              40-45               45-50    NaN         11   \n",
       "1  AmericanPorter              40-45               45-50    NaN         14   \n",
       "2  BelgianDarkAle              45-50               45-50    NaN         14   \n",
       "3     ViennaLager              35-40               40-45    NaN         11   \n",
       "4  AmericanPorter              40-45               45-50    NaN         14   \n",
       "\n",
       "   min_cellar_temp  max_cellar_temp  min_serving_temp  max_serving_temp  \\\n",
       "0               40               45                45                50   \n",
       "1               40               45                45                50   \n",
       "2               45               50                45                50   \n",
       "3               35               40                40                45   \n",
       "4               40               45                45                50   \n",
       "\n",
       "   item_score  glass_score  \n",
       "0         3.0          2.0  \n",
       "1         4.0          2.0  \n",
       "2         2.0          3.0  \n",
       "3         2.0          3.0  \n",
       "4         4.0          2.0  "
      ]
     },
     "execution_count": 56,
     "metadata": {},
     "output_type": "execute_result"
    }
   ],
   "source": [
    "final_test.head()"
   ]
  },
  {
   "cell_type": "code",
   "execution_count": 57,
   "metadata": {},
   "outputs": [],
   "source": [
    "final_train.to_csv('train_cleaned.csv')\n",
    "final_test.to_csv('test_cleaned.csv')"
   ]
  },
  {
   "cell_type": "markdown",
   "metadata": {},
   "source": [
    "### END"
   ]
  }
 ],
 "metadata": {
  "kernelspec": {
   "display_name": "Python 3",
   "language": "python",
   "name": "python3"
  },
  "language_info": {
   "codemirror_mode": {
    "name": "ipython",
    "version": 3
   },
   "file_extension": ".py",
   "mimetype": "text/x-python",
   "name": "python",
   "nbconvert_exporter": "python",
   "pygments_lexer": "ipython3",
   "version": "3.6.5"
  }
 },
 "nbformat": 4,
 "nbformat_minor": 2
}
