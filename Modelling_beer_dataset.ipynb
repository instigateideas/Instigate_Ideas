{
 "cells": [
  {
   "cell_type": "code",
   "execution_count": 64,
   "metadata": {},
   "outputs": [],
   "source": [
    "import pandas as pd\n",
    "import numpy as np\n",
    "import os, re\n",
    "import matplotlib.pyplot as plt\n",
    "import nltk\n",
    "import math\n",
    "%matplotlib inline"
   ]
  },
  {
   "cell_type": "code",
   "execution_count": 65,
   "metadata": {},
   "outputs": [],
   "source": [
    "def sigmoid(x):\n",
    "    return 1 / (1 + math.e ** -x)"
   ]
  },
  {
   "cell_type": "code",
   "execution_count": 66,
   "metadata": {},
   "outputs": [],
   "source": [
    "os.chdir(r'D:\\Hackathon\\How-To-Choose-The-Perfect-Beer-Data-Set')"
   ]
  },
  {
   "cell_type": "code",
   "execution_count": 67,
   "metadata": {},
   "outputs": [
    {
     "data": {
      "text/plain": [
       "((185643, 18), (20628, 18))"
      ]
     },
     "execution_count": 67,
     "metadata": {},
     "output_type": "execute_result"
    }
   ],
   "source": [
    "train_data=pd.read_csv('train_cleaned.csv')\n",
    "test_data=pd.read_csv('test_cleaned.csv')\n",
    "train_data.shape, test_data.shape"
   ]
  },
  {
   "cell_type": "code",
   "execution_count": 68,
   "metadata": {},
   "outputs": [],
   "source": [
    "# Load the submission file and convert the scores to array\n",
    "y_act_final=pd.read_excel('Beer_Sample_Submission.xlsx',sheet_name='Sheet1')\n",
    "y_act_score=y_act_final.Score\n",
    "y_act_score=np.array(y_act_score)"
   ]
  },
  {
   "cell_type": "code",
   "execution_count": 69,
   "metadata": {},
   "outputs": [],
   "source": [
    "train_data['glassware_len']=[len(i) for i in train_data['Glassware Used']]\n",
    "test_data['glassware_len']=[len(i) for i in test_data['Glassware Used']]"
   ]
  },
  {
   "cell_type": "code",
   "execution_count": 70,
   "metadata": {},
   "outputs": [
    {
     "data": {
      "text/plain": [
       "count    185643.000000\n",
       "mean         32.955210\n",
       "std         254.863803\n",
       "min           0.000000\n",
       "25%           1.000000\n",
       "50%           2.000000\n",
       "75%           7.000000\n",
       "max       16954.000000\n",
       "Name: Ratings, dtype: float64"
      ]
     },
     "execution_count": 70,
     "metadata": {},
     "output_type": "execute_result"
    }
   ],
   "source": [
    "# Need to remove outliers\n",
    "train_data['Ratings'].describe()"
   ]
  },
  {
   "cell_type": "code",
   "execution_count": 71,
   "metadata": {},
   "outputs": [],
   "source": [
    "train_data['ratings_cat']=pd.qcut(train_data['Ratings'], q=[0,0.25,0.5,0.75, 1], labels=['A', 'B','C', 'D'])\n",
    "test_data['ratings_cat']=pd.qcut(test_data['Ratings'], q=[0,0.25,0.5,0.75, 1], labels=['A', 'B','C', 'D'])"
   ]
  },
  {
   "cell_type": "code",
   "execution_count": 72,
   "metadata": {},
   "outputs": [
    {
     "data": {
      "text/plain": [
       "count    185643.000000\n",
       "mean          6.354961\n",
       "std           1.827834\n",
       "min           0.010000\n",
       "25%           5.100000\n",
       "50%           6.100000\n",
       "75%           7.000000\n",
       "max          80.000000\n",
       "Name: ABV, dtype: float64"
      ]
     },
     "execution_count": 72,
     "metadata": {},
     "output_type": "execute_result"
    }
   ],
   "source": [
    "# This looks reasonable\n",
    "train_data['ABV'].describe()"
   ]
  },
  {
   "cell_type": "code",
   "execution_count": 73,
   "metadata": {},
   "outputs": [
    {
     "data": {
      "text/html": [
       "<div>\n",
       "<style scoped>\n",
       "    .dataframe tbody tr th:only-of-type {\n",
       "        vertical-align: middle;\n",
       "    }\n",
       "\n",
       "    .dataframe tbody tr th {\n",
       "        vertical-align: top;\n",
       "    }\n",
       "\n",
       "    .dataframe thead th {\n",
       "        text-align: right;\n",
       "    }\n",
       "</style>\n",
       "<table border=\"1\" class=\"dataframe\">\n",
       "  <thead>\n",
       "    <tr style=\"text-align: right;\">\n",
       "      <th></th>\n",
       "      <th>Unnamed: 0</th>\n",
       "      <th>ABV</th>\n",
       "      <th>Brewing Company</th>\n",
       "      <th>Food Paring</th>\n",
       "      <th>Glassware Used</th>\n",
       "      <th>Beer Name</th>\n",
       "      <th>Ratings</th>\n",
       "      <th>Style Name</th>\n",
       "      <th>Cellar Temperature</th>\n",
       "      <th>Serving Temperature</th>\n",
       "      <th>Score</th>\n",
       "      <th>style_len</th>\n",
       "      <th>min_cellar_temp</th>\n",
       "      <th>max_cellar_temp</th>\n",
       "      <th>min_serving_temp</th>\n",
       "      <th>max_serving_temp</th>\n",
       "      <th>item_score</th>\n",
       "      <th>glass_score</th>\n",
       "      <th>glassware_len</th>\n",
       "      <th>ratings_cat</th>\n",
       "    </tr>\n",
       "  </thead>\n",
       "  <tbody>\n",
       "    <tr>\n",
       "      <th>0</th>\n",
       "      <td>0</td>\n",
       "      <td>6.500000</td>\n",
       "      <td>8929</td>\n",
       "      <td>(Curried,Thai)Cheese(pepperyMontereyPepperJack...</td>\n",
       "      <td>PintGlass(orBecker,Nonic,Tumbler),Mug(orSeidel...</td>\n",
       "      <td>15121</td>\n",
       "      <td>22</td>\n",
       "      <td>AmericanIPA</td>\n",
       "      <td>40-45</td>\n",
       "      <td>45-50</td>\n",
       "      <td>3.28</td>\n",
       "      <td>11</td>\n",
       "      <td>40</td>\n",
       "      <td>45</td>\n",
       "      <td>45</td>\n",
       "      <td>50</td>\n",
       "      <td>3.0</td>\n",
       "      <td>2.0</td>\n",
       "      <td>53</td>\n",
       "      <td>D</td>\n",
       "    </tr>\n",
       "    <tr>\n",
       "      <th>1</th>\n",
       "      <td>1</td>\n",
       "      <td>5.500000</td>\n",
       "      <td>13187</td>\n",
       "      <td>(PanAsian)Cheese(earthyCamembert,Fontina,nutty...</td>\n",
       "      <td>PintGlass(orBecker,Nonic,Tumbler),Mug(orSeidel...</td>\n",
       "      <td>59817</td>\n",
       "      <td>1</td>\n",
       "      <td>AmericanPaleAle(APA)</td>\n",
       "      <td>35-40</td>\n",
       "      <td>40-45</td>\n",
       "      <td>3.52</td>\n",
       "      <td>20</td>\n",
       "      <td>35</td>\n",
       "      <td>40</td>\n",
       "      <td>40</td>\n",
       "      <td>45</td>\n",
       "      <td>4.0</td>\n",
       "      <td>2.0</td>\n",
       "      <td>53</td>\n",
       "      <td>A</td>\n",
       "    </tr>\n",
       "    <tr>\n",
       "      <th>2</th>\n",
       "      <td>2</td>\n",
       "      <td>8.100000</td>\n",
       "      <td>6834</td>\n",
       "      <td>Meat(Pork,Poultry)</td>\n",
       "      <td>PintGlass(orBecker,Nonic,Tumbler),Mug(orSeidel...</td>\n",
       "      <td>32669</td>\n",
       "      <td>3</td>\n",
       "      <td>IrishRedAle</td>\n",
       "      <td>35-40</td>\n",
       "      <td>40-45</td>\n",
       "      <td>4.01</td>\n",
       "      <td>11</td>\n",
       "      <td>35</td>\n",
       "      <td>40</td>\n",
       "      <td>40</td>\n",
       "      <td>45</td>\n",
       "      <td>1.0</td>\n",
       "      <td>2.0</td>\n",
       "      <td>53</td>\n",
       "      <td>C</td>\n",
       "    </tr>\n",
       "    <tr>\n",
       "      <th>3</th>\n",
       "      <td>3</td>\n",
       "      <td>6.354961</td>\n",
       "      <td>11688</td>\n",
       "      <td>(Indian,LatinAmerican,PanAsian)General(Aperitif)</td>\n",
       "      <td>PintGlass(orBecker,Nonic,Tumbler),PilsenerGlas...</td>\n",
       "      <td>130798</td>\n",
       "      <td>0</td>\n",
       "      <td>AmericanMaltLiquor</td>\n",
       "      <td>35-40</td>\n",
       "      <td>35-40</td>\n",
       "      <td>0.00</td>\n",
       "      <td>18</td>\n",
       "      <td>35</td>\n",
       "      <td>40</td>\n",
       "      <td>35</td>\n",
       "      <td>40</td>\n",
       "      <td>2.0</td>\n",
       "      <td>3.0</td>\n",
       "      <td>76</td>\n",
       "      <td>A</td>\n",
       "    </tr>\n",
       "    <tr>\n",
       "      <th>4</th>\n",
       "      <td>4</td>\n",
       "      <td>6.000000</td>\n",
       "      <td>10417</td>\n",
       "      <td>Meat(Poultry,Fish,Shellfish)</td>\n",
       "      <td>PilsenerGlass(orPokal)</td>\n",
       "      <td>124087</td>\n",
       "      <td>1</td>\n",
       "      <td>EuroPaleLager</td>\n",
       "      <td>35-40</td>\n",
       "      <td>40-45</td>\n",
       "      <td>2.73</td>\n",
       "      <td>13</td>\n",
       "      <td>35</td>\n",
       "      <td>40</td>\n",
       "      <td>40</td>\n",
       "      <td>45</td>\n",
       "      <td>1.0</td>\n",
       "      <td>1.0</td>\n",
       "      <td>22</td>\n",
       "      <td>A</td>\n",
       "    </tr>\n",
       "  </tbody>\n",
       "</table>\n",
       "</div>"
      ],
      "text/plain": [
       "   Unnamed: 0       ABV  Brewing Company  \\\n",
       "0           0  6.500000             8929   \n",
       "1           1  5.500000            13187   \n",
       "2           2  8.100000             6834   \n",
       "3           3  6.354961            11688   \n",
       "4           4  6.000000            10417   \n",
       "\n",
       "                                         Food Paring  \\\n",
       "0  (Curried,Thai)Cheese(pepperyMontereyPepperJack...   \n",
       "1  (PanAsian)Cheese(earthyCamembert,Fontina,nutty...   \n",
       "2                                 Meat(Pork,Poultry)   \n",
       "3   (Indian,LatinAmerican,PanAsian)General(Aperitif)   \n",
       "4                       Meat(Poultry,Fish,Shellfish)   \n",
       "\n",
       "                                      Glassware Used  Beer Name  Ratings  \\\n",
       "0  PintGlass(orBecker,Nonic,Tumbler),Mug(orSeidel...      15121       22   \n",
       "1  PintGlass(orBecker,Nonic,Tumbler),Mug(orSeidel...      59817        1   \n",
       "2  PintGlass(orBecker,Nonic,Tumbler),Mug(orSeidel...      32669        3   \n",
       "3  PintGlass(orBecker,Nonic,Tumbler),PilsenerGlas...     130798        0   \n",
       "4                             PilsenerGlass(orPokal)     124087        1   \n",
       "\n",
       "             Style Name Cellar Temperature Serving Temperature  Score  \\\n",
       "0           AmericanIPA              40-45               45-50   3.28   \n",
       "1  AmericanPaleAle(APA)              35-40               40-45   3.52   \n",
       "2           IrishRedAle              35-40               40-45   4.01   \n",
       "3    AmericanMaltLiquor              35-40               35-40   0.00   \n",
       "4         EuroPaleLager              35-40               40-45   2.73   \n",
       "\n",
       "   style_len  min_cellar_temp  max_cellar_temp  min_serving_temp  \\\n",
       "0         11               40               45                45   \n",
       "1         20               35               40                40   \n",
       "2         11               35               40                40   \n",
       "3         18               35               40                35   \n",
       "4         13               35               40                40   \n",
       "\n",
       "   max_serving_temp  item_score  glass_score  glassware_len ratings_cat  \n",
       "0                50         3.0          2.0             53           D  \n",
       "1                45         4.0          2.0             53           A  \n",
       "2                45         1.0          2.0             53           C  \n",
       "3                40         2.0          3.0             76           A  \n",
       "4                45         1.0          1.0             22           A  "
      ]
     },
     "execution_count": 73,
     "metadata": {},
     "output_type": "execute_result"
    }
   ],
   "source": [
    "train_data.head()"
   ]
  },
  {
   "cell_type": "code",
   "execution_count": 74,
   "metadata": {},
   "outputs": [
    {
     "data": {
      "text/html": [
       "<div>\n",
       "<style scoped>\n",
       "    .dataframe tbody tr th:only-of-type {\n",
       "        vertical-align: middle;\n",
       "    }\n",
       "\n",
       "    .dataframe tbody tr th {\n",
       "        vertical-align: top;\n",
       "    }\n",
       "\n",
       "    .dataframe thead th {\n",
       "        text-align: right;\n",
       "    }\n",
       "</style>\n",
       "<table border=\"1\" class=\"dataframe\">\n",
       "  <thead>\n",
       "    <tr style=\"text-align: right;\">\n",
       "      <th></th>\n",
       "      <th>Unnamed: 0</th>\n",
       "      <th>ABV</th>\n",
       "      <th>Brewing Company</th>\n",
       "      <th>Food Paring</th>\n",
       "      <th>Glassware Used</th>\n",
       "      <th>Beer Name</th>\n",
       "      <th>Ratings</th>\n",
       "      <th>Style Name</th>\n",
       "      <th>Cellar Temperature</th>\n",
       "      <th>Serving Temperature</th>\n",
       "      <th>Score</th>\n",
       "      <th>style_len</th>\n",
       "      <th>min_cellar_temp</th>\n",
       "      <th>max_cellar_temp</th>\n",
       "      <th>min_serving_temp</th>\n",
       "      <th>max_serving_temp</th>\n",
       "      <th>item_score</th>\n",
       "      <th>glass_score</th>\n",
       "      <th>glassware_len</th>\n",
       "      <th>ratings_cat</th>\n",
       "    </tr>\n",
       "  </thead>\n",
       "  <tbody>\n",
       "    <tr>\n",
       "      <th>0</th>\n",
       "      <td>0</td>\n",
       "      <td>6.2</td>\n",
       "      <td>8803</td>\n",
       "      <td>(Curried,Thai)Cheese(pepperyMontereyPepperJack...</td>\n",
       "      <td>PintGlass(orBecker,Nonic,Tumbler),Mug(orSeidel...</td>\n",
       "      <td>34558</td>\n",
       "      <td>3</td>\n",
       "      <td>AmericanIPA</td>\n",
       "      <td>40-45</td>\n",
       "      <td>45-50</td>\n",
       "      <td>NaN</td>\n",
       "      <td>11</td>\n",
       "      <td>40</td>\n",
       "      <td>45</td>\n",
       "      <td>45</td>\n",
       "      <td>50</td>\n",
       "      <td>3.0</td>\n",
       "      <td>2.0</td>\n",
       "      <td>53</td>\n",
       "      <td>C</td>\n",
       "    </tr>\n",
       "    <tr>\n",
       "      <th>1</th>\n",
       "      <td>1</td>\n",
       "      <td>5.3</td>\n",
       "      <td>8558</td>\n",
       "      <td>(Barbecue)Cheese(butteryBrie,Gouda,Havarti,Swi...</td>\n",
       "      <td>PintGlass(orBecker,Nonic,Tumbler),Mug(orSeidel...</td>\n",
       "      <td>86826</td>\n",
       "      <td>20</td>\n",
       "      <td>AmericanPorter</td>\n",
       "      <td>40-45</td>\n",
       "      <td>45-50</td>\n",
       "      <td>NaN</td>\n",
       "      <td>14</td>\n",
       "      <td>40</td>\n",
       "      <td>45</td>\n",
       "      <td>45</td>\n",
       "      <td>50</td>\n",
       "      <td>4.0</td>\n",
       "      <td>2.0</td>\n",
       "      <td>53</td>\n",
       "      <td>D</td>\n",
       "    </tr>\n",
       "    <tr>\n",
       "      <th>2</th>\n",
       "      <td>2</td>\n",
       "      <td>7.0</td>\n",
       "      <td>7519</td>\n",
       "      <td>Cheese(earthyCamembert,Fontina)General(Aperitif)</td>\n",
       "      <td>Snifter,Tulip,OversizedWineGlass</td>\n",
       "      <td>17051</td>\n",
       "      <td>0</td>\n",
       "      <td>BelgianDarkAle</td>\n",
       "      <td>45-50</td>\n",
       "      <td>45-50</td>\n",
       "      <td>NaN</td>\n",
       "      <td>14</td>\n",
       "      <td>45</td>\n",
       "      <td>50</td>\n",
       "      <td>45</td>\n",
       "      <td>50</td>\n",
       "      <td>2.0</td>\n",
       "      <td>3.0</td>\n",
       "      <td>32</td>\n",
       "      <td>A</td>\n",
       "    </tr>\n",
       "    <tr>\n",
       "      <th>3</th>\n",
       "      <td>3</td>\n",
       "      <td>5.2</td>\n",
       "      <td>9852</td>\n",
       "      <td>(LatinAmerican,German)Meat(Pork,Poultry)</td>\n",
       "      <td>Flute,PilsenerGlass(orPokal),Mug(orSeidel,Stein)</td>\n",
       "      <td>49156</td>\n",
       "      <td>2</td>\n",
       "      <td>ViennaLager</td>\n",
       "      <td>35-40</td>\n",
       "      <td>40-45</td>\n",
       "      <td>NaN</td>\n",
       "      <td>11</td>\n",
       "      <td>35</td>\n",
       "      <td>40</td>\n",
       "      <td>40</td>\n",
       "      <td>45</td>\n",
       "      <td>2.0</td>\n",
       "      <td>3.0</td>\n",
       "      <td>48</td>\n",
       "      <td>B</td>\n",
       "    </tr>\n",
       "    <tr>\n",
       "      <th>4</th>\n",
       "      <td>4</td>\n",
       "      <td>8.1</td>\n",
       "      <td>8991</td>\n",
       "      <td>(Barbecue)Cheese(butteryBrie,Gouda,Havarti,Swi...</td>\n",
       "      <td>PintGlass(orBecker,Nonic,Tumbler),Mug(orSeidel...</td>\n",
       "      <td>162723</td>\n",
       "      <td>5</td>\n",
       "      <td>AmericanPorter</td>\n",
       "      <td>40-45</td>\n",
       "      <td>45-50</td>\n",
       "      <td>NaN</td>\n",
       "      <td>14</td>\n",
       "      <td>40</td>\n",
       "      <td>45</td>\n",
       "      <td>45</td>\n",
       "      <td>50</td>\n",
       "      <td>4.0</td>\n",
       "      <td>2.0</td>\n",
       "      <td>53</td>\n",
       "      <td>C</td>\n",
       "    </tr>\n",
       "  </tbody>\n",
       "</table>\n",
       "</div>"
      ],
      "text/plain": [
       "   Unnamed: 0  ABV  Brewing Company  \\\n",
       "0           0  6.2             8803   \n",
       "1           1  5.3             8558   \n",
       "2           2  7.0             7519   \n",
       "3           3  5.2             9852   \n",
       "4           4  8.1             8991   \n",
       "\n",
       "                                         Food Paring  \\\n",
       "0  (Curried,Thai)Cheese(pepperyMontereyPepperJack...   \n",
       "1  (Barbecue)Cheese(butteryBrie,Gouda,Havarti,Swi...   \n",
       "2   Cheese(earthyCamembert,Fontina)General(Aperitif)   \n",
       "3           (LatinAmerican,German)Meat(Pork,Poultry)   \n",
       "4  (Barbecue)Cheese(butteryBrie,Gouda,Havarti,Swi...   \n",
       "\n",
       "                                      Glassware Used  Beer Name  Ratings  \\\n",
       "0  PintGlass(orBecker,Nonic,Tumbler),Mug(orSeidel...      34558        3   \n",
       "1  PintGlass(orBecker,Nonic,Tumbler),Mug(orSeidel...      86826       20   \n",
       "2                   Snifter,Tulip,OversizedWineGlass      17051        0   \n",
       "3   Flute,PilsenerGlass(orPokal),Mug(orSeidel,Stein)      49156        2   \n",
       "4  PintGlass(orBecker,Nonic,Tumbler),Mug(orSeidel...     162723        5   \n",
       "\n",
       "       Style Name Cellar Temperature Serving Temperature  Score  style_len  \\\n",
       "0     AmericanIPA              40-45               45-50    NaN         11   \n",
       "1  AmericanPorter              40-45               45-50    NaN         14   \n",
       "2  BelgianDarkAle              45-50               45-50    NaN         14   \n",
       "3     ViennaLager              35-40               40-45    NaN         11   \n",
       "4  AmericanPorter              40-45               45-50    NaN         14   \n",
       "\n",
       "   min_cellar_temp  max_cellar_temp  min_serving_temp  max_serving_temp  \\\n",
       "0               40               45                45                50   \n",
       "1               40               45                45                50   \n",
       "2               45               50                45                50   \n",
       "3               35               40                40                45   \n",
       "4               40               45                45                50   \n",
       "\n",
       "   item_score  glass_score  glassware_len ratings_cat  \n",
       "0         3.0          2.0             53           C  \n",
       "1         4.0          2.0             53           D  \n",
       "2         2.0          3.0             32           A  \n",
       "3         2.0          3.0             48           B  \n",
       "4         4.0          2.0             53           C  "
      ]
     },
     "execution_count": 74,
     "metadata": {},
     "output_type": "execute_result"
    }
   ],
   "source": [
    "test_data.head()"
   ]
  },
  {
   "cell_type": "code",
   "execution_count": 75,
   "metadata": {},
   "outputs": [],
   "source": [
    "train_data_1=pd.get_dummies(train_data['ratings_cat'])\n",
    "test_data_1=pd.get_dummies(test_data['ratings_cat'])"
   ]
  },
  {
   "cell_type": "code",
   "execution_count": 76,
   "metadata": {},
   "outputs": [],
   "source": [
    "train_data=train_data.join(train_data_1)\n",
    "test_data=test_data.join(test_data_1)"
   ]
  },
  {
   "cell_type": "code",
   "execution_count": 77,
   "metadata": {},
   "outputs": [],
   "source": [
    "train_data_final=train_data.drop(labels=['Unnamed: 0','Beer Name','Brewing Company','max_cellar_temp',\\\n",
    "                                        'max_serving_temp','glassware_len','Food Paring','Glassware Used','Style Name',\\\n",
    "                                        'Cellar Temperature','Serving Temperature','ratings_cat'], axis=1)\n",
    "test_data_final=test_data.drop(labels=['Unnamed: 0','Beer Name','Brewing Company','max_cellar_temp',\\\n",
    "                                        'max_serving_temp','glassware_len','Food Paring','Glassware Used','Style Name',\\\n",
    "                                        'Cellar Temperature','Serving Temperature','ratings_cat'], axis=1)"
   ]
  },
  {
   "cell_type": "code",
   "execution_count": 78,
   "metadata": {},
   "outputs": [
    {
     "data": {
      "text/html": [
       "<div>\n",
       "<style scoped>\n",
       "    .dataframe tbody tr th:only-of-type {\n",
       "        vertical-align: middle;\n",
       "    }\n",
       "\n",
       "    .dataframe tbody tr th {\n",
       "        vertical-align: top;\n",
       "    }\n",
       "\n",
       "    .dataframe thead th {\n",
       "        text-align: right;\n",
       "    }\n",
       "</style>\n",
       "<table border=\"1\" class=\"dataframe\">\n",
       "  <thead>\n",
       "    <tr style=\"text-align: right;\">\n",
       "      <th></th>\n",
       "      <th>ABV</th>\n",
       "      <th>Ratings</th>\n",
       "      <th>Score</th>\n",
       "      <th>style_len</th>\n",
       "      <th>min_cellar_temp</th>\n",
       "      <th>min_serving_temp</th>\n",
       "      <th>item_score</th>\n",
       "      <th>glass_score</th>\n",
       "      <th>A</th>\n",
       "      <th>B</th>\n",
       "      <th>C</th>\n",
       "      <th>D</th>\n",
       "    </tr>\n",
       "  </thead>\n",
       "  <tbody>\n",
       "    <tr>\n",
       "      <th>0</th>\n",
       "      <td>6.500000</td>\n",
       "      <td>22</td>\n",
       "      <td>3.28</td>\n",
       "      <td>11</td>\n",
       "      <td>40</td>\n",
       "      <td>45</td>\n",
       "      <td>3.0</td>\n",
       "      <td>2.0</td>\n",
       "      <td>0</td>\n",
       "      <td>0</td>\n",
       "      <td>0</td>\n",
       "      <td>1</td>\n",
       "    </tr>\n",
       "    <tr>\n",
       "      <th>1</th>\n",
       "      <td>5.500000</td>\n",
       "      <td>1</td>\n",
       "      <td>3.52</td>\n",
       "      <td>20</td>\n",
       "      <td>35</td>\n",
       "      <td>40</td>\n",
       "      <td>4.0</td>\n",
       "      <td>2.0</td>\n",
       "      <td>1</td>\n",
       "      <td>0</td>\n",
       "      <td>0</td>\n",
       "      <td>0</td>\n",
       "    </tr>\n",
       "    <tr>\n",
       "      <th>2</th>\n",
       "      <td>8.100000</td>\n",
       "      <td>3</td>\n",
       "      <td>4.01</td>\n",
       "      <td>11</td>\n",
       "      <td>35</td>\n",
       "      <td>40</td>\n",
       "      <td>1.0</td>\n",
       "      <td>2.0</td>\n",
       "      <td>0</td>\n",
       "      <td>0</td>\n",
       "      <td>1</td>\n",
       "      <td>0</td>\n",
       "    </tr>\n",
       "    <tr>\n",
       "      <th>3</th>\n",
       "      <td>6.354961</td>\n",
       "      <td>0</td>\n",
       "      <td>0.00</td>\n",
       "      <td>18</td>\n",
       "      <td>35</td>\n",
       "      <td>35</td>\n",
       "      <td>2.0</td>\n",
       "      <td>3.0</td>\n",
       "      <td>1</td>\n",
       "      <td>0</td>\n",
       "      <td>0</td>\n",
       "      <td>0</td>\n",
       "    </tr>\n",
       "    <tr>\n",
       "      <th>4</th>\n",
       "      <td>6.000000</td>\n",
       "      <td>1</td>\n",
       "      <td>2.73</td>\n",
       "      <td>13</td>\n",
       "      <td>35</td>\n",
       "      <td>40</td>\n",
       "      <td>1.0</td>\n",
       "      <td>1.0</td>\n",
       "      <td>1</td>\n",
       "      <td>0</td>\n",
       "      <td>0</td>\n",
       "      <td>0</td>\n",
       "    </tr>\n",
       "  </tbody>\n",
       "</table>\n",
       "</div>"
      ],
      "text/plain": [
       "        ABV  Ratings  Score  style_len  min_cellar_temp  min_serving_temp  \\\n",
       "0  6.500000       22   3.28         11               40                45   \n",
       "1  5.500000        1   3.52         20               35                40   \n",
       "2  8.100000        3   4.01         11               35                40   \n",
       "3  6.354961        0   0.00         18               35                35   \n",
       "4  6.000000        1   2.73         13               35                40   \n",
       "\n",
       "   item_score  glass_score  A  B  C  D  \n",
       "0         3.0          2.0  0  0  0  1  \n",
       "1         4.0          2.0  1  0  0  0  \n",
       "2         1.0          2.0  0  0  1  0  \n",
       "3         2.0          3.0  1  0  0  0  \n",
       "4         1.0          1.0  1  0  0  0  "
      ]
     },
     "execution_count": 78,
     "metadata": {},
     "output_type": "execute_result"
    }
   ],
   "source": [
    "train_data_final.head()"
   ]
  },
  {
   "cell_type": "code",
   "execution_count": 79,
   "metadata": {},
   "outputs": [
    {
     "data": {
      "text/html": [
       "<div>\n",
       "<style scoped>\n",
       "    .dataframe tbody tr th:only-of-type {\n",
       "        vertical-align: middle;\n",
       "    }\n",
       "\n",
       "    .dataframe tbody tr th {\n",
       "        vertical-align: top;\n",
       "    }\n",
       "\n",
       "    .dataframe thead th {\n",
       "        text-align: right;\n",
       "    }\n",
       "</style>\n",
       "<table border=\"1\" class=\"dataframe\">\n",
       "  <thead>\n",
       "    <tr style=\"text-align: right;\">\n",
       "      <th></th>\n",
       "      <th>ABV</th>\n",
       "      <th>Ratings</th>\n",
       "      <th>Score</th>\n",
       "      <th>style_len</th>\n",
       "      <th>min_cellar_temp</th>\n",
       "      <th>min_serving_temp</th>\n",
       "      <th>item_score</th>\n",
       "      <th>glass_score</th>\n",
       "      <th>A</th>\n",
       "      <th>B</th>\n",
       "      <th>C</th>\n",
       "      <th>D</th>\n",
       "    </tr>\n",
       "  </thead>\n",
       "  <tbody>\n",
       "    <tr>\n",
       "      <th>ABV</th>\n",
       "      <td>1.000000</td>\n",
       "      <td>0.053559</td>\n",
       "      <td>0.130498</td>\n",
       "      <td>0.272474</td>\n",
       "      <td>0.288131</td>\n",
       "      <td>0.461440</td>\n",
       "      <td>0.029844</td>\n",
       "      <td>0.302961</td>\n",
       "      <td>-0.071572</td>\n",
       "      <td>-0.001701</td>\n",
       "      <td>0.009918</td>\n",
       "      <td>0.073951</td>\n",
       "    </tr>\n",
       "    <tr>\n",
       "      <th>Ratings</th>\n",
       "      <td>0.053559</td>\n",
       "      <td>1.000000</td>\n",
       "      <td>0.065293</td>\n",
       "      <td>0.023099</td>\n",
       "      <td>0.022313</td>\n",
       "      <td>0.028100</td>\n",
       "      <td>-0.007520</td>\n",
       "      <td>0.025692</td>\n",
       "      <td>-0.107457</td>\n",
       "      <td>-0.046509</td>\n",
       "      <td>-0.057415</td>\n",
       "      <td>0.213216</td>\n",
       "    </tr>\n",
       "    <tr>\n",
       "      <th>Score</th>\n",
       "      <td>0.130498</td>\n",
       "      <td>0.065293</td>\n",
       "      <td>1.000000</td>\n",
       "      <td>0.052274</td>\n",
       "      <td>0.074949</td>\n",
       "      <td>0.124193</td>\n",
       "      <td>0.036020</td>\n",
       "      <td>0.077039</td>\n",
       "      <td>-0.467859</td>\n",
       "      <td>0.146154</td>\n",
       "      <td>0.198184</td>\n",
       "      <td>0.235860</td>\n",
       "    </tr>\n",
       "    <tr>\n",
       "      <th>style_len</th>\n",
       "      <td>0.272474</td>\n",
       "      <td>0.023099</td>\n",
       "      <td>0.052274</td>\n",
       "      <td>1.000000</td>\n",
       "      <td>0.139246</td>\n",
       "      <td>0.169907</td>\n",
       "      <td>0.057706</td>\n",
       "      <td>0.338820</td>\n",
       "      <td>-0.040906</td>\n",
       "      <td>-0.006085</td>\n",
       "      <td>0.012945</td>\n",
       "      <td>0.039376</td>\n",
       "    </tr>\n",
       "    <tr>\n",
       "      <th>min_cellar_temp</th>\n",
       "      <td>0.288131</td>\n",
       "      <td>0.022313</td>\n",
       "      <td>0.074949</td>\n",
       "      <td>0.139246</td>\n",
       "      <td>1.000000</td>\n",
       "      <td>0.266265</td>\n",
       "      <td>0.224390</td>\n",
       "      <td>0.196104</td>\n",
       "      <td>-0.042746</td>\n",
       "      <td>-0.003859</td>\n",
       "      <td>0.012279</td>\n",
       "      <td>0.040386</td>\n",
       "    </tr>\n",
       "    <tr>\n",
       "      <th>min_serving_temp</th>\n",
       "      <td>0.461440</td>\n",
       "      <td>0.028100</td>\n",
       "      <td>0.124193</td>\n",
       "      <td>0.169907</td>\n",
       "      <td>0.266265</td>\n",
       "      <td>1.000000</td>\n",
       "      <td>0.101435</td>\n",
       "      <td>0.290187</td>\n",
       "      <td>-0.046020</td>\n",
       "      <td>0.004789</td>\n",
       "      <td>0.010756</td>\n",
       "      <td>0.038863</td>\n",
       "    </tr>\n",
       "    <tr>\n",
       "      <th>item_score</th>\n",
       "      <td>0.029844</td>\n",
       "      <td>-0.007520</td>\n",
       "      <td>0.036020</td>\n",
       "      <td>0.057706</td>\n",
       "      <td>0.224390</td>\n",
       "      <td>0.101435</td>\n",
       "      <td>1.000000</td>\n",
       "      <td>-0.007843</td>\n",
       "      <td>0.002632</td>\n",
       "      <td>0.001384</td>\n",
       "      <td>0.006163</td>\n",
       "      <td>-0.009892</td>\n",
       "    </tr>\n",
       "    <tr>\n",
       "      <th>glass_score</th>\n",
       "      <td>0.302961</td>\n",
       "      <td>0.025692</td>\n",
       "      <td>0.077039</td>\n",
       "      <td>0.338820</td>\n",
       "      <td>0.196104</td>\n",
       "      <td>0.290187</td>\n",
       "      <td>-0.007843</td>\n",
       "      <td>1.000000</td>\n",
       "      <td>-0.039314</td>\n",
       "      <td>-0.004783</td>\n",
       "      <td>0.008000</td>\n",
       "      <td>0.041201</td>\n",
       "    </tr>\n",
       "    <tr>\n",
       "      <th>A</th>\n",
       "      <td>-0.071572</td>\n",
       "      <td>-0.107457</td>\n",
       "      <td>-0.467859</td>\n",
       "      <td>-0.040906</td>\n",
       "      <td>-0.042746</td>\n",
       "      <td>-0.046020</td>\n",
       "      <td>0.002632</td>\n",
       "      <td>-0.039314</td>\n",
       "      <td>1.000000</td>\n",
       "      <td>-0.324767</td>\n",
       "      <td>-0.434264</td>\n",
       "      <td>-0.484482</td>\n",
       "    </tr>\n",
       "    <tr>\n",
       "      <th>B</th>\n",
       "      <td>-0.001701</td>\n",
       "      <td>-0.046509</td>\n",
       "      <td>0.146154</td>\n",
       "      <td>-0.006085</td>\n",
       "      <td>-0.003859</td>\n",
       "      <td>0.004789</td>\n",
       "      <td>0.001384</td>\n",
       "      <td>-0.004783</td>\n",
       "      <td>-0.324767</td>\n",
       "      <td>1.000000</td>\n",
       "      <td>-0.196068</td>\n",
       "      <td>-0.218742</td>\n",
       "    </tr>\n",
       "    <tr>\n",
       "      <th>C</th>\n",
       "      <td>0.009918</td>\n",
       "      <td>-0.057415</td>\n",
       "      <td>0.198184</td>\n",
       "      <td>0.012945</td>\n",
       "      <td>0.012279</td>\n",
       "      <td>0.010756</td>\n",
       "      <td>0.006163</td>\n",
       "      <td>0.008000</td>\n",
       "      <td>-0.434264</td>\n",
       "      <td>-0.196068</td>\n",
       "      <td>1.000000</td>\n",
       "      <td>-0.292491</td>\n",
       "    </tr>\n",
       "    <tr>\n",
       "      <th>D</th>\n",
       "      <td>0.073951</td>\n",
       "      <td>0.213216</td>\n",
       "      <td>0.235860</td>\n",
       "      <td>0.039376</td>\n",
       "      <td>0.040386</td>\n",
       "      <td>0.038863</td>\n",
       "      <td>-0.009892</td>\n",
       "      <td>0.041201</td>\n",
       "      <td>-0.484482</td>\n",
       "      <td>-0.218742</td>\n",
       "      <td>-0.292491</td>\n",
       "      <td>1.000000</td>\n",
       "    </tr>\n",
       "  </tbody>\n",
       "</table>\n",
       "</div>"
      ],
      "text/plain": [
       "                       ABV   Ratings     Score  style_len  min_cellar_temp  \\\n",
       "ABV               1.000000  0.053559  0.130498   0.272474         0.288131   \n",
       "Ratings           0.053559  1.000000  0.065293   0.023099         0.022313   \n",
       "Score             0.130498  0.065293  1.000000   0.052274         0.074949   \n",
       "style_len         0.272474  0.023099  0.052274   1.000000         0.139246   \n",
       "min_cellar_temp   0.288131  0.022313  0.074949   0.139246         1.000000   \n",
       "min_serving_temp  0.461440  0.028100  0.124193   0.169907         0.266265   \n",
       "item_score        0.029844 -0.007520  0.036020   0.057706         0.224390   \n",
       "glass_score       0.302961  0.025692  0.077039   0.338820         0.196104   \n",
       "A                -0.071572 -0.107457 -0.467859  -0.040906        -0.042746   \n",
       "B                -0.001701 -0.046509  0.146154  -0.006085        -0.003859   \n",
       "C                 0.009918 -0.057415  0.198184   0.012945         0.012279   \n",
       "D                 0.073951  0.213216  0.235860   0.039376         0.040386   \n",
       "\n",
       "                  min_serving_temp  item_score  glass_score         A  \\\n",
       "ABV                       0.461440    0.029844     0.302961 -0.071572   \n",
       "Ratings                   0.028100   -0.007520     0.025692 -0.107457   \n",
       "Score                     0.124193    0.036020     0.077039 -0.467859   \n",
       "style_len                 0.169907    0.057706     0.338820 -0.040906   \n",
       "min_cellar_temp           0.266265    0.224390     0.196104 -0.042746   \n",
       "min_serving_temp          1.000000    0.101435     0.290187 -0.046020   \n",
       "item_score                0.101435    1.000000    -0.007843  0.002632   \n",
       "glass_score               0.290187   -0.007843     1.000000 -0.039314   \n",
       "A                        -0.046020    0.002632    -0.039314  1.000000   \n",
       "B                         0.004789    0.001384    -0.004783 -0.324767   \n",
       "C                         0.010756    0.006163     0.008000 -0.434264   \n",
       "D                         0.038863   -0.009892     0.041201 -0.484482   \n",
       "\n",
       "                         B         C         D  \n",
       "ABV              -0.001701  0.009918  0.073951  \n",
       "Ratings          -0.046509 -0.057415  0.213216  \n",
       "Score             0.146154  0.198184  0.235860  \n",
       "style_len        -0.006085  0.012945  0.039376  \n",
       "min_cellar_temp  -0.003859  0.012279  0.040386  \n",
       "min_serving_temp  0.004789  0.010756  0.038863  \n",
       "item_score        0.001384  0.006163 -0.009892  \n",
       "glass_score      -0.004783  0.008000  0.041201  \n",
       "A                -0.324767 -0.434264 -0.484482  \n",
       "B                 1.000000 -0.196068 -0.218742  \n",
       "C                -0.196068  1.000000 -0.292491  \n",
       "D                -0.218742 -0.292491  1.000000  "
      ]
     },
     "execution_count": 79,
     "metadata": {},
     "output_type": "execute_result"
    }
   ],
   "source": [
    "train_data_final.corr()"
   ]
  },
  {
   "cell_type": "code",
   "execution_count": 89,
   "metadata": {},
   "outputs": [],
   "source": [
    "from sklearn.model_selection import train_test_split\n",
    "from sklearn.metrics import mean_absolute_error\n",
    "from sklearn.metrics import mean_squared_error\n",
    "from math import sqrt\n",
    "\n",
    "# Model Packages\n",
    "from sklearn.linear_model import LinearRegression\n",
    "from sklearn.ensemble import RandomForestRegressor\n",
    "from sklearn.ensemble import GradientBoostingRegressor\n",
    "from xgboost import XGBRegressor\n",
    "\n",
    "def model_eval(train_data, regressor, final_test_set, actual_score):\n",
    "    y=train_data['Score']\n",
    "    X=train_data.drop(labels=['Score'], axis=1)\n",
    "    \n",
    "    # Split the train data to train-test split\n",
    "    X_train, X_test, y_train, y_test=train_test_split(X, y, train_size=0.8, random_state=45)\n",
    "    \n",
    "    # Training model object\n",
    "    print('Training the model with 80-20 Split.....')\n",
    "    regr=regressor\n",
    "    model_obj=regr.fit(X_train, y_train)\n",
    "    y_pred=model_obj.predict(X_test)\n",
    "    y_act=y_test\n",
    "    mean_abs_err=mean_absolute_error(y_act, y_pred)\n",
    "    root_mean_sqr_err=sqrt(mean_squared_error(y_act, y_pred))\n",
    "    print('RMSE_Train_model: ', root_mean_sqr_err)\n",
    "    sigmoid_value=sigmoid(root_mean_sqr_err)\n",
    "    print('Score_trained_model: ',(1-sigmoid_value))\n",
    "    \n",
    "    # Final test set\n",
    "    pred_score=model_obj.predict(final_test_set.drop(labels='Score', axis=1))\n",
    "    root_mean_sqr_err_final=sqrt(mean_squared_error(actual_score, pred_score))\n",
    "    print('RMSE_Test_set: ', root_mean_sqr_err_final)\n",
    "    sigmoid_value_test=sigmoid(root_mean_sqr_err_final)\n",
    "    print('Score_on_test_set: ',(1-sigmoid_value_test))"
   ]
  },
  {
   "cell_type": "code",
   "execution_count": 90,
   "metadata": {},
   "outputs": [
    {
     "name": "stdout",
     "output_type": "stream",
     "text": [
      "Training the model with 80-20 Split.....\n",
      "RMSE_Train_model:  1.1862212444393614\n",
      "Score_trained_model:  0.23393544427933521\n",
      "RMSE_Test_set:  1.7096756053869087\n",
      "Score_on_test_set:  0.1532057959701557\n"
     ]
    },
    {
     "name": "stderr",
     "output_type": "stream",
     "text": [
      "C:\\Users\\Arunachalam\\Anaconda3\\lib\\site-packages\\sklearn\\model_selection\\_split.py:2026: FutureWarning: From version 0.21, test_size will always complement train_size unless both are specified.\n",
      "  FutureWarning)\n"
     ]
    }
   ],
   "source": [
    "model_eval(train_data=train_data_final, regressor=LinearRegression(), final_test_set=test_data_final,\\\n",
    "           actual_score=y_act_score)"
   ]
  },
  {
   "cell_type": "code",
   "execution_count": 91,
   "metadata": {},
   "outputs": [
    {
     "name": "stderr",
     "output_type": "stream",
     "text": [
      "C:\\Users\\Arunachalam\\Anaconda3\\lib\\site-packages\\sklearn\\model_selection\\_split.py:2026: FutureWarning: From version 0.21, test_size will always complement train_size unless both are specified.\n",
      "  FutureWarning)\n"
     ]
    },
    {
     "name": "stdout",
     "output_type": "stream",
     "text": [
      "Training the model with 80-20 Split.....\n",
      "RMSE_Train_model:  0.379314885625666\n",
      "Score_trained_model:  0.406292148943844\n",
      "RMSE_Test_set:  2.061413266802903\n",
      "Score_on_test_set:  0.11290420427245373\n"
     ]
    }
   ],
   "source": [
    "model_eval(train_data=train_data_final, regressor=RandomForestRegressor(), final_test_set=test_data_final,\\\n",
    "           actual_score=y_act_score)"
   ]
  },
  {
   "cell_type": "code",
   "execution_count": 85,
   "metadata": {},
   "outputs": [
    {
     "name": "stderr",
     "output_type": "stream",
     "text": [
      "C:\\Users\\Arunachalam\\Anaconda3\\lib\\site-packages\\sklearn\\model_selection\\_split.py:2026: FutureWarning: From version 0.21, test_size will always complement train_size unless both are specified.\n",
      "  FutureWarning)\n"
     ]
    },
    {
     "name": "stdout",
     "output_type": "stream",
     "text": [
      "Training the model with 80-20 Split.....\n",
      "RMSE_Train_model:  0.3670148730697786\n",
      "Score_trained_model:  0.4092625299230216\n",
      "RMSE_Test_set:  2.0503740662658374\n",
      "Score_on_test_set:  0.11401458942153131\n"
     ]
    }
   ],
   "source": [
    "model_eval(train_data=train_data_final, regressor=GradientBoostingRegressor(), final_test_set=test_data_final,\\\n",
    "           actual_score=y_act_score)"
   ]
  },
  {
   "cell_type": "code",
   "execution_count": 92,
   "metadata": {},
   "outputs": [
    {
     "name": "stderr",
     "output_type": "stream",
     "text": [
      "C:\\Users\\Arunachalam\\Anaconda3\\lib\\site-packages\\sklearn\\model_selection\\_split.py:2026: FutureWarning: From version 0.21, test_size will always complement train_size unless both are specified.\n",
      "  FutureWarning)\n"
     ]
    },
    {
     "name": "stdout",
     "output_type": "stream",
     "text": [
      "Training the model with 80-20 Split.....\n",
      "RMSE_Train_model:  0.36714119973700055\n",
      "Score_trained_model:  0.40923198869023103\n",
      "RMSE_Test_set:  2.050391863134502\n",
      "Score_on_test_set:  0.11401279167851519\n"
     ]
    }
   ],
   "source": [
    "model_eval(train_data=train_data_final, regressor=XGBRegressor(), final_test_set=test_data_final,\\\n",
    "           actual_score=y_act_score)"
   ]
  },
  {
   "cell_type": "code",
   "execution_count": null,
   "metadata": {},
   "outputs": [],
   "source": []
  },
  {
   "cell_type": "code",
   "execution_count": null,
   "metadata": {},
   "outputs": [],
   "source": []
  },
  {
   "cell_type": "code",
   "execution_count": null,
   "metadata": {},
   "outputs": [],
   "source": []
  },
  {
   "cell_type": "code",
   "execution_count": null,
   "metadata": {},
   "outputs": [],
   "source": []
  },
  {
   "cell_type": "code",
   "execution_count": null,
   "metadata": {},
   "outputs": [],
   "source": []
  },
  {
   "cell_type": "code",
   "execution_count": null,
   "metadata": {},
   "outputs": [],
   "source": []
  },
  {
   "cell_type": "code",
   "execution_count": 61,
   "metadata": {},
   "outputs": [
    {
     "name": "stdout",
     "output_type": "stream",
     "text": [
      "Mean absolute error:  0.851313921177971\n",
      "Root Mean squared error:  1.1862212444393614\n"
     ]
    },
    {
     "name": "stderr",
     "output_type": "stream",
     "text": [
      "C:\\Users\\Arunachalam\\Anaconda3\\lib\\site-packages\\sklearn\\model_selection\\_split.py:2026: FutureWarning: From version 0.21, test_size will always complement train_size unless both are specified.\n",
      "  FutureWarning)\n"
     ]
    }
   ],
   "source": [
    "from sklearn.linear_model import LinearRegression\n",
    "from sklearn.model_selection import train_test_split\n",
    "from sklearn.metrics import mean_absolute_error\n",
    "from sklearn.metrics import mean_squared_error\n",
    "from math import sqrt\n",
    "\n",
    "y=train_data_final['Score']\n",
    "X=train_data_final.drop(labels=['Score'], axis=1)\n",
    "\n",
    "# Split the train data to train-test split\n",
    "X_train, X_test, y_train, y_test=train_test_split(X, y, train_size=0.8, random_state=45)\n",
    "\n",
    "# Training model object\n",
    "regressor=LinearRegression()\n",
    "model_obj=regressor.fit(X_train, y_train)\n",
    "y_pred=model_obj.predict(X_test)\n",
    "y_act=y_test\n",
    "mean_abs_err=mean_absolute_error(y_act, y_pred)\n",
    "root_mean_sqr_err=sqrt(mean_squared_error(y_act, y_pred))\n",
    "\n",
    "print('Mean absolute error: ', mean_abs_err)\n",
    "print('Root Mean squared error: ', root_mean_sqr_err)"
   ]
  },
  {
   "cell_type": "code",
   "execution_count": 62,
   "metadata": {},
   "outputs": [
    {
     "name": "stderr",
     "output_type": "stream",
     "text": [
      "C:\\Users\\Arunachalam\\Anaconda3\\lib\\site-packages\\sklearn\\model_selection\\_split.py:2026: FutureWarning: From version 0.21, test_size will always complement train_size unless both are specified.\n",
      "  FutureWarning)\n"
     ]
    },
    {
     "name": "stdout",
     "output_type": "stream",
     "text": [
      "Mean absolute error:  0.25742239529883504\n",
      "Root Mean squared error:  0.3796847578021573\n"
     ]
    }
   ],
   "source": [
    "from sklearn.ensemble import RandomForestRegressor\n",
    "from sklearn.model_selection import train_test_split\n",
    "from sklearn.metrics import mean_absolute_error\n",
    "from sklearn.metrics import mean_squared_error\n",
    "from math import sqrt\n",
    "\n",
    "y=train_data_final['Score']\n",
    "X=train_data_final.drop(labels=['Score'], axis=1)\n",
    "\n",
    "# Split the train data to train-test split\n",
    "X_train, X_test, y_train, y_test=train_test_split(X, y, train_size=0.8, random_state=45)\n",
    "\n",
    "# Training model object\n",
    "regressor=RandomForestRegressor()\n",
    "model_obj=regressor.fit(X_train, y_train)\n",
    "y_pred=model_obj.predict(X_test)\n",
    "y_act=y_test\n",
    "mean_abs_err=mean_absolute_error(y_act, y_pred)\n",
    "root_mean_sqr_err=sqrt(mean_squared_error(y_act, y_pred))\n",
    "\n",
    "print('Mean absolute error: ', mean_abs_err)\n",
    "print('Root Mean squared error: ', root_mean_sqr_err)"
   ]
  },
  {
   "cell_type": "code",
   "execution_count": 63,
   "metadata": {},
   "outputs": [
    {
     "name": "stderr",
     "output_type": "stream",
     "text": [
      "C:\\Users\\Arunachalam\\Anaconda3\\lib\\site-packages\\sklearn\\model_selection\\_split.py:2026: FutureWarning: From version 0.21, test_size will always complement train_size unless both are specified.\n",
      "  FutureWarning)\n"
     ]
    },
    {
     "name": "stdout",
     "output_type": "stream",
     "text": [
      "Mean absolute error:  0.2513746984276792\n",
      "Root Mean squared error:  0.36701487306977854\n"
     ]
    }
   ],
   "source": [
    "from sklearn.ensemble import GradientBoostingRegressor\n",
    "from sklearn.model_selection import train_test_split\n",
    "from sklearn.metrics import mean_absolute_error\n",
    "from sklearn.metrics import mean_squared_error\n",
    "from math import sqrt\n",
    "\n",
    "y=train_data_final['Score']\n",
    "X=train_data_final.drop(labels=['Score'], axis=1)\n",
    "\n",
    "# Split the train data to train-test split\n",
    "X_train, X_test, y_train, y_test=train_test_split(X, y, train_size=0.8, random_state=45)\n",
    "\n",
    "# Training model object\n",
    "regressor=GradientBoostingRegressor()\n",
    "model_obj=regressor.fit(X_train, y_train)\n",
    "y_pred=model_obj.predict(X_test)\n",
    "y_act=y_test\n",
    "mean_abs_err=mean_absolute_error(y_act, y_pred)\n",
    "root_mean_sqr_err=sqrt(mean_squared_error(y_act, y_pred))\n",
    "\n",
    "print('Mean absolute error: ', mean_abs_err)\n",
    "print('Root Mean squared error: ', root_mean_sqr_err)"
   ]
  },
  {
   "cell_type": "code",
   "execution_count": 21,
   "metadata": {},
   "outputs": [
    {
     "name": "stderr",
     "output_type": "stream",
     "text": [
      "C:\\Users\\Arunachalam\\Anaconda3\\lib\\site-packages\\sklearn\\model_selection\\_split.py:2026: FutureWarning: From version 0.21, test_size will always complement train_size unless both are specified.\n",
      "  FutureWarning)\n"
     ]
    },
    {
     "name": "stdout",
     "output_type": "stream",
     "text": [
      "Mean absolute error:  0.2512569377176331\n",
      "Root Mean squared error:  0.36714119973700055\n"
     ]
    }
   ],
   "source": [
    "from xgboost import XGBRegressor\n",
    "from sklearn.model_selection import train_test_split\n",
    "from sklearn.metrics import mean_absolute_error\n",
    "from sklearn.metrics import mean_squared_error\n",
    "from math import sqrt\n",
    "\n",
    "y=train_data_final['Score']\n",
    "X=train_data_final.drop(labels=['Score'], axis=1)\n",
    "\n",
    "# Split the train data to train-test split\n",
    "X_train, X_test, y_train, y_test=train_test_split(X, y, train_size=0.8, random_state=45)\n",
    "\n",
    "# Training model object\n",
    "regressor=XGBRegressor()\n",
    "model_obj_xgb=regressor.fit(X_train, y_train)\n",
    "y_pred=model_obj_xgb.predict(X_test)\n",
    "y_act=y_test\n",
    "mean_abs_err=mean_absolute_error(y_act, y_pred)\n",
    "root_mean_sqr_err=sqrt(mean_squared_error(y_act, y_pred))\n",
    "\n",
    "print('Mean absolute error: ', mean_abs_err)\n",
    "print('Root Mean squared error: ', root_mean_sqr_err)"
   ]
  },
  {
   "cell_type": "markdown",
   "metadata": {},
   "source": [
    "### Predictions on the test dataset"
   ]
  },
  {
   "cell_type": "code",
   "execution_count": null,
   "metadata": {},
   "outputs": [],
   "source": [
    "y_pred_final=model_obj_xgb.predict(test_data_final.drop(labels='Score', axis=1))"
   ]
  },
  {
   "cell_type": "code",
   "execution_count": null,
   "metadata": {},
   "outputs": [],
   "source": [
    "y_pred_final"
   ]
  },
  {
   "cell_type": "code",
   "execution_count": null,
   "metadata": {},
   "outputs": [],
   "source": [
    "\n",
    "root_mean_sqr_err_final=sqrt(mean_squared_error(y_act_score, y_pred_final))\n",
    "sigmoid_value=sigmoid(root_mean_sqr_err_final)\n",
    "print('Score: ',(1-sigmoid_value))"
   ]
  },
  {
   "cell_type": "code",
   "execution_count": 25,
   "metadata": {},
   "outputs": [
    {
     "name": "stdout",
     "output_type": "stream",
     "text": [
      "Score:  0.40923198869023103\n"
     ]
    }
   ],
   "source": [
    "sigmoid_value=sigmoid(0.36714119973700055)\n",
    "print('Score: ',(1-sigmoid_value))"
   ]
  },
  {
   "cell_type": "code",
   "execution_count": null,
   "metadata": {},
   "outputs": [],
   "source": []
  },
  {
   "cell_type": "code",
   "execution_count": null,
   "metadata": {},
   "outputs": [],
   "source": []
  },
  {
   "cell_type": "code",
   "execution_count": null,
   "metadata": {},
   "outputs": [],
   "source": []
  },
  {
   "cell_type": "code",
   "execution_count": null,
   "metadata": {},
   "outputs": [],
   "source": [
    "1-0.88"
   ]
  },
  {
   "cell_type": "markdown",
   "metadata": {},
   "source": [
    "### Grid Search - GBM"
   ]
  },
  {
   "cell_type": "code",
   "execution_count": null,
   "metadata": {},
   "outputs": [],
   "source": [
    "from sklearn.ensemble import GradientBoostingRegressor\n",
    "from sklearn.grid_search import GridSearchCV\n",
    "\n",
    "param_test1 = {'n_estimators':[50, 100, 300], 'min_samples_leaf':[10, 50, 70], 'learning_rate':[0.01, 0.05, 0.1],'max_depth ':[2, 3, 5]}\n",
    "\n",
    "gbm = GradientBoostingRegressor(random_state=10)\n",
    "\n",
    "gsearch1 = GridSearchCV(estimator=gbm, param_grid = param_test1, scoring='explained_variance', cv=5)"
   ]
  },
  {
   "cell_type": "code",
   "execution_count": null,
   "metadata": {},
   "outputs": [],
   "source": [
    "gsearch1.fit(X_train, y_train.values)\n",
    "gsearch1.grid_scores_, gsearch1.best_params_, gsearch1.best_score_"
   ]
  },
  {
   "cell_type": "code",
   "execution_count": null,
   "metadata": {},
   "outputs": [],
   "source": [
    "X_train.values"
   ]
  },
  {
   "cell_type": "code",
   "execution_count": null,
   "metadata": {},
   "outputs": [],
   "source": [
    "X_train.head()"
   ]
  },
  {
   "cell_type": "code",
   "execution_count": null,
   "metadata": {},
   "outputs": [],
   "source": []
  }
 ],
 "metadata": {
  "kernelspec": {
   "display_name": "Python 3",
   "language": "python",
   "name": "python3"
  },
  "language_info": {
   "codemirror_mode": {
    "name": "ipython",
    "version": 3
   },
   "file_extension": ".py",
   "mimetype": "text/x-python",
   "name": "python",
   "nbconvert_exporter": "python",
   "pygments_lexer": "ipython3",
   "version": "3.6.4"
  }
 },
 "nbformat": 4,
 "nbformat_minor": 2
}
