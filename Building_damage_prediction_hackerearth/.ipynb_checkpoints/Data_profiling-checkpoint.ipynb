{
 "cells": [
  {
   "cell_type": "markdown",
   "metadata": {},
   "source": [
    "### Data Profiling of Building damage dataset"
   ]
  },
  {
   "cell_type": "code",
   "execution_count": 1,
   "metadata": {},
   "outputs": [],
   "source": [
    "import pandas as pd\n",
    "import numpy as np\n",
    "import os\n",
    "import matplotlib.pyplot as plt\n",
    "%matplotlib inline"
   ]
  },
  {
   "cell_type": "code",
   "execution_count": 2,
   "metadata": {},
   "outputs": [],
   "source": [
    "# change working directory\n",
    "os.chdir(r'E:\\Hackathon\\hackerearth_earthquake_pred\\Dataset')"
   ]
  },
  {
   "cell_type": "code",
   "execution_count": 3,
   "metadata": {},
   "outputs": [],
   "source": [
    "# Import dataset\n",
    "raw_train=pd.read_csv('raw_train_data_merged.csv')\n",
    "raw_test=pd.read_csv('raw_test_data_merged.csv')"
   ]
  },
  {
   "cell_type": "code",
   "execution_count": 4,
   "metadata": {},
   "outputs": [],
   "source": [
    "# Make a copy of orginal raw data\n",
    "train_data=raw_train.copy()\n",
    "test_data=raw_test.copy()"
   ]
  },
  {
   "cell_type": "code",
   "execution_count": 5,
   "metadata": {},
   "outputs": [],
   "source": [
    "# Removing the unnamed index column of raw dataset\n",
    "train_data=train_data.drop(labels=['Unnamed: 0'], axis=1)\n",
    "test_data=test_data.drop(labels=['Unnamed: 0'], axis=1)"
   ]
  },
  {
   "cell_type": "code",
   "execution_count": 6,
   "metadata": {},
   "outputs": [
    {
     "data": {
      "text/plain": [
       "((631761, 53), (421175, 52))"
      ]
     },
     "execution_count": 6,
     "metadata": {},
     "output_type": "execute_result"
    }
   ],
   "source": [
    "train_data.shape, test_data.shape"
   ]
  },
  {
   "cell_type": "code",
   "execution_count": 8,
   "metadata": {},
   "outputs": [
    {
     "name": "stdout",
     "output_type": "stream",
     "text": [
      "Percentage of Data in Train Set:  59.99994301647963\n",
      "Percentage of Data in Test Set:  40.000056983520366\n"
     ]
    }
   ],
   "source": [
    "# Percentage of data in train and test set\n",
    "print('Percentage of Data in Train Set: ',train_data.shape[0]/(train_data.shape[0]+test_data.shape[0])*100)\n",
    "print('Percentage of Data in Test Set: ',test_data.shape[0]/(train_data.shape[0]+test_data.shape[0])*100)"
   ]
  },
  {
   "cell_type": "code",
   "execution_count": 9,
   "metadata": {},
   "outputs": [
    {
     "data": {
      "text/html": [
       "<div>\n",
       "<style scoped>\n",
       "    .dataframe tbody tr th:only-of-type {\n",
       "        vertical-align: middle;\n",
       "    }\n",
       "\n",
       "    .dataframe tbody tr th {\n",
       "        vertical-align: top;\n",
       "    }\n",
       "\n",
       "    .dataframe thead th {\n",
       "        text-align: right;\n",
       "    }\n",
       "</style>\n",
       "<table border=\"1\" class=\"dataframe\">\n",
       "  <thead>\n",
       "    <tr style=\"text-align: right;\">\n",
       "      <th></th>\n",
       "      <th>area_assesed</th>\n",
       "      <th>building_id</th>\n",
       "      <th>damage_grade</th>\n",
       "      <th>district_id</th>\n",
       "      <th>has_geotechnical_risk</th>\n",
       "      <th>has_geotechnical_risk_fault_crack</th>\n",
       "      <th>has_geotechnical_risk_flood</th>\n",
       "      <th>has_geotechnical_risk_land_settlement</th>\n",
       "      <th>has_geotechnical_risk_landslide</th>\n",
       "      <th>has_geotechnical_risk_liquefaction</th>\n",
       "      <th>...</th>\n",
       "      <th>has_secondary_use_agriculture</th>\n",
       "      <th>has_secondary_use_hotel</th>\n",
       "      <th>has_secondary_use_rental</th>\n",
       "      <th>has_secondary_use_institution</th>\n",
       "      <th>has_secondary_use_school</th>\n",
       "      <th>has_secondary_use_industry</th>\n",
       "      <th>has_secondary_use_health_post</th>\n",
       "      <th>has_secondary_use_gov_office</th>\n",
       "      <th>has_secondary_use_use_police</th>\n",
       "      <th>has_secondary_use_other</th>\n",
       "    </tr>\n",
       "  </thead>\n",
       "  <tbody>\n",
       "    <tr>\n",
       "      <th>0</th>\n",
       "      <td>Both</td>\n",
       "      <td>24385bfd2a2</td>\n",
       "      <td>Grade 4</td>\n",
       "      <td>24</td>\n",
       "      <td>0.0</td>\n",
       "      <td>0</td>\n",
       "      <td>0</td>\n",
       "      <td>0</td>\n",
       "      <td>0</td>\n",
       "      <td>0</td>\n",
       "      <td>...</td>\n",
       "      <td>0</td>\n",
       "      <td>0</td>\n",
       "      <td>0</td>\n",
       "      <td>0</td>\n",
       "      <td>0</td>\n",
       "      <td>0</td>\n",
       "      <td>0</td>\n",
       "      <td>0</td>\n",
       "      <td>0</td>\n",
       "      <td>0</td>\n",
       "    </tr>\n",
       "    <tr>\n",
       "      <th>1</th>\n",
       "      <td>Both</td>\n",
       "      <td>405d1bbebbf</td>\n",
       "      <td>Grade 2</td>\n",
       "      <td>44</td>\n",
       "      <td>0.0</td>\n",
       "      <td>0</td>\n",
       "      <td>0</td>\n",
       "      <td>0</td>\n",
       "      <td>0</td>\n",
       "      <td>0</td>\n",
       "      <td>...</td>\n",
       "      <td>0</td>\n",
       "      <td>1</td>\n",
       "      <td>0</td>\n",
       "      <td>0</td>\n",
       "      <td>0</td>\n",
       "      <td>0</td>\n",
       "      <td>0</td>\n",
       "      <td>0</td>\n",
       "      <td>0</td>\n",
       "      <td>0</td>\n",
       "    </tr>\n",
       "    <tr>\n",
       "      <th>2</th>\n",
       "      <td>Both</td>\n",
       "      <td>351d9bc71f6</td>\n",
       "      <td>Grade 1</td>\n",
       "      <td>36</td>\n",
       "      <td>0.0</td>\n",
       "      <td>0</td>\n",
       "      <td>0</td>\n",
       "      <td>0</td>\n",
       "      <td>0</td>\n",
       "      <td>0</td>\n",
       "      <td>...</td>\n",
       "      <td>0</td>\n",
       "      <td>0</td>\n",
       "      <td>0</td>\n",
       "      <td>0</td>\n",
       "      <td>0</td>\n",
       "      <td>0</td>\n",
       "      <td>0</td>\n",
       "      <td>0</td>\n",
       "      <td>0</td>\n",
       "      <td>0</td>\n",
       "    </tr>\n",
       "    <tr>\n",
       "      <th>3</th>\n",
       "      <td>Building removed</td>\n",
       "      <td>2be3a971166</td>\n",
       "      <td>Grade 5</td>\n",
       "      <td>30</td>\n",
       "      <td>0.0</td>\n",
       "      <td>0</td>\n",
       "      <td>0</td>\n",
       "      <td>0</td>\n",
       "      <td>0</td>\n",
       "      <td>0</td>\n",
       "      <td>...</td>\n",
       "      <td>0</td>\n",
       "      <td>0</td>\n",
       "      <td>0</td>\n",
       "      <td>0</td>\n",
       "      <td>0</td>\n",
       "      <td>0</td>\n",
       "      <td>0</td>\n",
       "      <td>0</td>\n",
       "      <td>0</td>\n",
       "      <td>0</td>\n",
       "    </tr>\n",
       "    <tr>\n",
       "      <th>4</th>\n",
       "      <td>Both</td>\n",
       "      <td>34c7d073ea6</td>\n",
       "      <td>Grade 3</td>\n",
       "      <td>36</td>\n",
       "      <td>0.0</td>\n",
       "      <td>0</td>\n",
       "      <td>0</td>\n",
       "      <td>0</td>\n",
       "      <td>0</td>\n",
       "      <td>0</td>\n",
       "      <td>...</td>\n",
       "      <td>0</td>\n",
       "      <td>0</td>\n",
       "      <td>0</td>\n",
       "      <td>0</td>\n",
       "      <td>0</td>\n",
       "      <td>0</td>\n",
       "      <td>0</td>\n",
       "      <td>0</td>\n",
       "      <td>0</td>\n",
       "      <td>0</td>\n",
       "    </tr>\n",
       "  </tbody>\n",
       "</table>\n",
       "<p>5 rows × 53 columns</p>\n",
       "</div>"
      ],
      "text/plain": [
       "       area_assesed  building_id damage_grade  district_id  \\\n",
       "0              Both  24385bfd2a2      Grade 4           24   \n",
       "1              Both  405d1bbebbf      Grade 2           44   \n",
       "2              Both  351d9bc71f6      Grade 1           36   \n",
       "3  Building removed  2be3a971166      Grade 5           30   \n",
       "4              Both  34c7d073ea6      Grade 3           36   \n",
       "\n",
       "   has_geotechnical_risk  has_geotechnical_risk_fault_crack  \\\n",
       "0                    0.0                                  0   \n",
       "1                    0.0                                  0   \n",
       "2                    0.0                                  0   \n",
       "3                    0.0                                  0   \n",
       "4                    0.0                                  0   \n",
       "\n",
       "   has_geotechnical_risk_flood  has_geotechnical_risk_land_settlement  \\\n",
       "0                            0                                      0   \n",
       "1                            0                                      0   \n",
       "2                            0                                      0   \n",
       "3                            0                                      0   \n",
       "4                            0                                      0   \n",
       "\n",
       "   has_geotechnical_risk_landslide  has_geotechnical_risk_liquefaction  \\\n",
       "0                                0                                   0   \n",
       "1                                0                                   0   \n",
       "2                                0                                   0   \n",
       "3                                0                                   0   \n",
       "4                                0                                   0   \n",
       "\n",
       "            ...             has_secondary_use_agriculture  \\\n",
       "0           ...                                         0   \n",
       "1           ...                                         0   \n",
       "2           ...                                         0   \n",
       "3           ...                                         0   \n",
       "4           ...                                         0   \n",
       "\n",
       "   has_secondary_use_hotel  has_secondary_use_rental  \\\n",
       "0                        0                         0   \n",
       "1                        1                         0   \n",
       "2                        0                         0   \n",
       "3                        0                         0   \n",
       "4                        0                         0   \n",
       "\n",
       "   has_secondary_use_institution  has_secondary_use_school  \\\n",
       "0                              0                         0   \n",
       "1                              0                         0   \n",
       "2                              0                         0   \n",
       "3                              0                         0   \n",
       "4                              0                         0   \n",
       "\n",
       "   has_secondary_use_industry  has_secondary_use_health_post  \\\n",
       "0                           0                              0   \n",
       "1                           0                              0   \n",
       "2                           0                              0   \n",
       "3                           0                              0   \n",
       "4                           0                              0   \n",
       "\n",
       "   has_secondary_use_gov_office  has_secondary_use_use_police  \\\n",
       "0                             0                             0   \n",
       "1                             0                             0   \n",
       "2                             0                             0   \n",
       "3                             0                             0   \n",
       "4                             0                             0   \n",
       "\n",
       "   has_secondary_use_other  \n",
       "0                        0  \n",
       "1                        0  \n",
       "2                        0  \n",
       "3                        0  \n",
       "4                        0  \n",
       "\n",
       "[5 rows x 53 columns]"
      ]
     },
     "execution_count": 9,
     "metadata": {},
     "output_type": "execute_result"
    }
   ],
   "source": [
    "# View of train data\n",
    "train_data.head()"
   ]
  },
  {
   "cell_type": "code",
   "execution_count": 10,
   "metadata": {},
   "outputs": [
    {
     "data": {
      "text/plain": [
       "Index(['area_assesed', 'building_id', 'damage_grade', 'district_id',\n",
       "       'has_geotechnical_risk', 'has_geotechnical_risk_fault_crack',\n",
       "       'has_geotechnical_risk_flood', 'has_geotechnical_risk_land_settlement',\n",
       "       'has_geotechnical_risk_landslide', 'has_geotechnical_risk_liquefaction',\n",
       "       'has_geotechnical_risk_other', 'has_geotechnical_risk_rock_fall',\n",
       "       'has_repair_started', 'vdcmun_id', 'count_floors_pre_eq',\n",
       "       'count_floors_post_eq', 'age_building', 'plinth_area_sq_ft',\n",
       "       'height_ft_pre_eq', 'height_ft_post_eq', 'land_surface_condition',\n",
       "       'foundation_type', 'roof_type', 'ground_floor_type', 'other_floor_type',\n",
       "       'position', 'plan_configuration', 'has_superstructure_adobe_mud',\n",
       "       'has_superstructure_mud_mortar_stone', 'has_superstructure_stone_flag',\n",
       "       'has_superstructure_cement_mortar_stone',\n",
       "       'has_superstructure_mud_mortar_brick',\n",
       "       'has_superstructure_cement_mortar_brick', 'has_superstructure_timber',\n",
       "       'has_superstructure_bamboo', 'has_superstructure_rc_non_engineered',\n",
       "       'has_superstructure_rc_engineered', 'has_superstructure_other',\n",
       "       'condition_post_eq', 'ward_id', 'legal_ownership_status',\n",
       "       'count_families', 'has_secondary_use', 'has_secondary_use_agriculture',\n",
       "       'has_secondary_use_hotel', 'has_secondary_use_rental',\n",
       "       'has_secondary_use_institution', 'has_secondary_use_school',\n",
       "       'has_secondary_use_industry', 'has_secondary_use_health_post',\n",
       "       'has_secondary_use_gov_office', 'has_secondary_use_use_police',\n",
       "       'has_secondary_use_other'],\n",
       "      dtype='object')"
      ]
     },
     "execution_count": 10,
     "metadata": {},
     "output_type": "execute_result"
    }
   ],
   "source": [
    "# View the column name to start data analysis\n",
    "train_data.columns"
   ]
  },
  {
   "cell_type": "markdown",
   "metadata": {},
   "source": [
    "### Get the number of houses in each district"
   ]
  },
  {
   "cell_type": "code",
   "execution_count": 11,
   "metadata": {},
   "outputs": [
    {
     "name": "stdout",
     "output_type": "stream",
     "text": [
      "Number of district in train dataset:  31\n",
      "Number of district in test dataset:  31\n"
     ]
    }
   ],
   "source": [
    "# number of district\n",
    "print('Number of district in train dataset: ',train_data.district_id.nunique())\n",
    "print('Number of district in test dataset: ',test_data.district_id.nunique())"
   ]
  },
  {
   "cell_type": "code",
   "execution_count": 13,
   "metadata": {},
   "outputs": [
    {
     "name": "stdout",
     "output_type": "stream",
     "text": [
      "Number of wards in train dataset:  1420\n",
      "Number of wards in test dataset:  1419\n"
     ]
    }
   ],
   "source": [
    "# number of municipality from all district\n",
    "print('Number of municipality in train dataset: ',train_data.vdcmun_id.nunique())\n",
    "print('Number of municiplity in test dataset: ',test_data.vdcmun_id.nunique())"
   ]
  },
  {
   "cell_type": "code",
   "execution_count": 14,
   "metadata": {},
   "outputs": [
    {
     "name": "stdout",
     "output_type": "stream",
     "text": [
      "Number of wards in train dataset:  12301\n",
      "Number of wards in test dataset:  12048\n"
     ]
    }
   ],
   "source": [
    "# number of wards from all district\n",
    "print('Number of wards in train dataset: ',train_data.ward_id.nunique())\n",
    "print('Number of wards in test dataset: ',test_data.ward_id.nunique())"
   ]
  },
  {
   "cell_type": "code",
   "execution_count": 12,
   "metadata": {},
   "outputs": [
    {
     "name": "stdout",
     "output_type": "stream",
     "text": [
      "Number of houses in train dataset:  631761\n",
      "Number of houses in test dataset:  421175\n"
     ]
    }
   ],
   "source": [
    "# Number of house in train and test set\n",
    "print('Number of houses in train dataset: ',train_data.building_id.nunique())\n",
    "print('Number of houses in test dataset: ',test_data.building_id.nunique())"
   ]
  },
  {
   "cell_type": "markdown",
   "metadata": {},
   "source": [
    "### Number of houses in each district"
   ]
  },
  {
   "cell_type": "code",
   "execution_count": 44,
   "metadata": {},
   "outputs": [
    {
     "data": {
      "text/plain": [
       "<matplotlib.axes._subplots.AxesSubplot at 0x1660b9da048>"
      ]
     },
     "execution_count": 44,
     "metadata": {},
     "output_type": "execute_result"
    },
    {
     "data": {
      "image/png": "[encoded data removed]",
      "text/plain": [
       "<Figure size 1440x720 with 1 Axes>"
      ]
     },
     "metadata": {},
     "output_type": "display_data"
    }
   ],
   "source": [
    "dist_df=train_data.groupby(['district_id']).agg({'building_id':'count'})\n",
    "dist_df.plot(kind='bar', figsize=(20,10),fontsize=13)"
   ]
  },
  {
   "cell_type": "markdown",
   "metadata": {},
   "source": [
    "##### Note: Number of houses in district id's 20-30 are high\n",
    "\n",
    "\n"
   ]
  },
  {
   "cell_type": "markdown",
   "metadata": {},
   "source": [
    "### Each municipality number of houses"
   ]
  },
  {
   "cell_type": "code",
   "execution_count": 47,
   "metadata": {},
   "outputs": [
    {
     "data": {
      "text/plain": [
       "<matplotlib.axes._subplots.AxesSubplot at 0x1662f851c50>"
      ]
     },
     "execution_count": 47,
     "metadata": {},
     "output_type": "execute_result"
    },
    {
     "data": {
      "image/png": "[encoded data removed]",
      "text/plain": [
       "<Figure size 1440x720 with 1 Axes>"
      ]
     },
     "metadata": {},
     "output_type": "display_data"
    }
   ],
   "source": [
    "munc_df=train_data.groupby(['vdcmun_id']).agg({'building_id':'count'})\n",
    "munc_df.plot(kind='bar', fontsize=6, figsize=(20,10), ylim=(0,6000))"
   ]
  },
  {
   "cell_type": "markdown",
   "metadata": {},
   "source": [
    "#### Note: Number of houses in the ward id level is not more than 7000 mostly all are below 4000"
   ]
  },
  {
   "cell_type": "markdown",
   "metadata": {},
   "source": [
    "### Gradewise number of houses"
   ]
  },
  {
   "cell_type": "code",
   "execution_count": 48,
   "metadata": {},
   "outputs": [
    {
     "data": {
      "text/plain": [
       "<matplotlib.axes._subplots.AxesSubplot at 0x1664f611cc0>"
      ]
     },
     "execution_count": 48,
     "metadata": {},
     "output_type": "execute_result"
    },
    {
     "data": {
      "image/png": "[encoded data removed]",
      "text/plain": [
       "<Figure size 1440x720 with 1 Axes>"
      ]
     },
     "metadata": {},
     "output_type": "display_data"
    }
   ],
   "source": [
    "dam_df=train_data.groupby(['damage_grade']).agg({'building_id':'count'})\n",
    "dam_df.plot(kind='bar', figsize=(20,10), fontsize=13)"
   ]
  },
  {
   "cell_type": "markdown",
   "metadata": {},
   "source": [
    "#### Number of houses in grade 5 which is more vulnurable category"
   ]
  },
  {
   "cell_type": "markdown",
   "metadata": {},
   "source": [
    "### Number of houses in various risk categories"
   ]
  },
  {
   "cell_type": "code",
   "execution_count": 73,
   "metadata": {},
   "outputs": [
    {
     "name": "stdout",
     "output_type": "stream",
     "text": [
      "Number of houses possesing geo_technical_risk:  78288.0\n",
      "Number of houses possesing geo_technical_fault_crack_risk:  26981\n",
      "Number of houses possesing geo_technical_risk_flood_risk:  5852\n",
      "Number of houses possesing geo_technical_risk_land_settlement:  21860\n",
      "Number of houses possesing geo_technical_risk_landslide:  43989\n",
      "Number of houses possesing geo_technical_risk_liquefaction:  1465\n",
      "Number of houses possesing geo_technical_risk_others:  670\n",
      "Number of houses possesing geo_technical_risk_rock_fall:  22019\n"
     ]
    }
   ],
   "source": [
    "print('Number of houses possesing geo_technical_risk: ',train_data.has_geotechnical_risk.sum())\n",
    "print('Number of houses possesing geo_technical_fault_crack_risk: ',train_data.has_geotechnical_risk_fault_crack.sum())\n",
    "print('Number of houses possesing geo_technical_risk_flood_risk: ',train_data.has_geotechnical_risk_flood.sum())\n",
    "print('Number of houses possesing geo_technical_risk_land_settlement: ',train_data.has_geotechnical_risk_land_settlement.sum())\n",
    "print('Number of houses possesing geo_technical_risk_landslide: ',train_data.has_geotechnical_risk_landslide.sum())\n",
    "print('Number of houses possesing geo_technical_risk_liquefaction: ',train_data.has_geotechnical_risk_liquefaction.sum())\n",
    "print('Number of houses possesing geo_technical_risk_others: ',train_data.has_geotechnical_risk_other.sum())\n",
    "print('Number of houses possesing geo_technical_risk_rock_fall: ',train_data.has_geotechnical_risk_rock_fall.sum())"
   ]
  },
  {
   "cell_type": "markdown",
   "metadata": {},
   "source": [
    "### Count of families in each district"
   ]
  },
  {
   "cell_type": "code",
   "execution_count": 42,
   "metadata": {},
   "outputs": [
    {
     "data": {
      "text/plain": [
       "<matplotlib.axes._subplots.AxesSubplot at 0x1662378c908>"
      ]
     },
     "execution_count": 42,
     "metadata": {},
     "output_type": "execute_result"
    },
    {
     "data": {
      "image/png": "[encoded data removed]",
      "text/plain": [
       "<Figure size 1440x720 with 1 Axes>"
      ]
     },
     "metadata": {},
     "output_type": "display_data"
    }
   ],
   "source": [
    "cnt_fam_df=train_data.groupby('district_id').agg({'count_families':'sum'})\n",
    "cnt_fam_df.plot(kind='bar', figsize=(20,10), title=\"Number of families in each district\" ,fontsize=13)"
   ]
  },
  {
   "cell_type": "markdown",
   "metadata": {},
   "source": [
    "#### Note: Number of families in district id 20-36 is high seems like city area"
   ]
  },
  {
   "cell_type": "markdown",
   "metadata": {},
   "source": [
    "### Seeing the land surface condition of each district"
   ]
  },
  {
   "cell_type": "code",
   "execution_count": 30,
   "metadata": {},
   "outputs": [
    {
     "data": {
      "text/plain": [
       "<matplotlib.axes._subplots.AxesSubplot at 0x1660beb4160>"
      ]
     },
     "execution_count": 30,
     "metadata": {},
     "output_type": "execute_result"
    },
    {
     "data": {
      "image/png": "[encoded data removed]",
      "text/plain": [
       "<Figure size 1440x720 with 1 Axes>"
      ]
     },
     "metadata": {},
     "output_type": "display_data"
    }
   ],
   "source": [
    "land_df=train_data.groupby(['district_id', 'land_surface_condition']).agg({'land_surface_condition':'count'})\n",
    "land_df.columns=['count_of_land_surf']\n",
    "land_df=land_df.reset_index()\n",
    "land_df.pivot(\"district_id\",\"land_surface_condition\",\"count_of_land_surf\").plot(kind='bar', figsize=(20,10), stacked=True)"
   ]
  },
  {
   "cell_type": "markdown",
   "metadata": {},
   "source": [
    "#### Number of steep slope houses build in district area 20-30 is more need deep dive"
   ]
  },
  {
   "cell_type": "markdown",
   "metadata": {},
   "source": [
    "### Roof type of houses in various districts"
   ]
  },
  {
   "cell_type": "code",
   "execution_count": 28,
   "metadata": {},
   "outputs": [
    {
     "data": {
      "text/plain": [
       "<matplotlib.axes._subplots.AxesSubplot at 0x166233f6780>"
      ]
     },
     "execution_count": 28,
     "metadata": {},
     "output_type": "execute_result"
    },
    {
     "data": {
      "image/png": "[encoded data removed]",
      "text/plain": [
       "<Figure size 1440x720 with 1 Axes>"
      ]
     },
     "metadata": {},
     "output_type": "display_data"
    }
   ],
   "source": [
    "roof_df=train_data.groupby(['district_id', 'roof_type']).agg({'roof_type':'count'})\n",
    "roof_df.columns=['count_of_diff_roofs']\n",
    "roof_df=roof_df.reset_index()\n",
    "roof_df.pivot(\"district_id\",\"roof_type\",\"count_of_diff_roofs\").plot(kind='bar', figsize=(20,10), stacked=True)"
   ]
  },
  {
   "cell_type": "markdown",
   "metadata": {},
   "source": [
    "#### Note: we could able to see more houses are build up of bamboo roof which seems to reduce casuality in case of any problem"
   ]
  },
  {
   "cell_type": "markdown",
   "metadata": {},
   "source": [
    "### Foundation type of houses in various districts"
   ]
  },
  {
   "cell_type": "code",
   "execution_count": 27,
   "metadata": {},
   "outputs": [
    {
     "data": {
      "text/plain": [
       "<matplotlib.axes._subplots.AxesSubplot at 0x1662051fc18>"
      ]
     },
     "execution_count": 27,
     "metadata": {},
     "output_type": "execute_result"
    },
    {
     "data": {
      "image/png": "[encoded data removed]",
      "text/plain": [
       "<Figure size 1440x720 with 1 Axes>"
      ]
     },
     "metadata": {},
     "output_type": "display_data"
    }
   ],
   "source": [
    "found_df=train_data.groupby(['district_id', 'foundation_type']).agg({'foundation_type':'count'})\n",
    "found_df.columns=['count_of_diff_foundation']\n",
    "found_df=found_df.reset_index()\n",
    "found_df.pivot(\"district_id\",\"foundation_type\",\"count_of_diff_foundation\").plot(kind='bar', figsize=(20,10), stacked=True)"
   ]
  },
  {
   "cell_type": "markdown",
   "metadata": {},
   "source": [
    "### Ground Floor type of various houses"
   ]
  },
  {
   "cell_type": "code",
   "execution_count": 55,
   "metadata": {},
   "outputs": [
    {
     "data": {
      "text/plain": [
       "<matplotlib.axes._subplots.AxesSubplot at 0x16650c16f28>"
      ]
     },
     "execution_count": 55,
     "metadata": {},
     "output_type": "execute_result"
    },
    {
     "data": {
      "image/png": "[encoded data removed]",
      "text/plain": [
       "<Figure size 1440x720 with 1 Axes>"
      ]
     },
     "metadata": {},
     "output_type": "display_data"
    }
   ],
   "source": [
    "grnd_df=train_data.groupby(['district_id', 'ground_floor_type']).agg({'ground_floor_type':'count'})\n",
    "grnd_df.columns=['count_of_grnd_floor']\n",
    "grnd_df=grnd_df.reset_index()\n",
    "grnd_df.pivot(\"district_id\",\"ground_floor_type\",\"count_of_grnd_floor\").plot(kind='bar',fontsize=13, figsize=(20,10), stacked=True)"
   ]
  },
  {
   "cell_type": "markdown",
   "metadata": {},
   "source": [
    "#### Note: Mostly ground floor are made of mud, RC followed by brick/stone"
   ]
  },
  {
   "cell_type": "markdown",
   "metadata": {},
   "source": [
    "### Other Floor Type of houses in various districts"
   ]
  },
  {
   "cell_type": "code",
   "execution_count": 56,
   "metadata": {},
   "outputs": [
    {
     "data": {
      "text/plain": [
       "<matplotlib.axes._subplots.AxesSubplot at 0x16651403898>"
      ]
     },
     "execution_count": 56,
     "metadata": {},
     "output_type": "execute_result"
    },
    {
     "data": {
      "image/png": "[encoded data removed]",
      "text/plain": [
       "<Figure size 1440x720 with 1 Axes>"
      ]
     },
     "metadata": {},
     "output_type": "display_data"
    }
   ],
   "source": [
    "oth_flr_df=train_data.groupby(['district_id', 'other_floor_type']).agg({'other_floor_type':'count'})\n",
    "oth_flr_df.columns=['count_of_other_floor']\n",
    "oth_flr_df=oth_flr_df.reset_index()\n",
    "oth_flr_df.pivot(\"district_id\",\"other_floor_type\",\"count_of_other_floor\").plot(kind='bar',fontsize=13, figsize=(20,10), stacked=True)"
   ]
  },
  {
   "cell_type": "markdown",
   "metadata": {},
   "source": [
    "#### Mostly floor above the G-floor are of timber"
   ]
  },
  {
   "cell_type": "markdown",
   "metadata": {},
   "source": [
    "### Plan configuration of various buildings district-wise"
   ]
  },
  {
   "cell_type": "code",
   "execution_count": 84,
   "metadata": {},
   "outputs": [
    {
     "data": {
      "text/plain": [
       "<matplotlib.axes._subplots.AxesSubplot at 0x16655586c88>"
      ]
     },
     "execution_count": 84,
     "metadata": {},
     "output_type": "execute_result"
    },
    {
     "data": {
      "image/png": "[encoded data removed]",
      "text/plain": [
       "<Figure size 1440x720 with 1 Axes>"
      ]
     },
     "metadata": {},
     "output_type": "display_data"
    }
   ],
   "source": [
    "conf_plan_df=train_data.groupby(['district_id','plan_configuration']).agg({'plan_configuration':'count'})\n",
    "conf_plan_df.columns=['count_plan_conf']\n",
    "conf_plan_df=conf_plan_df.reset_index()\n",
    "conf_plan_df.pivot(\"district_id\",'plan_configuration','count_plan_conf').plot(kind='bar', stacked=True, figsize=(20,10), fontsize=12)"
   ]
  },
  {
   "cell_type": "markdown",
   "metadata": {},
   "source": [
    "### Age of building average to find the old district"
   ]
  },
  {
   "cell_type": "code",
   "execution_count": 72,
   "metadata": {},
   "outputs": [
    {
     "data": {
      "text/plain": [
       "<matplotlib.axes._subplots.AxesSubplot at 0x16654752a90>"
      ]
     },
     "execution_count": 72,
     "metadata": {},
     "output_type": "execute_result"
    },
    {
     "data": {
      "image/png": "[encoded data removed]",
      "text/plain": [
       "<Figure size 1440x720 with 1 Axes>"
      ]
     },
     "metadata": {},
     "output_type": "display_data"
    }
   ],
   "source": [
    "train_data.groupby(['district_id']).agg({'age_building':np.mean}).plot(kind='bar', fontsize=12, figsize=(20,10), color='green')"
   ]
  },
  {
   "cell_type": "markdown",
   "metadata": {},
   "source": [
    "#### Note: Most of the oldest buildings are in 45, 9, 27 and 13 "
   ]
  },
  {
   "cell_type": "markdown",
   "metadata": {},
   "source": [
    "### Pre and Post Earthquake Changes in mean height of building"
   ]
  },
  {
   "cell_type": "code",
   "execution_count": 66,
   "metadata": {},
   "outputs": [
    {
     "data": {
      "text/plain": [
       "<matplotlib.axes._subplots.AxesSubplot at 0x16652dadd30>"
      ]
     },
     "execution_count": 66,
     "metadata": {},
     "output_type": "execute_result"
    },
    {
     "data": {
      "image/png": "[encoded data removed]",
      "text/plain": [
       "<Figure size 1440x720 with 1 Axes>"
      ]
     },
     "metadata": {},
     "output_type": "display_data"
    }
   ],
   "source": [
    "train_data.groupby(['district_id']).agg({'height_ft_pre_eq':np.mean}).plot(kind='bar', figsize=(20,10), fontsize=12)"
   ]
  },
  {
   "cell_type": "markdown",
   "metadata": {},
   "source": [
    "####  Note: on an average pre-earthquake the building height is greater than 10 feet"
   ]
  },
  {
   "cell_type": "code",
   "execution_count": 73,
   "metadata": {},
   "outputs": [
    {
     "data": {
      "text/plain": [
       "<matplotlib.axes._subplots.AxesSubplot at 0x1665473ad30>"
      ]
     },
     "execution_count": 73,
     "metadata": {},
     "output_type": "execute_result"
    },
    {
     "data": {
      "image/png": "[encoded data removed]",
      "text/plain": [
       "<Figure size 1440x720 with 1 Axes>"
      ]
     },
     "metadata": {},
     "output_type": "display_data"
    }
   ],
   "source": [
    "train_data.groupby(['district_id']).agg({'height_ft_post_eq':np.mean}).plot(kind='bar', figsize=(20,10), fontsize=12, color='orange')"
   ]
  },
  {
   "cell_type": "markdown",
   "metadata": {},
   "source": [
    "#### Post earthquake 22, 23, 28, 29, 30 and 48 district are mostly affected"
   ]
  },
  {
   "cell_type": "code",
   "execution_count": 74,
   "metadata": {},
   "outputs": [
    {
     "data": {
      "text/plain": [
       "array(['Rectangular', 'Square', 'L-shape', 'T-shape', 'Multi-projected',\n",
       "       'U-shape', 'Others', 'E-shape', 'H-shape',\n",
       "       'Building with Central Courtyard'], dtype=object)"
      ]
     },
     "execution_count": 74,
     "metadata": {},
     "output_type": "execute_result"
    }
   ],
   "source": [
    "train_data.plan_configuration.unique()"
   ]
  },
  {
   "cell_type": "markdown",
   "metadata": {},
   "source": [
    "#### Mostly all are rectangular configuration mostly stable config accoding to business"
   ]
  },
  {
   "cell_type": "code",
   "execution_count": null,
   "metadata": {},
   "outputs": [],
   "source": []
  },
  {
   "cell_type": "code",
   "execution_count": 69,
   "metadata": {},
   "outputs": [
    {
     "data": {
      "text/plain": [
       "Index(['area_assesed', 'building_id', 'damage_grade', 'district_id',\n",
       "       'has_geotechnical_risk', 'has_geotechnical_risk_fault_crack',\n",
       "       'has_geotechnical_risk_flood', 'has_geotechnical_risk_land_settlement',\n",
       "       'has_geotechnical_risk_landslide', 'has_geotechnical_risk_liquefaction',\n",
       "       'has_geotechnical_risk_other', 'has_geotechnical_risk_rock_fall',\n",
       "       'has_repair_started', 'vdcmun_id', 'count_floors_pre_eq',\n",
       "       'count_floors_post_eq', 'age_building', 'plinth_area_sq_ft',\n",
       "       'height_ft_pre_eq', 'height_ft_post_eq', 'land_surface_condition',\n",
       "       'foundation_type', 'roof_type', 'ground_floor_type', 'other_floor_type',\n",
       "       'position', 'plan_configuration', 'has_superstructure_adobe_mud',\n",
       "       'has_superstructure_mud_mortar_stone', 'has_superstructure_stone_flag',\n",
       "       'has_superstructure_cement_mortar_stone',\n",
       "       'has_superstructure_mud_mortar_brick',\n",
       "       'has_superstructure_cement_mortar_brick', 'has_superstructure_timber',\n",
       "       'has_superstructure_bamboo', 'has_superstructure_rc_non_engineered',\n",
       "       'has_superstructure_rc_engineered', 'has_superstructure_other',\n",
       "       'condition_post_eq', 'ward_id', 'legal_ownership_status',\n",
       "       'count_families', 'has_secondary_use', 'has_secondary_use_agriculture',\n",
       "       'has_secondary_use_hotel', 'has_secondary_use_rental',\n",
       "       'has_secondary_use_institution', 'has_secondary_use_school',\n",
       "       'has_secondary_use_industry', 'has_secondary_use_health_post',\n",
       "       'has_secondary_use_gov_office', 'has_secondary_use_use_police',\n",
       "       'has_secondary_use_other'],\n",
       "      dtype='object')"
      ]
     },
     "execution_count": 69,
     "metadata": {},
     "output_type": "execute_result"
    }
   ],
   "source": [
    "train_data.columns"
   ]
  },
  {
   "cell_type": "code",
   "execution_count": null,
   "metadata": {},
   "outputs": [],
   "source": []
  },
  {
   "cell_type": "code",
   "execution_count": null,
   "metadata": {},
   "outputs": [],
   "source": []
  },
  {
   "cell_type": "code",
   "execution_count": null,
   "metadata": {},
   "outputs": [],
   "source": []
  },
  {
   "cell_type": "code",
   "execution_count": 53,
   "metadata": {},
   "outputs": [
    {
     "data": {
      "text/plain": [
       "array(['Bamboo/Timber-Heavy roof', 'Bamboo/Timber-Light roof',\n",
       "       'RCC/RB/RBC'], dtype=object)"
      ]
     },
     "execution_count": 53,
     "metadata": {},
     "output_type": "execute_result"
    }
   ],
   "source": [
    "roof_df.roof_type.unique()"
   ]
  },
  {
   "cell_type": "code",
   "execution_count": null,
   "metadata": {},
   "outputs": [],
   "source": []
  },
  {
   "cell_type": "code",
   "execution_count": null,
   "metadata": {},
   "outputs": [],
   "source": []
  },
  {
   "cell_type": "code",
   "execution_count": null,
   "metadata": {},
   "outputs": [],
   "source": []
  },
  {
   "cell_type": "code",
   "execution_count": 77,
   "metadata": {},
   "outputs": [],
   "source": [
    "# creating number of floors damaged:\n",
    "train_data['num_of_floors_damaged']=train_data['count_floors_pre_eq']-train_data['count_floors_post_eq']"
   ]
  },
  {
   "cell_type": "code",
   "execution_count": 83,
   "metadata": {},
   "outputs": [
    {
     "data": {
      "text/html": [
       "<div>\n",
       "<style scoped>\n",
       "    .dataframe tbody tr th:only-of-type {\n",
       "        vertical-align: middle;\n",
       "    }\n",
       "\n",
       "    .dataframe tbody tr th {\n",
       "        vertical-align: top;\n",
       "    }\n",
       "\n",
       "    .dataframe thead tr th {\n",
       "        text-align: left;\n",
       "    }\n",
       "\n",
       "    .dataframe thead tr:last-of-type th {\n",
       "        text-align: right;\n",
       "    }\n",
       "</style>\n",
       "<table border=\"1\" class=\"dataframe\">\n",
       "  <thead>\n",
       "    <tr>\n",
       "      <th></th>\n",
       "      <th colspan=\"3\" halign=\"left\">num_of_floors_damaged</th>\n",
       "    </tr>\n",
       "    <tr>\n",
       "      <th></th>\n",
       "      <th>min</th>\n",
       "      <th>max</th>\n",
       "      <th>mean</th>\n",
       "    </tr>\n",
       "    <tr>\n",
       "      <th>damage_grade</th>\n",
       "      <th></th>\n",
       "      <th></th>\n",
       "      <th></th>\n",
       "    </tr>\n",
       "  </thead>\n",
       "  <tbody>\n",
       "    <tr>\n",
       "      <th>Grade 1</th>\n",
       "      <td>-7</td>\n",
       "      <td>2</td>\n",
       "      <td>-0.003490</td>\n",
       "    </tr>\n",
       "    <tr>\n",
       "      <th>Grade 2</th>\n",
       "      <td>-8</td>\n",
       "      <td>4</td>\n",
       "      <td>0.012670</td>\n",
       "    </tr>\n",
       "    <tr>\n",
       "      <th>Grade 3</th>\n",
       "      <td>-8</td>\n",
       "      <td>7</td>\n",
       "      <td>0.052883</td>\n",
       "    </tr>\n",
       "    <tr>\n",
       "      <th>Grade 4</th>\n",
       "      <td>-7</td>\n",
       "      <td>8</td>\n",
       "      <td>0.308905</td>\n",
       "    </tr>\n",
       "    <tr>\n",
       "      <th>Grade 5</th>\n",
       "      <td>-7</td>\n",
       "      <td>9</td>\n",
       "      <td>2.125493</td>\n",
       "    </tr>\n",
       "  </tbody>\n",
       "</table>\n",
       "</div>"
      ],
      "text/plain": [
       "             num_of_floors_damaged              \n",
       "                               min max      mean\n",
       "damage_grade                                    \n",
       "Grade 1                         -7   2 -0.003490\n",
       "Grade 2                         -8   4  0.012670\n",
       "Grade 3                         -8   7  0.052883\n",
       "Grade 4                         -7   8  0.308905\n",
       "Grade 5                         -7   9  2.125493"
      ]
     },
     "execution_count": 83,
     "metadata": {},
     "output_type": "execute_result"
    }
   ],
   "source": [
    "train_data[['num_of_floors_damaged', 'damage_grade']].groupby('damage_grade').agg({'num_of_floors_damaged':['min', 'max',np.mean]})"
   ]
  },
  {
   "cell_type": "code",
   "execution_count": 86,
   "metadata": {},
   "outputs": [],
   "source": [
    "# Lost feet after earthquake\n",
    "train_data['feet_lost']=train_data['height_ft_pre_eq']-train_data['height_ft_post_eq']"
   ]
  },
  {
   "cell_type": "code",
   "execution_count": 87,
   "metadata": {},
   "outputs": [
    {
     "data": {
      "text/html": [
       "<div>\n",
       "<style scoped>\n",
       "    .dataframe tbody tr th:only-of-type {\n",
       "        vertical-align: middle;\n",
       "    }\n",
       "\n",
       "    .dataframe tbody tr th {\n",
       "        vertical-align: top;\n",
       "    }\n",
       "\n",
       "    .dataframe thead tr th {\n",
       "        text-align: left;\n",
       "    }\n",
       "\n",
       "    .dataframe thead tr:last-of-type th {\n",
       "        text-align: right;\n",
       "    }\n",
       "</style>\n",
       "<table border=\"1\" class=\"dataframe\">\n",
       "  <thead>\n",
       "    <tr>\n",
       "      <th></th>\n",
       "      <th colspan=\"3\" halign=\"left\">feet_lost</th>\n",
       "    </tr>\n",
       "    <tr>\n",
       "      <th></th>\n",
       "      <th>min</th>\n",
       "      <th>max</th>\n",
       "      <th>mean</th>\n",
       "    </tr>\n",
       "    <tr>\n",
       "      <th>damage_grade</th>\n",
       "      <th></th>\n",
       "      <th></th>\n",
       "      <th></th>\n",
       "    </tr>\n",
       "  </thead>\n",
       "  <tbody>\n",
       "    <tr>\n",
       "      <th>Grade 1</th>\n",
       "      <td>-50</td>\n",
       "      <td>18</td>\n",
       "      <td>-0.024690</td>\n",
       "    </tr>\n",
       "    <tr>\n",
       "      <th>Grade 2</th>\n",
       "      <td>-60</td>\n",
       "      <td>23</td>\n",
       "      <td>0.112242</td>\n",
       "    </tr>\n",
       "    <tr>\n",
       "      <th>Grade 3</th>\n",
       "      <td>-186</td>\n",
       "      <td>67</td>\n",
       "      <td>0.383415</td>\n",
       "    </tr>\n",
       "    <tr>\n",
       "      <th>Grade 4</th>\n",
       "      <td>-174</td>\n",
       "      <td>91</td>\n",
       "      <td>2.214189</td>\n",
       "    </tr>\n",
       "    <tr>\n",
       "      <th>Grade 5</th>\n",
       "      <td>-30</td>\n",
       "      <td>99</td>\n",
       "      <td>15.896805</td>\n",
       "    </tr>\n",
       "  </tbody>\n",
       "</table>\n",
       "</div>"
      ],
      "text/plain": [
       "             feet_lost               \n",
       "                   min max       mean\n",
       "damage_grade                         \n",
       "Grade 1            -50  18  -0.024690\n",
       "Grade 2            -60  23   0.112242\n",
       "Grade 3           -186  67   0.383415\n",
       "Grade 4           -174  91   2.214189\n",
       "Grade 5            -30  99  15.896805"
      ]
     },
     "execution_count": 87,
     "metadata": {},
     "output_type": "execute_result"
    }
   ],
   "source": [
    "train_data[['feet_lost','damage_grade']].groupby('damage_grade').agg({'feet_lost':['min', 'max', np.mean]})"
   ]
  },
  {
   "cell_type": "code",
   "execution_count": null,
   "metadata": {},
   "outputs": [],
   "source": []
  },
  {
   "cell_type": "code",
   "execution_count": null,
   "metadata": {},
   "outputs": [],
   "source": []
  },
  {
   "cell_type": "code",
   "execution_count": null,
   "metadata": {},
   "outputs": [],
   "source": []
  },
  {
   "cell_type": "code",
   "execution_count": 74,
   "metadata": {},
   "outputs": [
    {
     "data": {
      "text/plain": [
       "array(['Mud mortar-Stone/Brick', 'RC', 'Bamboo/Timber',\n",
       "       'Cement-Stone/Brick', 'Other'], dtype=object)"
      ]
     },
     "execution_count": 74,
     "metadata": {},
     "output_type": "execute_result"
    }
   ],
   "source": [
    "train_data.foundation_type.unique()"
   ]
  },
  {
   "cell_type": "code",
   "execution_count": 75,
   "metadata": {},
   "outputs": [
    {
     "data": {
      "text/plain": [
       "array(['Flat', 'Steep slope', 'Moderate slope'], dtype=object)"
      ]
     },
     "execution_count": 75,
     "metadata": {},
     "output_type": "execute_result"
    }
   ],
   "source": [
    "train_data.land_surface_condition.unique()"
   ]
  },
  {
   "cell_type": "code",
   "execution_count": 76,
   "metadata": {},
   "outputs": [
    {
     "data": {
      "text/plain": [
       "array(['Bamboo/Timber-Light roof', 'RCC/RB/RBC',\n",
       "       'Bamboo/Timber-Heavy roof'], dtype=object)"
      ]
     },
     "execution_count": 76,
     "metadata": {},
     "output_type": "execute_result"
    }
   ],
   "source": [
    "train_data.roof_type.unique()"
   ]
  },
  {
   "cell_type": "code",
   "execution_count": 17,
   "metadata": {},
   "outputs": [
    {
     "data": {
      "text/html": [
       "<div>\n",
       "<style scoped>\n",
       "    .dataframe tbody tr th:only-of-type {\n",
       "        vertical-align: middle;\n",
       "    }\n",
       "\n",
       "    .dataframe tbody tr th {\n",
       "        vertical-align: top;\n",
       "    }\n",
       "\n",
       "    .dataframe thead tr th {\n",
       "        text-align: left;\n",
       "    }\n",
       "\n",
       "    .dataframe thead tr:last-of-type th {\n",
       "        text-align: right;\n",
       "    }\n",
       "</style>\n",
       "<table border=\"1\" class=\"dataframe\">\n",
       "  <thead>\n",
       "    <tr>\n",
       "      <th></th>\n",
       "      <th></th>\n",
       "      <th>building_id</th>\n",
       "      <th colspan=\"3\" halign=\"left\">age_building</th>\n",
       "    </tr>\n",
       "    <tr>\n",
       "      <th></th>\n",
       "      <th></th>\n",
       "      <th>count</th>\n",
       "      <th>max</th>\n",
       "      <th>mean</th>\n",
       "      <th>min</th>\n",
       "    </tr>\n",
       "    <tr>\n",
       "      <th>district_id</th>\n",
       "      <th>foundation_type</th>\n",
       "      <th></th>\n",
       "      <th></th>\n",
       "      <th></th>\n",
       "      <th></th>\n",
       "    </tr>\n",
       "  </thead>\n",
       "  <tbody>\n",
       "    <tr>\n",
       "      <th rowspan=\"4\" valign=\"top\">7</th>\n",
       "      <th>Bamboo/Timber</th>\n",
       "      <td>14</td>\n",
       "      <td>48</td>\n",
       "      <td>23.142857</td>\n",
       "      <td>7</td>\n",
       "    </tr>\n",
       "    <tr>\n",
       "      <th>Cement-Stone/Brick</th>\n",
       "      <td>80</td>\n",
       "      <td>125</td>\n",
       "      <td>22.900000</td>\n",
       "      <td>3</td>\n",
       "    </tr>\n",
       "    <tr>\n",
       "      <th>Mud mortar-Stone/Brick</th>\n",
       "      <td>2611</td>\n",
       "      <td>999</td>\n",
       "      <td>28.589812</td>\n",
       "      <td>1</td>\n",
       "    </tr>\n",
       "    <tr>\n",
       "      <th>RC</th>\n",
       "      <td>9</td>\n",
       "      <td>34</td>\n",
       "      <td>13.777778</td>\n",
       "      <td>3</td>\n",
       "    </tr>\n",
       "    <tr>\n",
       "      <th rowspan=\"5\" valign=\"top\">9</th>\n",
       "      <th>Bamboo/Timber</th>\n",
       "      <td>57</td>\n",
       "      <td>999</td>\n",
       "      <td>50.421053</td>\n",
       "      <td>1</td>\n",
       "    </tr>\n",
       "    <tr>\n",
       "      <th>Cement-Stone/Brick</th>\n",
       "      <td>102</td>\n",
       "      <td>999</td>\n",
       "      <td>69.049020</td>\n",
       "      <td>1</td>\n",
       "    </tr>\n",
       "    <tr>\n",
       "      <th>Mud mortar-Stone/Brick</th>\n",
       "      <td>2870</td>\n",
       "      <td>999</td>\n",
       "      <td>71.698258</td>\n",
       "      <td>0</td>\n",
       "    </tr>\n",
       "    <tr>\n",
       "      <th>Other</th>\n",
       "      <td>2</td>\n",
       "      <td>23</td>\n",
       "      <td>19.000000</td>\n",
       "      <td>15</td>\n",
       "    </tr>\n",
       "    <tr>\n",
       "      <th>RC</th>\n",
       "      <td>18</td>\n",
       "      <td>999</td>\n",
       "      <td>115.277778</td>\n",
       "      <td>1</td>\n",
       "    </tr>\n",
       "    <tr>\n",
       "      <th rowspan=\"5\" valign=\"top\">10</th>\n",
       "      <th>Bamboo/Timber</th>\n",
       "      <td>43</td>\n",
       "      <td>46</td>\n",
       "      <td>8.558140</td>\n",
       "      <td>2</td>\n",
       "    </tr>\n",
       "    <tr>\n",
       "      <th>Cement-Stone/Brick</th>\n",
       "      <td>79</td>\n",
       "      <td>100</td>\n",
       "      <td>28.987342</td>\n",
       "      <td>1</td>\n",
       "    </tr>\n",
       "    <tr>\n",
       "      <th>Mud mortar-Stone/Brick</th>\n",
       "      <td>5154</td>\n",
       "      <td>999</td>\n",
       "      <td>31.563252</td>\n",
       "      <td>0</td>\n",
       "    </tr>\n",
       "    <tr>\n",
       "      <th>Other</th>\n",
       "      <td>323</td>\n",
       "      <td>100</td>\n",
       "      <td>39.625387</td>\n",
       "      <td>1</td>\n",
       "    </tr>\n",
       "    <tr>\n",
       "      <th>RC</th>\n",
       "      <td>1</td>\n",
       "      <td>5</td>\n",
       "      <td>5.000000</td>\n",
       "      <td>5</td>\n",
       "    </tr>\n",
       "    <tr>\n",
       "      <th rowspan=\"5\" valign=\"top\">11</th>\n",
       "      <th>Bamboo/Timber</th>\n",
       "      <td>48</td>\n",
       "      <td>20</td>\n",
       "      <td>7.458333</td>\n",
       "      <td>1</td>\n",
       "    </tr>\n",
       "    <tr>\n",
       "      <th>Cement-Stone/Brick</th>\n",
       "      <td>247</td>\n",
       "      <td>200</td>\n",
       "      <td>19.194332</td>\n",
       "      <td>2</td>\n",
       "    </tr>\n",
       "    <tr>\n",
       "      <th>Mud mortar-Stone/Brick</th>\n",
       "      <td>10020</td>\n",
       "      <td>999</td>\n",
       "      <td>20.950000</td>\n",
       "      <td>0</td>\n",
       "    </tr>\n",
       "    <tr>\n",
       "      <th>Other</th>\n",
       "      <td>21</td>\n",
       "      <td>80</td>\n",
       "      <td>27.714286</td>\n",
       "      <td>5</td>\n",
       "    </tr>\n",
       "    <tr>\n",
       "      <th>RC</th>\n",
       "      <td>17</td>\n",
       "      <td>15</td>\n",
       "      <td>6.000000</td>\n",
       "      <td>1</td>\n",
       "    </tr>\n",
       "    <tr>\n",
       "      <th rowspan=\"5\" valign=\"top\">12</th>\n",
       "      <th>Bamboo/Timber</th>\n",
       "      <td>381</td>\n",
       "      <td>999</td>\n",
       "      <td>9.123360</td>\n",
       "      <td>0</td>\n",
       "    </tr>\n",
       "    <tr>\n",
       "      <th>Cement-Stone/Brick</th>\n",
       "      <td>548</td>\n",
       "      <td>150</td>\n",
       "      <td>16.700730</td>\n",
       "      <td>0</td>\n",
       "    </tr>\n",
       "    <tr>\n",
       "      <th>Mud mortar-Stone/Brick</th>\n",
       "      <td>22590</td>\n",
       "      <td>999</td>\n",
       "      <td>20.884462</td>\n",
       "      <td>0</td>\n",
       "    </tr>\n",
       "    <tr>\n",
       "      <th>Other</th>\n",
       "      <td>46</td>\n",
       "      <td>82</td>\n",
       "      <td>12.347826</td>\n",
       "      <td>0</td>\n",
       "    </tr>\n",
       "    <tr>\n",
       "      <th>RC</th>\n",
       "      <td>135</td>\n",
       "      <td>40</td>\n",
       "      <td>5.066667</td>\n",
       "      <td>0</td>\n",
       "    </tr>\n",
       "    <tr>\n",
       "      <th rowspan=\"5\" valign=\"top\">13</th>\n",
       "      <th>Bamboo/Timber</th>\n",
       "      <td>29</td>\n",
       "      <td>999</td>\n",
       "      <td>45.310345</td>\n",
       "      <td>0</td>\n",
       "    </tr>\n",
       "    <tr>\n",
       "      <th>Cement-Stone/Brick</th>\n",
       "      <td>82</td>\n",
       "      <td>80</td>\n",
       "      <td>21.390244</td>\n",
       "      <td>1</td>\n",
       "    </tr>\n",
       "    <tr>\n",
       "      <th>Mud mortar-Stone/Brick</th>\n",
       "      <td>7560</td>\n",
       "      <td>999</td>\n",
       "      <td>46.902646</td>\n",
       "      <td>0</td>\n",
       "    </tr>\n",
       "    <tr>\n",
       "      <th>Other</th>\n",
       "      <td>3</td>\n",
       "      <td>37</td>\n",
       "      <td>20.333333</td>\n",
       "      <td>10</td>\n",
       "    </tr>\n",
       "    <tr>\n",
       "      <th>RC</th>\n",
       "      <td>2</td>\n",
       "      <td>15</td>\n",
       "      <td>10.500000</td>\n",
       "      <td>6</td>\n",
       "    </tr>\n",
       "    <tr>\n",
       "      <th>20</th>\n",
       "      <th>Bamboo/Timber</th>\n",
       "      <td>19571</td>\n",
       "      <td>999</td>\n",
       "      <td>11.907414</td>\n",
       "      <td>0</td>\n",
       "    </tr>\n",
       "    <tr>\n",
       "      <th>...</th>\n",
       "      <th>...</th>\n",
       "      <td>...</td>\n",
       "      <td>...</td>\n",
       "      <td>...</td>\n",
       "      <td>...</td>\n",
       "    </tr>\n",
       "    <tr>\n",
       "      <th rowspan=\"3\" valign=\"top\">43</th>\n",
       "      <th>Mud mortar-Stone/Brick</th>\n",
       "      <td>800</td>\n",
       "      <td>125</td>\n",
       "      <td>25.043750</td>\n",
       "      <td>1</td>\n",
       "    </tr>\n",
       "    <tr>\n",
       "      <th>Other</th>\n",
       "      <td>1</td>\n",
       "      <td>50</td>\n",
       "      <td>50.000000</td>\n",
       "      <td>50</td>\n",
       "    </tr>\n",
       "    <tr>\n",
       "      <th>RC</th>\n",
       "      <td>5</td>\n",
       "      <td>13</td>\n",
       "      <td>6.800000</td>\n",
       "      <td>2</td>\n",
       "    </tr>\n",
       "    <tr>\n",
       "      <th rowspan=\"5\" valign=\"top\">44</th>\n",
       "      <th>Bamboo/Timber</th>\n",
       "      <td>128</td>\n",
       "      <td>30</td>\n",
       "      <td>13.609375</td>\n",
       "      <td>2</td>\n",
       "    </tr>\n",
       "    <tr>\n",
       "      <th>Cement-Stone/Brick</th>\n",
       "      <td>118</td>\n",
       "      <td>145</td>\n",
       "      <td>19.186441</td>\n",
       "      <td>1</td>\n",
       "    </tr>\n",
       "    <tr>\n",
       "      <th>Mud mortar-Stone/Brick</th>\n",
       "      <td>6218</td>\n",
       "      <td>180</td>\n",
       "      <td>24.925056</td>\n",
       "      <td>0</td>\n",
       "    </tr>\n",
       "    <tr>\n",
       "      <th>Other</th>\n",
       "      <td>1</td>\n",
       "      <td>1</td>\n",
       "      <td>1.000000</td>\n",
       "      <td>1</td>\n",
       "    </tr>\n",
       "    <tr>\n",
       "      <th>RC</th>\n",
       "      <td>87</td>\n",
       "      <td>40</td>\n",
       "      <td>9.298851</td>\n",
       "      <td>0</td>\n",
       "    </tr>\n",
       "    <tr>\n",
       "      <th rowspan=\"5\" valign=\"top\">45</th>\n",
       "      <th>Bamboo/Timber</th>\n",
       "      <td>4</td>\n",
       "      <td>15</td>\n",
       "      <td>9.750000</td>\n",
       "      <td>5</td>\n",
       "    </tr>\n",
       "    <tr>\n",
       "      <th>Cement-Stone/Brick</th>\n",
       "      <td>147</td>\n",
       "      <td>999</td>\n",
       "      <td>162.292517</td>\n",
       "      <td>3</td>\n",
       "    </tr>\n",
       "    <tr>\n",
       "      <th>Mud mortar-Stone/Brick</th>\n",
       "      <td>2156</td>\n",
       "      <td>999</td>\n",
       "      <td>66.058442</td>\n",
       "      <td>0</td>\n",
       "    </tr>\n",
       "    <tr>\n",
       "      <th>Other</th>\n",
       "      <td>1</td>\n",
       "      <td>36</td>\n",
       "      <td>36.000000</td>\n",
       "      <td>36</td>\n",
       "    </tr>\n",
       "    <tr>\n",
       "      <th>RC</th>\n",
       "      <td>30</td>\n",
       "      <td>999</td>\n",
       "      <td>75.166667</td>\n",
       "      <td>3</td>\n",
       "    </tr>\n",
       "    <tr>\n",
       "      <th rowspan=\"5\" valign=\"top\">46</th>\n",
       "      <th>Bamboo/Timber</th>\n",
       "      <td>7</td>\n",
       "      <td>75</td>\n",
       "      <td>22.000000</td>\n",
       "      <td>5</td>\n",
       "    </tr>\n",
       "    <tr>\n",
       "      <th>Cement-Stone/Brick</th>\n",
       "      <td>112</td>\n",
       "      <td>999</td>\n",
       "      <td>76.785714</td>\n",
       "      <td>2</td>\n",
       "    </tr>\n",
       "    <tr>\n",
       "      <th>Mud mortar-Stone/Brick</th>\n",
       "      <td>4090</td>\n",
       "      <td>999</td>\n",
       "      <td>42.002689</td>\n",
       "      <td>0</td>\n",
       "    </tr>\n",
       "    <tr>\n",
       "      <th>Other</th>\n",
       "      <td>1</td>\n",
       "      <td>9</td>\n",
       "      <td>9.000000</td>\n",
       "      <td>9</td>\n",
       "    </tr>\n",
       "    <tr>\n",
       "      <th>RC</th>\n",
       "      <td>53</td>\n",
       "      <td>999</td>\n",
       "      <td>30.509434</td>\n",
       "      <td>1</td>\n",
       "    </tr>\n",
       "    <tr>\n",
       "      <th rowspan=\"5\" valign=\"top\">47</th>\n",
       "      <th>Bamboo/Timber</th>\n",
       "      <td>13</td>\n",
       "      <td>40</td>\n",
       "      <td>16.692308</td>\n",
       "      <td>2</td>\n",
       "    </tr>\n",
       "    <tr>\n",
       "      <th>Cement-Stone/Brick</th>\n",
       "      <td>258</td>\n",
       "      <td>999</td>\n",
       "      <td>31.736434</td>\n",
       "      <td>0</td>\n",
       "    </tr>\n",
       "    <tr>\n",
       "      <th>Mud mortar-Stone/Brick</th>\n",
       "      <td>6000</td>\n",
       "      <td>999</td>\n",
       "      <td>45.856333</td>\n",
       "      <td>0</td>\n",
       "    </tr>\n",
       "    <tr>\n",
       "      <th>Other</th>\n",
       "      <td>7</td>\n",
       "      <td>57</td>\n",
       "      <td>19.714286</td>\n",
       "      <td>2</td>\n",
       "    </tr>\n",
       "    <tr>\n",
       "      <th>RC</th>\n",
       "      <td>121</td>\n",
       "      <td>50</td>\n",
       "      <td>10.983471</td>\n",
       "      <td>0</td>\n",
       "    </tr>\n",
       "    <tr>\n",
       "      <th rowspan=\"4\" valign=\"top\">48</th>\n",
       "      <th>Bamboo/Timber</th>\n",
       "      <td>3</td>\n",
       "      <td>25</td>\n",
       "      <td>13.333333</td>\n",
       "      <td>5</td>\n",
       "    </tr>\n",
       "    <tr>\n",
       "      <th>Cement-Stone/Brick</th>\n",
       "      <td>16</td>\n",
       "      <td>30</td>\n",
       "      <td>16.500000</td>\n",
       "      <td>3</td>\n",
       "    </tr>\n",
       "    <tr>\n",
       "      <th>Mud mortar-Stone/Brick</th>\n",
       "      <td>570</td>\n",
       "      <td>70</td>\n",
       "      <td>18.784211</td>\n",
       "      <td>1</td>\n",
       "    </tr>\n",
       "    <tr>\n",
       "      <th>RC</th>\n",
       "      <td>6</td>\n",
       "      <td>18</td>\n",
       "      <td>7.666667</td>\n",
       "      <td>3</td>\n",
       "    </tr>\n",
       "    <tr>\n",
       "      <th rowspan=\"3\" valign=\"top\">51</th>\n",
       "      <th>Cement-Stone/Brick</th>\n",
       "      <td>45</td>\n",
       "      <td>60</td>\n",
       "      <td>20.177778</td>\n",
       "      <td>1</td>\n",
       "    </tr>\n",
       "    <tr>\n",
       "      <th>Mud mortar-Stone/Brick</th>\n",
       "      <td>928</td>\n",
       "      <td>180</td>\n",
       "      <td>24.384698</td>\n",
       "      <td>2</td>\n",
       "    </tr>\n",
       "    <tr>\n",
       "      <th>RC</th>\n",
       "      <td>2</td>\n",
       "      <td>21</td>\n",
       "      <td>14.000000</td>\n",
       "      <td>7</td>\n",
       "    </tr>\n",
       "  </tbody>\n",
       "</table>\n",
       "<p>151 rows × 4 columns</p>\n",
       "</div>"
      ],
      "text/plain": [
       "                                   building_id age_building                \n",
       "                                         count          max        mean min\n",
       "district_id foundation_type                                                \n",
       "7           Bamboo/Timber                   14           48   23.142857   7\n",
       "            Cement-Stone/Brick              80          125   22.900000   3\n",
       "            Mud mortar-Stone/Brick        2611          999   28.589812   1\n",
       "            RC                               9           34   13.777778   3\n",
       "9           Bamboo/Timber                   57          999   50.421053   1\n",
       "            Cement-Stone/Brick             102          999   69.049020   1\n",
       "            Mud mortar-Stone/Brick        2870          999   71.698258   0\n",
       "            Other                            2           23   19.000000  15\n",
       "            RC                              18          999  115.277778   1\n",
       "10          Bamboo/Timber                   43           46    8.558140   2\n",
       "            Cement-Stone/Brick              79          100   28.987342   1\n",
       "            Mud mortar-Stone/Brick        5154          999   31.563252   0\n",
       "            Other                          323          100   39.625387   1\n",
       "            RC                               1            5    5.000000   5\n",
       "11          Bamboo/Timber                   48           20    7.458333   1\n",
       "            Cement-Stone/Brick             247          200   19.194332   2\n",
       "            Mud mortar-Stone/Brick       10020          999   20.950000   0\n",
       "            Other                           21           80   27.714286   5\n",
       "            RC                              17           15    6.000000   1\n",
       "12          Bamboo/Timber                  381          999    9.123360   0\n",
       "            Cement-Stone/Brick             548          150   16.700730   0\n",
       "            Mud mortar-Stone/Brick       22590          999   20.884462   0\n",
       "            Other                           46           82   12.347826   0\n",
       "            RC                             135           40    5.066667   0\n",
       "13          Bamboo/Timber                   29          999   45.310345   0\n",
       "            Cement-Stone/Brick              82           80   21.390244   1\n",
       "            Mud mortar-Stone/Brick        7560          999   46.902646   0\n",
       "            Other                            3           37   20.333333  10\n",
       "            RC                               2           15   10.500000   6\n",
       "20          Bamboo/Timber                19571          999   11.907414   0\n",
       "...                                        ...          ...         ...  ..\n",
       "43          Mud mortar-Stone/Brick         800          125   25.043750   1\n",
       "            Other                            1           50   50.000000  50\n",
       "            RC                               5           13    6.800000   2\n",
       "44          Bamboo/Timber                  128           30   13.609375   2\n",
       "            Cement-Stone/Brick             118          145   19.186441   1\n",
       "            Mud mortar-Stone/Brick        6218          180   24.925056   0\n",
       "            Other                            1            1    1.000000   1\n",
       "            RC                              87           40    9.298851   0\n",
       "45          Bamboo/Timber                    4           15    9.750000   5\n",
       "            Cement-Stone/Brick             147          999  162.292517   3\n",
       "            Mud mortar-Stone/Brick        2156          999   66.058442   0\n",
       "            Other                            1           36   36.000000  36\n",
       "            RC                              30          999   75.166667   3\n",
       "46          Bamboo/Timber                    7           75   22.000000   5\n",
       "            Cement-Stone/Brick             112          999   76.785714   2\n",
       "            Mud mortar-Stone/Brick        4090          999   42.002689   0\n",
       "            Other                            1            9    9.000000   9\n",
       "            RC                              53          999   30.509434   1\n",
       "47          Bamboo/Timber                   13           40   16.692308   2\n",
       "            Cement-Stone/Brick             258          999   31.736434   0\n",
       "            Mud mortar-Stone/Brick        6000          999   45.856333   0\n",
       "            Other                            7           57   19.714286   2\n",
       "            RC                             121           50   10.983471   0\n",
       "48          Bamboo/Timber                    3           25   13.333333   5\n",
       "            Cement-Stone/Brick              16           30   16.500000   3\n",
       "            Mud mortar-Stone/Brick         570           70   18.784211   1\n",
       "            RC                               6           18    7.666667   3\n",
       "51          Cement-Stone/Brick              45           60   20.177778   1\n",
       "            Mud mortar-Stone/Brick         928          180   24.384698   2\n",
       "            RC                               2           21   14.000000   7\n",
       "\n",
       "[151 rows x 4 columns]"
      ]
     },
     "execution_count": 17,
     "metadata": {},
     "output_type": "execute_result"
    }
   ],
   "source": [
    "train_data.groupby(['district_id','foundation_type']).agg({'building_id':'count', 'age_building':['max','mean','min']})"
   ]
  },
  {
   "cell_type": "code",
   "execution_count": 47,
   "metadata": {},
   "outputs": [
    {
     "data": {
      "text/html": [
       "<div>\n",
       "<style scoped>\n",
       "    .dataframe tbody tr th:only-of-type {\n",
       "        vertical-align: middle;\n",
       "    }\n",
       "\n",
       "    .dataframe tbody tr th {\n",
       "        vertical-align: top;\n",
       "    }\n",
       "\n",
       "    .dataframe thead tr th {\n",
       "        text-align: left;\n",
       "    }\n",
       "\n",
       "    .dataframe thead tr:last-of-type th {\n",
       "        text-align: right;\n",
       "    }\n",
       "</style>\n",
       "<table border=\"1\" class=\"dataframe\">\n",
       "  <thead>\n",
       "    <tr>\n",
       "      <th></th>\n",
       "      <th colspan=\"5\" halign=\"left\">damage_grade</th>\n",
       "    </tr>\n",
       "    <tr>\n",
       "      <th>damage_grade</th>\n",
       "      <th>Grade 1</th>\n",
       "      <th>Grade 2</th>\n",
       "      <th>Grade 3</th>\n",
       "      <th>Grade 4</th>\n",
       "      <th>Grade 5</th>\n",
       "    </tr>\n",
       "    <tr>\n",
       "      <th>condition_post_eq</th>\n",
       "      <th></th>\n",
       "      <th></th>\n",
       "      <th></th>\n",
       "      <th></th>\n",
       "      <th></th>\n",
       "    </tr>\n",
       "  </thead>\n",
       "  <tbody>\n",
       "    <tr>\n",
       "      <th>Covered by landslide</th>\n",
       "      <td>NaN</td>\n",
       "      <td>NaN</td>\n",
       "      <td>NaN</td>\n",
       "      <td>NaN</td>\n",
       "      <td>276.0</td>\n",
       "    </tr>\n",
       "    <tr>\n",
       "      <th>Damaged-Not used</th>\n",
       "      <td>NaN</td>\n",
       "      <td>12078.0</td>\n",
       "      <td>40344.0</td>\n",
       "      <td>89872.0</td>\n",
       "      <td>7291.0</td>\n",
       "    </tr>\n",
       "    <tr>\n",
       "      <th>Damaged-Repaired and used</th>\n",
       "      <td>18175.0</td>\n",
       "      <td>41894.0</td>\n",
       "      <td>40492.0</td>\n",
       "      <td>24013.0</td>\n",
       "      <td>1790.0</td>\n",
       "    </tr>\n",
       "    <tr>\n",
       "      <th>Damaged-Rubble Clear-New building built</th>\n",
       "      <td>NaN</td>\n",
       "      <td>NaN</td>\n",
       "      <td>NaN</td>\n",
       "      <td>NaN</td>\n",
       "      <td>32754.0</td>\n",
       "    </tr>\n",
       "    <tr>\n",
       "      <th>Damaged-Rubble clear</th>\n",
       "      <td>NaN</td>\n",
       "      <td>NaN</td>\n",
       "      <td>NaN</td>\n",
       "      <td>NaN</td>\n",
       "      <td>79487.0</td>\n",
       "    </tr>\n",
       "    <tr>\n",
       "      <th>Damaged-Rubble unclear</th>\n",
       "      <td>NaN</td>\n",
       "      <td>NaN</td>\n",
       "      <td>NaN</td>\n",
       "      <td>NaN</td>\n",
       "      <td>87307.0</td>\n",
       "    </tr>\n",
       "    <tr>\n",
       "      <th>Damaged-Used in risk</th>\n",
       "      <td>NaN</td>\n",
       "      <td>31052.0</td>\n",
       "      <td>41452.0</td>\n",
       "      <td>38359.0</td>\n",
       "      <td>1920.0</td>\n",
       "    </tr>\n",
       "    <tr>\n",
       "      <th>Not damaged</th>\n",
       "      <td>43145.0</td>\n",
       "      <td>60.0</td>\n",
       "      <td>NaN</td>\n",
       "      <td>NaN</td>\n",
       "      <td>NaN</td>\n",
       "    </tr>\n",
       "  </tbody>\n",
       "</table>\n",
       "</div>"
      ],
      "text/plain": [
       "                                        damage_grade                    \\\n",
       "damage_grade                                 Grade 1  Grade 2  Grade 3   \n",
       "condition_post_eq                                                        \n",
       "Covered by landslide                             NaN      NaN      NaN   \n",
       "Damaged-Not used                                 NaN  12078.0  40344.0   \n",
       "Damaged-Repaired and used                    18175.0  41894.0  40492.0   \n",
       "Damaged-Rubble Clear-New building built          NaN      NaN      NaN   \n",
       "Damaged-Rubble clear                             NaN      NaN      NaN   \n",
       "Damaged-Rubble unclear                           NaN      NaN      NaN   \n",
       "Damaged-Used in risk                             NaN  31052.0  41452.0   \n",
       "Not damaged                                  43145.0     60.0      NaN   \n",
       "\n",
       "                                                           \n",
       "damage_grade                             Grade 4  Grade 5  \n",
       "condition_post_eq                                          \n",
       "Covered by landslide                         NaN    276.0  \n",
       "Damaged-Not used                         89872.0   7291.0  \n",
       "Damaged-Repaired and used                24013.0   1790.0  \n",
       "Damaged-Rubble Clear-New building built      NaN  32754.0  \n",
       "Damaged-Rubble clear                         NaN  79487.0  \n",
       "Damaged-Rubble unclear                       NaN  87307.0  \n",
       "Damaged-Used in risk                     38359.0   1920.0  \n",
       "Not damaged                                  NaN      NaN  "
      ]
     },
     "execution_count": 47,
     "metadata": {},
     "output_type": "execute_result"
    }
   ],
   "source": [
    "train_data.groupby(['condition_post_eq','damage_grade']).agg({'damage_grade':'count'}).unstack(level=1)"
   ]
  },
  {
   "cell_type": "code",
   "execution_count": 51,
   "metadata": {},
   "outputs": [],
   "source": [
    "damaged_used_risk_df=train_data.loc[train_data['condition_post_eq']=='Damaged-Used in risk']\n",
    "damaged_repair_used_df=train_data.loc[train_data['condition_post_eq']=='Damaged-Repaired and used']"
   ]
  },
  {
   "cell_type": "code",
   "execution_count": 52,
   "metadata": {},
   "outputs": [
    {
     "data": {
      "text/plain": [
       "((112783, 53), (126364, 53))"
      ]
     },
     "execution_count": 52,
     "metadata": {},
     "output_type": "execute_result"
    }
   ],
   "source": [
    "damaged_used_risk_df.shape,damaged_repair_used_df.shape"
   ]
  },
  {
   "cell_type": "code",
   "execution_count": 64,
   "metadata": {},
   "outputs": [
    {
     "data": {
      "text/html": [
       "<div>\n",
       "<style scoped>\n",
       "    .dataframe tbody tr th:only-of-type {\n",
       "        vertical-align: middle;\n",
       "    }\n",
       "\n",
       "    .dataframe tbody tr th {\n",
       "        vertical-align: top;\n",
       "    }\n",
       "\n",
       "    .dataframe thead tr th {\n",
       "        text-align: left;\n",
       "    }\n",
       "</style>\n",
       "<table border=\"1\" class=\"dataframe\">\n",
       "  <thead>\n",
       "    <tr>\n",
       "      <th></th>\n",
       "      <th>district_id</th>\n",
       "      <th colspan=\"4\" halign=\"left\">building_id</th>\n",
       "    </tr>\n",
       "    <tr>\n",
       "      <th>damage_grade</th>\n",
       "      <th></th>\n",
       "      <th>Grade 2</th>\n",
       "      <th>Grade 3</th>\n",
       "      <th>Grade 4</th>\n",
       "      <th>Grade 5</th>\n",
       "    </tr>\n",
       "  </thead>\n",
       "  <tbody>\n",
       "    <tr>\n",
       "      <th>0</th>\n",
       "      <td>7</td>\n",
       "      <td>237.0</td>\n",
       "      <td>290.0</td>\n",
       "      <td>267.0</td>\n",
       "      <td>3.0</td>\n",
       "    </tr>\n",
       "    <tr>\n",
       "      <th>1</th>\n",
       "      <td>9</td>\n",
       "      <td>93.0</td>\n",
       "      <td>220.0</td>\n",
       "      <td>124.0</td>\n",
       "      <td>2.0</td>\n",
       "    </tr>\n",
       "    <tr>\n",
       "      <th>2</th>\n",
       "      <td>10</td>\n",
       "      <td>398.0</td>\n",
       "      <td>607.0</td>\n",
       "      <td>364.0</td>\n",
       "      <td>32.0</td>\n",
       "    </tr>\n",
       "    <tr>\n",
       "      <th>3</th>\n",
       "      <td>11</td>\n",
       "      <td>613.0</td>\n",
       "      <td>809.0</td>\n",
       "      <td>650.0</td>\n",
       "      <td>11.0</td>\n",
       "    </tr>\n",
       "    <tr>\n",
       "      <th>4</th>\n",
       "      <td>12</td>\n",
       "      <td>1720.0</td>\n",
       "      <td>2191.0</td>\n",
       "      <td>1481.0</td>\n",
       "      <td>38.0</td>\n",
       "    </tr>\n",
       "  </tbody>\n",
       "</table>\n",
       "</div>"
      ],
      "text/plain": [
       "             district_id building_id                        \n",
       "damage_grade                 Grade 2 Grade 3 Grade 4 Grade 5\n",
       "0                      7       237.0   290.0   267.0     3.0\n",
       "1                      9        93.0   220.0   124.0     2.0\n",
       "2                     10       398.0   607.0   364.0    32.0\n",
       "3                     11       613.0   809.0   650.0    11.0\n",
       "4                     12      1720.0  2191.0  1481.0    38.0"
      ]
     },
     "execution_count": 64,
     "metadata": {},
     "output_type": "execute_result"
    }
   ],
   "source": [
    "damaged_used_risk_df_1=damaged_used_risk_df.groupby(['district_id','damage_grade']).agg({'building_id':'count'}).unstack(level=1).reset_index()\n",
    "damaged_used_risk_df_1.head()"
   ]
  },
  {
   "cell_type": "code",
   "execution_count": 66,
   "metadata": {},
   "outputs": [],
   "source": [
    "damaged_used_risk_df_1.columns=['district_id','Grade_2','Grade_3','Grade_4','Graade_5']"
   ]
  },
  {
   "cell_type": "code",
   "execution_count": 67,
   "metadata": {},
   "outputs": [
    {
     "data": {
      "text/html": [
       "<div>\n",
       "<style scoped>\n",
       "    .dataframe tbody tr th:only-of-type {\n",
       "        vertical-align: middle;\n",
       "    }\n",
       "\n",
       "    .dataframe tbody tr th {\n",
       "        vertical-align: top;\n",
       "    }\n",
       "\n",
       "    .dataframe thead th {\n",
       "        text-align: right;\n",
       "    }\n",
       "</style>\n",
       "<table border=\"1\" class=\"dataframe\">\n",
       "  <thead>\n",
       "    <tr style=\"text-align: right;\">\n",
       "      <th></th>\n",
       "      <th>district_id</th>\n",
       "      <th>Grade_2</th>\n",
       "      <th>Grade_3</th>\n",
       "      <th>Grade_4</th>\n",
       "      <th>Graade_5</th>\n",
       "    </tr>\n",
       "  </thead>\n",
       "  <tbody>\n",
       "    <tr>\n",
       "      <th>0</th>\n",
       "      <td>7</td>\n",
       "      <td>237.0</td>\n",
       "      <td>290.0</td>\n",
       "      <td>267.0</td>\n",
       "      <td>3.0</td>\n",
       "    </tr>\n",
       "    <tr>\n",
       "      <th>1</th>\n",
       "      <td>9</td>\n",
       "      <td>93.0</td>\n",
       "      <td>220.0</td>\n",
       "      <td>124.0</td>\n",
       "      <td>2.0</td>\n",
       "    </tr>\n",
       "    <tr>\n",
       "      <th>2</th>\n",
       "      <td>10</td>\n",
       "      <td>398.0</td>\n",
       "      <td>607.0</td>\n",
       "      <td>364.0</td>\n",
       "      <td>32.0</td>\n",
       "    </tr>\n",
       "    <tr>\n",
       "      <th>3</th>\n",
       "      <td>11</td>\n",
       "      <td>613.0</td>\n",
       "      <td>809.0</td>\n",
       "      <td>650.0</td>\n",
       "      <td>11.0</td>\n",
       "    </tr>\n",
       "    <tr>\n",
       "      <th>4</th>\n",
       "      <td>12</td>\n",
       "      <td>1720.0</td>\n",
       "      <td>2191.0</td>\n",
       "      <td>1481.0</td>\n",
       "      <td>38.0</td>\n",
       "    </tr>\n",
       "  </tbody>\n",
       "</table>\n",
       "</div>"
      ],
      "text/plain": [
       "   district_id  Grade_2  Grade_3  Grade_4  Graade_5\n",
       "0            7    237.0    290.0    267.0       3.0\n",
       "1            9     93.0    220.0    124.0       2.0\n",
       "2           10    398.0    607.0    364.0      32.0\n",
       "3           11    613.0    809.0    650.0      11.0\n",
       "4           12   1720.0   2191.0   1481.0      38.0"
      ]
     },
     "execution_count": 67,
     "metadata": {},
     "output_type": "execute_result"
    }
   ],
   "source": [
    "damaged_used_risk_df_1.head()"
   ]
  },
  {
   "cell_type": "code",
   "execution_count": 80,
   "metadata": {},
   "outputs": [
    {
     "data": {
      "text/plain": [
       "<matplotlib.axes._subplots.AxesSubplot at 0x149a6579c18>"
      ]
     },
     "execution_count": 80,
     "metadata": {},
     "output_type": "execute_result"
    },
    {
     "data": {
      "image/png": "[encoded data removed]",
      "text/plain": [
       "<Figure size 432x288 with 1 Axes>"
      ]
     },
     "metadata": {},
     "output_type": "display_data"
    }
   ],
   "source": [
    "damaged_used_risk_df_1['Grade_2'].hist()"
   ]
  },
  {
   "cell_type": "code",
   "execution_count": 59,
   "metadata": {},
   "outputs": [
    {
     "data": {
      "text/html": [
       "<div>\n",
       "<style scoped>\n",
       "    .dataframe tbody tr th:only-of-type {\n",
       "        vertical-align: middle;\n",
       "    }\n",
       "\n",
       "    .dataframe tbody tr th {\n",
       "        vertical-align: top;\n",
       "    }\n",
       "\n",
       "    .dataframe thead tr th {\n",
       "        text-align: left;\n",
       "    }\n",
       "\n",
       "    .dataframe thead tr:last-of-type th {\n",
       "        text-align: right;\n",
       "    }\n",
       "</style>\n",
       "<table border=\"1\" class=\"dataframe\">\n",
       "  <thead>\n",
       "    <tr>\n",
       "      <th></th>\n",
       "      <th colspan=\"5\" halign=\"left\">building_id</th>\n",
       "    </tr>\n",
       "    <tr>\n",
       "      <th>damage_grade</th>\n",
       "      <th>Grade 1</th>\n",
       "      <th>Grade 2</th>\n",
       "      <th>Grade 3</th>\n",
       "      <th>Grade 4</th>\n",
       "      <th>Grade 5</th>\n",
       "    </tr>\n",
       "    <tr>\n",
       "      <th>district_id</th>\n",
       "      <th></th>\n",
       "      <th></th>\n",
       "      <th></th>\n",
       "      <th></th>\n",
       "      <th></th>\n",
       "    </tr>\n",
       "  </thead>\n",
       "  <tbody>\n",
       "    <tr>\n",
       "      <th>7</th>\n",
       "      <td>102.0</td>\n",
       "      <td>517.0</td>\n",
       "      <td>328.0</td>\n",
       "      <td>101.0</td>\n",
       "      <td>NaN</td>\n",
       "    </tr>\n",
       "    <tr>\n",
       "      <th>9</th>\n",
       "      <td>434.0</td>\n",
       "      <td>827.0</td>\n",
       "      <td>495.0</td>\n",
       "      <td>137.0</td>\n",
       "      <td>NaN</td>\n",
       "    </tr>\n",
       "    <tr>\n",
       "      <th>10</th>\n",
       "      <td>275.0</td>\n",
       "      <td>1025.0</td>\n",
       "      <td>1149.0</td>\n",
       "      <td>254.0</td>\n",
       "      <td>NaN</td>\n",
       "    </tr>\n",
       "    <tr>\n",
       "      <th>11</th>\n",
       "      <td>448.0</td>\n",
       "      <td>1416.0</td>\n",
       "      <td>2020.0</td>\n",
       "      <td>674.0</td>\n",
       "      <td>NaN</td>\n",
       "    </tr>\n",
       "    <tr>\n",
       "      <th>12</th>\n",
       "      <td>2031.0</td>\n",
       "      <td>2708.0</td>\n",
       "      <td>1545.0</td>\n",
       "      <td>285.0</td>\n",
       "      <td>25.0</td>\n",
       "    </tr>\n",
       "    <tr>\n",
       "      <th>13</th>\n",
       "      <td>307.0</td>\n",
       "      <td>1315.0</td>\n",
       "      <td>979.0</td>\n",
       "      <td>417.0</td>\n",
       "      <td>NaN</td>\n",
       "    </tr>\n",
       "    <tr>\n",
       "      <th>20</th>\n",
       "      <td>2138.0</td>\n",
       "      <td>5060.0</td>\n",
       "      <td>5205.0</td>\n",
       "      <td>2187.0</td>\n",
       "      <td>67.0</td>\n",
       "    </tr>\n",
       "    <tr>\n",
       "      <th>21</th>\n",
       "      <td>439.0</td>\n",
       "      <td>898.0</td>\n",
       "      <td>1343.0</td>\n",
       "      <td>659.0</td>\n",
       "      <td>57.0</td>\n",
       "    </tr>\n",
       "    <tr>\n",
       "      <th>22</th>\n",
       "      <td>259.0</td>\n",
       "      <td>277.0</td>\n",
       "      <td>212.0</td>\n",
       "      <td>317.0</td>\n",
       "      <td>90.0</td>\n",
       "    </tr>\n",
       "    <tr>\n",
       "      <th>23</th>\n",
       "      <td>243.0</td>\n",
       "      <td>523.0</td>\n",
       "      <td>514.0</td>\n",
       "      <td>950.0</td>\n",
       "      <td>312.0</td>\n",
       "    </tr>\n",
       "    <tr>\n",
       "      <th>24</th>\n",
       "      <td>967.0</td>\n",
       "      <td>1987.0</td>\n",
       "      <td>2600.0</td>\n",
       "      <td>1753.0</td>\n",
       "      <td>117.0</td>\n",
       "    </tr>\n",
       "    <tr>\n",
       "      <th>25</th>\n",
       "      <td>114.0</td>\n",
       "      <td>487.0</td>\n",
       "      <td>955.0</td>\n",
       "      <td>1134.0</td>\n",
       "      <td>63.0</td>\n",
       "    </tr>\n",
       "    <tr>\n",
       "      <th>26</th>\n",
       "      <td>109.0</td>\n",
       "      <td>324.0</td>\n",
       "      <td>1036.0</td>\n",
       "      <td>1468.0</td>\n",
       "      <td>60.0</td>\n",
       "    </tr>\n",
       "    <tr>\n",
       "      <th>27</th>\n",
       "      <td>162.0</td>\n",
       "      <td>589.0</td>\n",
       "      <td>1224.0</td>\n",
       "      <td>2346.0</td>\n",
       "      <td>148.0</td>\n",
       "    </tr>\n",
       "    <tr>\n",
       "      <th>28</th>\n",
       "      <td>509.0</td>\n",
       "      <td>621.0</td>\n",
       "      <td>940.0</td>\n",
       "      <td>2480.0</td>\n",
       "      <td>390.0</td>\n",
       "    </tr>\n",
       "    <tr>\n",
       "      <th>29</th>\n",
       "      <td>62.0</td>\n",
       "      <td>130.0</td>\n",
       "      <td>178.0</td>\n",
       "      <td>388.0</td>\n",
       "      <td>116.0</td>\n",
       "    </tr>\n",
       "    <tr>\n",
       "      <th>30</th>\n",
       "      <td>533.0</td>\n",
       "      <td>1289.0</td>\n",
       "      <td>1737.0</td>\n",
       "      <td>2440.0</td>\n",
       "      <td>166.0</td>\n",
       "    </tr>\n",
       "    <tr>\n",
       "      <th>31</th>\n",
       "      <td>3014.0</td>\n",
       "      <td>5029.0</td>\n",
       "      <td>3503.0</td>\n",
       "      <td>822.0</td>\n",
       "      <td>37.0</td>\n",
       "    </tr>\n",
       "    <tr>\n",
       "      <th>35</th>\n",
       "      <td>913.0</td>\n",
       "      <td>1676.0</td>\n",
       "      <td>1053.0</td>\n",
       "      <td>221.0</td>\n",
       "      <td>NaN</td>\n",
       "    </tr>\n",
       "    <tr>\n",
       "      <th>36</th>\n",
       "      <td>447.0</td>\n",
       "      <td>1132.0</td>\n",
       "      <td>1313.0</td>\n",
       "      <td>1436.0</td>\n",
       "      <td>142.0</td>\n",
       "    </tr>\n",
       "    <tr>\n",
       "      <th>37</th>\n",
       "      <td>626.0</td>\n",
       "      <td>2049.0</td>\n",
       "      <td>2041.0</td>\n",
       "      <td>1075.0</td>\n",
       "      <td>NaN</td>\n",
       "    </tr>\n",
       "    <tr>\n",
       "      <th>38</th>\n",
       "      <td>898.0</td>\n",
       "      <td>3194.0</td>\n",
       "      <td>2386.0</td>\n",
       "      <td>549.0</td>\n",
       "      <td>NaN</td>\n",
       "    </tr>\n",
       "    <tr>\n",
       "      <th>39</th>\n",
       "      <td>667.0</td>\n",
       "      <td>2472.0</td>\n",
       "      <td>1881.0</td>\n",
       "      <td>448.0</td>\n",
       "      <td>NaN</td>\n",
       "    </tr>\n",
       "    <tr>\n",
       "      <th>40</th>\n",
       "      <td>397.0</td>\n",
       "      <td>1434.0</td>\n",
       "      <td>1419.0</td>\n",
       "      <td>449.0</td>\n",
       "      <td>NaN</td>\n",
       "    </tr>\n",
       "    <tr>\n",
       "      <th>43</th>\n",
       "      <td>17.0</td>\n",
       "      <td>135.0</td>\n",
       "      <td>156.0</td>\n",
       "      <td>31.0</td>\n",
       "      <td>NaN</td>\n",
       "    </tr>\n",
       "    <tr>\n",
       "      <th>44</th>\n",
       "      <td>848.0</td>\n",
       "      <td>1489.0</td>\n",
       "      <td>1164.0</td>\n",
       "      <td>300.0</td>\n",
       "      <td>NaN</td>\n",
       "    </tr>\n",
       "    <tr>\n",
       "      <th>45</th>\n",
       "      <td>137.0</td>\n",
       "      <td>475.0</td>\n",
       "      <td>345.0</td>\n",
       "      <td>79.0</td>\n",
       "      <td>NaN</td>\n",
       "    </tr>\n",
       "    <tr>\n",
       "      <th>46</th>\n",
       "      <td>318.0</td>\n",
       "      <td>790.0</td>\n",
       "      <td>851.0</td>\n",
       "      <td>211.0</td>\n",
       "      <td>NaN</td>\n",
       "    </tr>\n",
       "    <tr>\n",
       "      <th>47</th>\n",
       "      <td>754.0</td>\n",
       "      <td>1724.0</td>\n",
       "      <td>1490.0</td>\n",
       "      <td>289.0</td>\n",
       "      <td>NaN</td>\n",
       "    </tr>\n",
       "    <tr>\n",
       "      <th>48</th>\n",
       "      <td>1.0</td>\n",
       "      <td>50.0</td>\n",
       "      <td>90.0</td>\n",
       "      <td>65.0</td>\n",
       "      <td>NaN</td>\n",
       "    </tr>\n",
       "    <tr>\n",
       "      <th>51</th>\n",
       "      <td>6.0</td>\n",
       "      <td>252.0</td>\n",
       "      <td>340.0</td>\n",
       "      <td>48.0</td>\n",
       "      <td>NaN</td>\n",
       "    </tr>\n",
       "  </tbody>\n",
       "</table>\n",
       "</div>"
      ],
      "text/plain": [
       "             building_id                                \n",
       "damage_grade     Grade 1 Grade 2 Grade 3 Grade 4 Grade 5\n",
       "district_id                                             \n",
       "7                  102.0   517.0   328.0   101.0     NaN\n",
       "9                  434.0   827.0   495.0   137.0     NaN\n",
       "10                 275.0  1025.0  1149.0   254.0     NaN\n",
       "11                 448.0  1416.0  2020.0   674.0     NaN\n",
       "12                2031.0  2708.0  1545.0   285.0    25.0\n",
       "13                 307.0  1315.0   979.0   417.0     NaN\n",
       "20                2138.0  5060.0  5205.0  2187.0    67.0\n",
       "21                 439.0   898.0  1343.0   659.0    57.0\n",
       "22                 259.0   277.0   212.0   317.0    90.0\n",
       "23                 243.0   523.0   514.0   950.0   312.0\n",
       "24                 967.0  1987.0  2600.0  1753.0   117.0\n",
       "25                 114.0   487.0   955.0  1134.0    63.0\n",
       "26                 109.0   324.0  1036.0  1468.0    60.0\n",
       "27                 162.0   589.0  1224.0  2346.0   148.0\n",
       "28                 509.0   621.0   940.0  2480.0   390.0\n",
       "29                  62.0   130.0   178.0   388.0   116.0\n",
       "30                 533.0  1289.0  1737.0  2440.0   166.0\n",
       "31                3014.0  5029.0  3503.0   822.0    37.0\n",
       "35                 913.0  1676.0  1053.0   221.0     NaN\n",
       "36                 447.0  1132.0  1313.0  1436.0   142.0\n",
       "37                 626.0  2049.0  2041.0  1075.0     NaN\n",
       "38                 898.0  3194.0  2386.0   549.0     NaN\n",
       "39                 667.0  2472.0  1881.0   448.0     NaN\n",
       "40                 397.0  1434.0  1419.0   449.0     NaN\n",
       "43                  17.0   135.0   156.0    31.0     NaN\n",
       "44                 848.0  1489.0  1164.0   300.0     NaN\n",
       "45                 137.0   475.0   345.0    79.0     NaN\n",
       "46                 318.0   790.0   851.0   211.0     NaN\n",
       "47                 754.0  1724.0  1490.0   289.0     NaN\n",
       "48                   1.0    50.0    90.0    65.0     NaN\n",
       "51                   6.0   252.0   340.0    48.0     NaN"
      ]
     },
     "execution_count": 59,
     "metadata": {},
     "output_type": "execute_result"
    }
   ],
   "source": [
    "damaged_repair_used_df.groupby(['district_id','damage_grade']).agg({'building_id':'count'}).unstack(level=1)"
   ]
  },
  {
   "cell_type": "code",
   "execution_count": null,
   "metadata": {},
   "outputs": [],
   "source": []
  }
 ],
 "metadata": {
  "kernelspec": {
   "display_name": "Python 3",
   "language": "python",
   "name": "python3"
  },
  "language_info": {
   "codemirror_mode": {
    "name": "ipython",
    "version": 3
   },
   "file_extension": ".py",
   "mimetype": "text/x-python",
   "name": "python",
   "nbconvert_exporter": "python",
   "pygments_lexer": "ipython3",
   "version": "3.6.5"
  }
 },
 "nbformat": 4,
 "nbformat_minor": 2
}
